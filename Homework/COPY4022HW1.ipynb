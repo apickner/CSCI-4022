{
 "cells": [
  {
   "cell_type": "markdown",
   "metadata": {},
   "source": [
    "# CSCI4022 Homework 1; Review\n",
    "\n",
    "## Due Monday, Sept. 9 at 11:59 pm to Canvas\n",
    "\n",
    "#### Submit this file as a .ipynb with *all cells compiled and run* to the associated dropbox.\n",
    "\n"
   ]
  },
  {
   "cell_type": "code",
   "execution_count": 2,
   "metadata": {},
   "outputs": [],
   "source": [
    "import matplotlib.pyplot as plt\n",
    "import numpy as np\n",
    "import pandas as pd\n",
    "import scipy.stats"
   ]
  },
  {
   "cell_type": "markdown",
   "metadata": {},
   "source": [
    "Name: Adam Ten Hoeve"
   ]
  },
  {
   "cell_type": "markdown",
   "metadata": {},
   "source": [
    "## Problem 1 (Bayes; 10 points)\n",
    "\n",
    "Nationally, 1 in 10000 people have a specific rare disease. Suppose a test for the disease is administered such the probability that a person with the disease returns a positive test is *100%*.  The probability that a person without the disease returns a positive test is .02.\n",
    " - What is the probability that a person tests positive?\n",
    " - What is the probability that a person has the disease *given* they test positive?\n",
    " \n",
    "Use the following markdown cell to show all work in computing the exact answer."
   ]
  },
  {
   "cell_type": "markdown",
   "metadata": {},
   "source": [
    "To solve for the probability that a person tests positive, we can use the Law of Total Probability.\n",
    "$$\n",
    "\\begin{align*}\n",
    "    P(Pos) &= P(Pos|Disease)P(Disease) + P(Pos|Disease^c)P(Disease^c) \\\\\n",
    "    &= (1)(\\frac{1}{10,000}) + (0.02)(\\frac{9,999}{10,000}) \\\\\n",
    "    &= 0.020098\n",
    "\\end{align*}\n",
    "$$\n",
    "\n",
    "To solve for the conditional probability, we can use Bayes' Rule.\n",
    "$$\n",
    "\\begin{align*}\n",
    "    P(Disease|Pos) &= \\dfrac{P(Pos|Disease)P(Disease)}{P(Pos)} \\\\\n",
    "    &= \\dfrac{(0.02)(0.0001)}{(0.020098)} \\\\\n",
    "    &= 0.00498\n",
    "\\end{align*}\n",
    "$$"
   ]
  },
  {
   "cell_type": "markdown",
   "metadata": {},
   "source": [
    "## Problem 2 (Numerics... kind of; 15 points)\n",
    "\n",
    "####  a) Solve for $b$ in the matrix-vector product $$\\begin{bmatrix}a_1 & a_2 \\\\ a_3 & a_4\\end{bmatrix} \\cdot \\begin{bmatrix}x_1\\\\ x_2\\end{bmatrix}=b.$$\n",
    "\n",
    "####  How many computations does this take, if each multiplication and addition is counted as a separate computation?  \n",
    "\n",
    " #### What about for\n",
    "\n",
    "$$\\begin{bmatrix}a_1 & a_2 &a_3 \\\\ a_4 & a_5 &a_6 \\\\ a_7&a_8&a_9 \\end{bmatrix} \\cdot \\begin{bmatrix}x_1\\\\ x_2\\\\x_3\\end{bmatrix}=b?$$\n",
    "\n",
    "Use the following markdown cell to show all work in computing the exact answer.\n"
   ]
  },
  {
   "cell_type": "markdown",
   "metadata": {},
   "source": [
    "For the $2 \\times 2 * 2 \\times 1$:\n",
    "$$ b = \\begin{bmatrix}a_1x_1 + a_2x_2 \\\\ a_3x_1 + a_4x_2\\end{bmatrix}$$\n",
    "\n",
    "Each row takes 2 multiplications and 1 addition, resulting in 3 computations per row. There are 2 rows in the resulting vector, therefor the total number of computations is $2(3) = \\boxed{6 \\text{ computations}}$.\n",
    "\n",
    "\n",
    "For the $3 \\times 3 * 3 \\times 1$:\n",
    "$$ b = \\begin{bmatrix}\n",
    "a_1x_1 + a_2x_2 + a_3x_3 \\\\ \n",
    "a_4x_1 + a_5x_2 + a_6x_3 \\\\\n",
    "a_7x_1 + a_8x_2 + a_9x_3\n",
    "\\end{bmatrix}$$\n",
    "\n",
    "Each row has 3 multiplications and 2 additions, which results in 5 computations per row. There are 3 rows in the resulting vector, therefor the total number of computations is $3(5) = \\boxed{15 \\text{ computations}}$."
   ]
  },
  {
   "cell_type": "markdown",
   "metadata": {},
   "source": [
    "\n",
    "####  b) How many computations does matrix-vector computation take if the matrix $A$ is a square $n \\times n$ matrix and the vector $x$ is $n \\times 1$? \n",
    "\n",
    "Visually:\n",
    "\n",
    "$$\\begin{bmatrix} \n",
    "    a_{11} & a_{12} & \\dots \\\\\n",
    "    \\vdots & \\ddots & \\\\\n",
    "    a_{n1} &        & a_{nn} \n",
    "    \\end{bmatrix}  \\cdot \\begin{bmatrix}x_1\\\\ \\vdots \\\\x_n\\end{bmatrix}=b$$\n",
    "\n",
    "Use the following markdown cell to show all work in computing the exact answer.\n"
   ]
  },
  {
   "cell_type": "markdown",
   "metadata": {},
   "source": [
    "To begin, lets think in terms of a $1 \\times n \\cdot n \\times 1$ computation.\n",
    "\n",
    "$$\n",
    "\\begin{bmatrix}\n",
    "    a_{11} & a_{12} & \\dots & a_{1n}\n",
    "\\end{bmatrix}\n",
    "\\cdot\n",
    "\\begin{bmatrix}\n",
    "    x_{11} \\\\\n",
    "    \\vdots \\\\\n",
    "    x_{n1}\n",
    "\\end{bmatrix}\n",
    "$$\n",
    "\n",
    "Each element in the row vector will be multiplied by one element of the column vector: $a_{11} \\cdot x_{11}, \\space a_{12} \\cdot x_{21}, \\space \\dots, \\space a_{1n} \\cdot x_{n1}$. This takes n compuations. \n",
    "\n",
    "Next, we add each product together to get a single scalar value: $a_{11}x_{11}+a_{12}x_{21} + \\dots + a_{1n}x_{n1}$. If $n=2$, then there is 1 addition. If $n=3$, there are 2 additions. Following this pattern, we can see that there are $n-1$ additions for our n dimensional vector.\n",
    "\n",
    "In total, it takes $n + (n-1) = 2n - 1$ computations to multiply our row vector and column vector. We will perform this row $\\times$ column multiplication for each row in matrix $A$, which is $n$ times. Therefor, it takes $n(2n-1)= \\boxed{2n^2-n \\text{ computations}}$."
   ]
  },
  {
   "cell_type": "markdown",
   "metadata": {},
   "source": [
    "#### c) How many computations does square matrix-matrix multiplication take if each matrix is $n \\times n$? \n",
    "\n",
    "For example:\n",
    "\n",
    "$$\\begin{bmatrix} \n",
    "    a_{11} & a_{12} & \\dots \\\\\n",
    "    \\vdots & \\ddots & \\\\\n",
    "    a_{n1} &        & a_{nn} \n",
    "    \\end{bmatrix} \\cdot \n",
    "    \\begin{bmatrix} \n",
    "    b_{11} & b_{12} & \\dots \\\\\n",
    "    \\vdots & \\ddots & \\\\\n",
    "    b_{n1} &        & b_{nn} \n",
    "    \\end{bmatrix}=C$$\n",
    "    \n",
    "Hint: how many computations for the entry $c_{ij}$ in row $i$, column $j$?\n",
    "\n",
    "If $n=10^4$, what number is this?"
   ]
  },
  {
   "cell_type": "markdown",
   "metadata": {},
   "source": [
    "Similar to problem *b*, each cell $c_{ij}$ requires the $n$ products between a row in $A$ and a column in $B$, and then $n-1$ additional addition operations to add those products together. This means each cell in $C$ takes $2n-1$ calculations.\n",
    "\n",
    "There are $n \\times n = n^2$ cells in matrix $C$. Therefor it takes $n^2(2n-1) = \\boxed{2n^3-n^2 \\text{calculations}}$ to perform matrix-matrix multiplication on two $n \\times n$ matricies.\n",
    "\n",
    "When $n=10^4$, that is $2(10^4)^3-(10^4)^2 = 2(10^{12}) - 10^8 = 1,999,900,000,000 = \\boxed{1.9999 * 10^{12}}$ calculations."
   ]
  },
  {
   "cell_type": "markdown",
   "metadata": {},
   "source": [
    "## Problem 3 (EDA, SLR; 20 points)\n",
    "\n",
    "NOAA's Physical Sciences division (https://www.esrl.noaa.gov/psd) houses an enormous amount of weather data.  Load `hw1BoulderPPT.csv` from the course page for the last 100 years of monthly precipitation data from Boulder.\n",
    "\n",
    "#### a) When the amount of precipitation was nonzero but too small to be recorded, this data set recorded `tr`.  Replace these with zeroes."
   ]
  },
  {
   "cell_type": "code",
   "execution_count": 3,
   "metadata": {},
   "outputs": [
    {
     "data": {
      "text/html": [
       "<div>\n",
       "<style scoped>\n",
       "    .dataframe tbody tr th:only-of-type {\n",
       "        vertical-align: middle;\n",
       "    }\n",
       "\n",
       "    .dataframe tbody tr th {\n",
       "        vertical-align: top;\n",
       "    }\n",
       "\n",
       "    .dataframe thead th {\n",
       "        text-align: right;\n",
       "    }\n",
       "</style>\n",
       "<table border=\"1\" class=\"dataframe\">\n",
       "  <thead>\n",
       "    <tr style=\"text-align: right;\">\n",
       "      <th></th>\n",
       "      <th>Year</th>\n",
       "      <th>JAN</th>\n",
       "      <th>FEB</th>\n",
       "      <th>MAR</th>\n",
       "      <th>APR</th>\n",
       "      <th>MAY</th>\n",
       "      <th>JUN</th>\n",
       "      <th>JUL</th>\n",
       "      <th>AUG</th>\n",
       "      <th>SEP</th>\n",
       "      <th>OCT</th>\n",
       "      <th>NOV</th>\n",
       "      <th>DEC</th>\n",
       "      <th>YEAR TOTAL</th>\n",
       "    </tr>\n",
       "  </thead>\n",
       "  <tbody>\n",
       "    <tr>\n",
       "      <th>0</th>\n",
       "      <td>1919</td>\n",
       "      <td>0.00</td>\n",
       "      <td>0.32</td>\n",
       "      <td>1.49</td>\n",
       "      <td>1.65</td>\n",
       "      <td>0.88</td>\n",
       "      <td>1.10</td>\n",
       "      <td>7.46</td>\n",
       "      <td>0.95</td>\n",
       "      <td>0.88</td>\n",
       "      <td>1.31</td>\n",
       "      <td>2.07</td>\n",
       "      <td>0.50</td>\n",
       "      <td>18.61</td>\n",
       "    </tr>\n",
       "    <tr>\n",
       "      <th>1</th>\n",
       "      <td>1920</td>\n",
       "      <td>1.22</td>\n",
       "      <td>1.39</td>\n",
       "      <td>0.58</td>\n",
       "      <td>4.07</td>\n",
       "      <td>1.61</td>\n",
       "      <td>1.87</td>\n",
       "      <td>0.68</td>\n",
       "      <td>2.55</td>\n",
       "      <td>0.73</td>\n",
       "      <td>2.43</td>\n",
       "      <td>0.72</td>\n",
       "      <td>0.85</td>\n",
       "      <td>18.70</td>\n",
       "    </tr>\n",
       "    <tr>\n",
       "      <th>2</th>\n",
       "      <td>1921</td>\n",
       "      <td>0.11</td>\n",
       "      <td>0.31</td>\n",
       "      <td>0.77</td>\n",
       "      <td>4.81</td>\n",
       "      <td>1.50</td>\n",
       "      <td>3.62</td>\n",
       "      <td>1.53</td>\n",
       "      <td>2.00</td>\n",
       "      <td>0.17</td>\n",
       "      <td>1.13</td>\n",
       "      <td>0.98</td>\n",
       "      <td>1.46</td>\n",
       "      <td>18.39</td>\n",
       "    </tr>\n",
       "    <tr>\n",
       "      <th>3</th>\n",
       "      <td>1922</td>\n",
       "      <td>0.63</td>\n",
       "      <td>0.59</td>\n",
       "      <td>0.81</td>\n",
       "      <td>3.32</td>\n",
       "      <td>1.02</td>\n",
       "      <td>0.62</td>\n",
       "      <td>1.04</td>\n",
       "      <td>1.50</td>\n",
       "      <td>0.00</td>\n",
       "      <td>1.13</td>\n",
       "      <td>2.58</td>\n",
       "      <td>0.56</td>\n",
       "      <td>13.80</td>\n",
       "    </tr>\n",
       "    <tr>\n",
       "      <th>4</th>\n",
       "      <td>1923</td>\n",
       "      <td>0.00</td>\n",
       "      <td>1.71</td>\n",
       "      <td>2.29</td>\n",
       "      <td>1.29</td>\n",
       "      <td>3.47</td>\n",
       "      <td>4.44</td>\n",
       "      <td>2.46</td>\n",
       "      <td>2.68</td>\n",
       "      <td>0.84</td>\n",
       "      <td>5.43</td>\n",
       "      <td>0.40</td>\n",
       "      <td>0.88</td>\n",
       "      <td>25.89</td>\n",
       "    </tr>\n",
       "  </tbody>\n",
       "</table>\n",
       "</div>"
      ],
      "text/plain": [
       "   Year   JAN   FEB   MAR   APR   MAY   JUN   JUL   AUG   SEP   OCT   NOV  \\\n",
       "0  1919  0.00  0.32  1.49  1.65  0.88  1.10  7.46  0.95  0.88  1.31  2.07   \n",
       "1  1920  1.22  1.39  0.58  4.07  1.61  1.87  0.68  2.55  0.73  2.43  0.72   \n",
       "2  1921  0.11  0.31  0.77  4.81  1.50  3.62  1.53  2.00  0.17  1.13  0.98   \n",
       "3  1922  0.63  0.59  0.81  3.32  1.02  0.62  1.04  1.50  0.00  1.13  2.58   \n",
       "4  1923  0.00  1.71  2.29  1.29  3.47  4.44  2.46  2.68  0.84  5.43  0.40   \n",
       "\n",
       "    DEC  YEAR TOTAL  \n",
       "0  0.50       18.61  \n",
       "1  0.85       18.70  \n",
       "2  1.46       18.39  \n",
       "3  0.56       13.80  \n",
       "4  0.88       25.89  "
      ]
     },
     "execution_count": 3,
     "metadata": {},
     "output_type": "execute_result"
    }
   ],
   "source": [
    "df = pd.read_csv(\"hw1BoulderPPT.csv\")\n",
    "df.replace(\"Tr\", 0, inplace=True)\n",
    "df = df.apply(pd.to_numeric)\n",
    "df.head()"
   ]
  },
  {
   "cell_type": "markdown",
   "metadata": {},
   "source": [
    "#### b) Generate a series of 12 box plots with month as the x axis and precipitation on the y-axis."
   ]
  },
  {
   "cell_type": "code",
   "execution_count": 4,
   "metadata": {},
   "outputs": [
    {
     "data": {
      "image/png": "[encoded data removed]",
      "text/plain": [
       "<Figure size 1152x432 with 1 Axes>"
      ]
     },
     "metadata": {
      "needs_background": "light"
     },
     "output_type": "display_data"
    }
   ],
   "source": [
    "# percip_per_month = [df[[\"JAN\"]], df[[\"FEB\"]], df[[\"MAR\"]], df[[\"APR\"]], df[[\"MAY\"]], df[[\"JUN\"]], df[[\"JUL\"]], df[[\"AUG\"]], df[[\"SEP\"]], df[[\"OCT\"]], df[[\"NOV\"]], df[[\"DEC\"]]]\n",
    "percip_per_month = [df.iloc[:, i] for i in range(1, 13)]\n",
    "\n",
    "fig, ax = plt.subplots(1, 1, figsize=(16, 6))\n",
    "ax.boxplot(percip_per_month)\n",
    "ax.set_ylabel(\"Percipitation (Inches)\")\n",
    "ax.set_xlabel(\"Month\")\n",
    "ax.set_xticklabels([\"JAN\", \"FEB\", \"MAR\", \"APR\", \"MAY\", \"JUN\", \"JUL\", \"AUG\", \"SEP\", \"OCT\", \"NOV\", \"DEC\"])\n",
    "ax.set_title(\"Boxplots of Percipitation Per Month\");"
   ]
  },
  {
   "cell_type": "markdown",
   "metadata": {},
   "source": [
    "\n",
    "#### c) Atmospheric scientists love to group months seasonally, breaking the year into a Winter season including December, January, February; a Spring included March, April, and May; and so forth. Generate a series of 4 box plots with season as the x axis and precipitation on the y-axis.\n",
    "\n"
   ]
  },
  {
   "cell_type": "code",
   "execution_count": 5,
   "metadata": {},
   "outputs": [
    {
     "data": {
      "image/png": "[encoded data removed]",
      "text/plain": [
       "<Figure size 1152x432 with 1 Axes>"
      ]
     },
     "metadata": {
      "needs_background": "light"
     },
     "output_type": "display_data"
    }
   ],
   "source": [
    "df[\"Winter\"] = df[\"DEC\"] + df[\"JAN\"] + df[\"FEB\"]\n",
    "df[\"Spring\"] = df[\"MAR\"] + df[\"APR\"] + df[\"MAY\"]\n",
    "df[\"Summer\"] = df[\"JUN\"] + df[\"JUL\"] + df[\"AUG\"]\n",
    "df[\"Fall\"] = df[\"SEP\"] + df[\"OCT\"] + df[\"NOV\"]\n",
    "\n",
    "percip_per_season = [df[\"Winter\"], df[\"Spring\"], df[\"Summer\"], df[\"Fall\"]]\n",
    "fig, ax = plt.subplots(1, 1, figsize=(16, 6))\n",
    "ax.boxplot(percip_per_season)\n",
    "ax.set_ylabel(\"Percipitation (inches)\")\n",
    "ax.set_xlabel(\"Season\")\n",
    "ax.set_xticklabels([\"Winter\", \"Spring\", \"Summer\", \"Fall\"])\n",
    "ax.set_title(\"Amount of Percipitation per Season\");"
   ]
  },
  {
   "cell_type": "markdown",
   "metadata": {},
   "source": [
    "#### d) Calculute the mean and standard deviation of the September precipitation in this set.  Suppose monthly precipitation in September is normally distributed with this mean and standard deviation.  If this is true, what is the associated probability of observing `18.16 inches`  of rainfall in any given September, as occurs in 2013?  Explain."
   ]
  },
  {
   "cell_type": "code",
   "execution_count": 20,
   "metadata": {},
   "outputs": [
    {
     "name": "stdout",
     "output_type": "stream",
     "text": [
      "The mean percipitation of September is 1.6582\n",
      "The standard deviation of Septermber percipitation is 2.0696\n"
     ]
    }
   ],
   "source": [
    "mean = df[\"SEP\"].mean()\n",
    "std = df[\"SEP\"].std()\n",
    "\n",
    "print(\"The mean percipitation of September is {:0.4f}\".format(mean))\n",
    "print(\"The standard deviation of Septermber percipitation is {:0.4f}\".format(std))"
   ]
  },
  {
   "cell_type": "markdown",
   "metadata": {},
   "source": [
    "Assuming that the amount of rain is normally distributed with mean 1.6582 and standard deviation 2.0696, the probability of observing at least 18.16 inches of rain can be expressed by:\n",
    "\n",
    "$$\n",
    "\\begin{align*}\n",
    "    P(X \\ge 18.16) &= 1 - P(X < 18.16) \\\\\n",
    "                   &= 1 - P(\\frac{X-1.66}{2.07} < \\frac{18.16-1.66}{2.07}) \\\\\n",
    "                   &= 1 - P(Z < 7.97) \\\\\n",
    "                   &= 1 - \\Phi(7.97) \\\\\n",
    "                   &\\approx \\boxed{ 7.7716 \\times 10^{-16} }\n",
    "\\end{align*}\n",
    "$$\n",
    "\n",
    "\n",
    "\n",
    "$7.77 \\times 10^{-16}$ is a very small probability. The normal distribution has higher probabilities for values closer to the mean, and lower probabilities for values further away. Therefor, it makes sense that we got a very low probability because 18.16 is almost 9 standard deviations from the mean, which is a very far distance."
   ]
  },
  {
   "cell_type": "markdown",
   "metadata": {},
   "source": [
    "#### e) Following the distribution in part d); what is the associated probability of observing `18.16 inches`  of rainfall in *any* September of 100 observed, assuming each year is independent?  Explain."
   ]
  },
  {
   "cell_type": "markdown",
   "metadata": {},
   "source": [
    "The probability that that any year contains 18.16 inches of rainfall is the same as the complement to the probability that none of the years contain 18.16 inches of rainfall.\n",
    "\n",
    "$$ P(\\text{any are 18.16}) = 1 - P(\\text{none are 18.16}) $$\n",
    "\n",
    "Because they are independent trials, we can solve the probability that none are 18.16 inches by taking the product of each event not being 18.16 inches. For example, if we had 2 years of data, then the probability that we did not observe 18.16 inches would be:\n",
    "\n",
    "$$ \n",
    "\\begin{align*}\n",
    "P(\\text{Not observed in 2 years}) &= P(\\text{Not observed in year 1})*P(\\text{Not observed in year 2}) \\\\\n",
    "                                   &\\stackrel{iid}{=} P(\\text{Not observed})^2 \\\\\n",
    "                                   &= (1 - 7.7716*10^{-16})^2\n",
    "\\end{align*}\n",
    "$$\n",
    "\n",
    "Following this logic, for 100 observed trials, we would get the probability to be:\n",
    "$$\n",
    "\\begin{align*}\n",
    "   P(\\text{Any are 18.16}) &= 1 - P(\\text{Not Observed})^{100} \\\\\n",
    "   &= 1 - (1 - 7.7716*10^{-16})^{100} \\\\\n",
    "   &\\approx \\boxed{ 7.7716 \\times 10^{-14} }\n",
    "\\end{align*}\n",
    "$$"
   ]
  },
  {
   "cell_type": "markdown",
   "metadata": {},
   "source": [
    "#### f) Construct a linear model to determine whether year is a significant predictor of annual precipitation.  Is there evidence to suggest that precipitation in Boulder has changed over time?  Include a plot of the residuals of your model over time.  Is there evidence to suggest that each year may not be independent of the prior year?"
   ]
  },
  {
   "cell_type": "code",
   "execution_count": 9,
   "metadata": {},
   "outputs": [
    {
     "name": "stderr",
     "output_type": "stream",
     "text": [
      "D:\\Anaconda\\lib\\site-packages\\numpy\\core\\fromnumeric.py:2389: FutureWarning: Method .ptp is deprecated and will be removed in a future version. Use numpy.ptp instead.\n",
      "  return ptp(axis=axis, out=out, **kwargs)\n"
     ]
    }
   ],
   "source": [
    "import statsmodels.api as sm\n",
    "    \n",
    "X = df[\"Year\"]\n",
    "X = sm.add_constant(X)\n",
    "y = df[\"YEAR TOTAL\"]\n",
    "\n",
    "model = sm.OLS(y, X)\n",
    "results = model.fit()"
   ]
  },
  {
   "cell_type": "code",
   "execution_count": 10,
   "metadata": {},
   "outputs": [
    {
     "data": {
      "text/html": [
       "<table class=\"simpletable\">\n",
       "<caption>OLS Regression Results</caption>\n",
       "<tr>\n",
       "  <th>Dep. Variable:</th>       <td>YEAR TOTAL</td>    <th>  R-squared:         </th> <td>   0.068</td>\n",
       "</tr>\n",
       "<tr>\n",
       "  <th>Model:</th>                   <td>OLS</td>       <th>  Adj. R-squared:    </th> <td>   0.058</td>\n",
       "</tr>\n",
       "<tr>\n",
       "  <th>Method:</th>             <td>Least Squares</td>  <th>  F-statistic:       </th> <td>   7.101</td>\n",
       "</tr>\n",
       "<tr>\n",
       "  <th>Date:</th>             <td>Mon, 09 Sep 2019</td> <th>  Prob (F-statistic):</th>  <td>0.00901</td>\n",
       "</tr>\n",
       "<tr>\n",
       "  <th>Time:</th>                 <td>15:50:36</td>     <th>  Log-Likelihood:    </th> <td> -291.49</td>\n",
       "</tr>\n",
       "<tr>\n",
       "  <th>No. Observations:</th>      <td>   100</td>      <th>  AIC:               </th> <td>   587.0</td>\n",
       "</tr>\n",
       "<tr>\n",
       "  <th>Df Residuals:</th>          <td>    98</td>      <th>  BIC:               </th> <td>   592.2</td>\n",
       "</tr>\n",
       "<tr>\n",
       "  <th>Df Model:</th>              <td>     1</td>      <th>                     </th>     <td> </td>   \n",
       "</tr>\n",
       "<tr>\n",
       "  <th>Covariance Type:</th>      <td>nonrobust</td>    <th>                     </th>     <td> </td>   \n",
       "</tr>\n",
       "</table>\n",
       "<table class=\"simpletable\">\n",
       "<tr>\n",
       "    <td></td>       <th>coef</th>     <th>std err</th>      <th>t</th>      <th>P>|t|</th>  <th>[0.025</th>    <th>0.975]</th>  \n",
       "</tr>\n",
       "<tr>\n",
       "  <th>const</th> <td>  -62.5472</td> <td>   30.752</td> <td>   -2.034</td> <td> 0.045</td> <td> -123.573</td> <td>   -1.521</td>\n",
       "</tr>\n",
       "<tr>\n",
       "  <th>Year</th>  <td>    0.0416</td> <td>    0.016</td> <td>    2.665</td> <td> 0.009</td> <td>    0.011</td> <td>    0.073</td>\n",
       "</tr>\n",
       "</table>\n",
       "<table class=\"simpletable\">\n",
       "<tr>\n",
       "  <th>Omnibus:</th>       <td> 4.967</td> <th>  Durbin-Watson:     </th> <td>   2.285</td>\n",
       "</tr>\n",
       "<tr>\n",
       "  <th>Prob(Omnibus):</th> <td> 0.083</td> <th>  Jarque-Bera (JB):  </th> <td>   4.866</td>\n",
       "</tr>\n",
       "<tr>\n",
       "  <th>Skew:</th>          <td> 0.539</td> <th>  Prob(JB):          </th> <td>  0.0878</td>\n",
       "</tr>\n",
       "<tr>\n",
       "  <th>Kurtosis:</th>      <td> 2.929</td> <th>  Cond. No.          </th> <td>1.34e+05</td>\n",
       "</tr>\n",
       "</table><br/><br/>Warnings:<br/>[1] Standard Errors assume that the covariance matrix of the errors is correctly specified.<br/>[2] The condition number is large, 1.34e+05. This might indicate that there are<br/>strong multicollinearity or other numerical problems."
      ],
      "text/plain": [
       "<class 'statsmodels.iolib.summary.Summary'>\n",
       "\"\"\"\n",
       "                            OLS Regression Results                            \n",
       "==============================================================================\n",
       "Dep. Variable:             YEAR TOTAL   R-squared:                       0.068\n",
       "Model:                            OLS   Adj. R-squared:                  0.058\n",
       "Method:                 Least Squares   F-statistic:                     7.101\n",
       "Date:                Mon, 09 Sep 2019   Prob (F-statistic):            0.00901\n",
       "Time:                        15:50:36   Log-Likelihood:                -291.49\n",
       "No. Observations:                 100   AIC:                             587.0\n",
       "Df Residuals:                      98   BIC:                             592.2\n",
       "Df Model:                           1                                         \n",
       "Covariance Type:            nonrobust                                         \n",
       "==============================================================================\n",
       "                 coef    std err          t      P>|t|      [0.025      0.975]\n",
       "------------------------------------------------------------------------------\n",
       "const        -62.5472     30.752     -2.034      0.045    -123.573      -1.521\n",
       "Year           0.0416      0.016      2.665      0.009       0.011       0.073\n",
       "==============================================================================\n",
       "Omnibus:                        4.967   Durbin-Watson:                   2.285\n",
       "Prob(Omnibus):                  0.083   Jarque-Bera (JB):                4.866\n",
       "Skew:                           0.539   Prob(JB):                       0.0878\n",
       "Kurtosis:                       2.929   Cond. No.                     1.34e+05\n",
       "==============================================================================\n",
       "\n",
       "Warnings:\n",
       "[1] Standard Errors assume that the covariance matrix of the errors is correctly specified.\n",
       "[2] The condition number is large, 1.34e+05. This might indicate that there are\n",
       "strong multicollinearity or other numerical problems.\n",
       "\"\"\""
      ]
     },
     "execution_count": 10,
     "metadata": {},
     "output_type": "execute_result"
    }
   ],
   "source": [
    "results.summary()"
   ]
  },
  {
   "cell_type": "code",
   "execution_count": 11,
   "metadata": {},
   "outputs": [
    {
     "data": {
      "image/png": "[encoded data removed]",
      "text/plain": [
       "<Figure size 864x576 with 4 Axes>"
      ]
     },
     "metadata": {
      "needs_background": "light"
     },
     "output_type": "display_data"
    }
   ],
   "source": [
    "fig = plt.figure(figsize=(12,8))\n",
    "fig = sm.graphics.plot_regress_exog(results, \"Year\", fig=fig)"
   ]
  },
  {
   "cell_type": "code",
   "execution_count": 113,
   "metadata": {},
   "outputs": [
    {
     "data": {
      "image/png": "[encoded data removed]",
      "text/plain": [
       "<Figure size 1152x864 with 1 Axes>"
      ]
     },
     "metadata": {
      "needs_background": "light"
     },
     "output_type": "display_data"
    }
   ],
   "source": [
    "fig, ax = plt.subplots(1, 1, figsize=(16,12))\n",
    "\n",
    "ax.plot(results.resid[0:-1], results.resid[1:], \"bo\")\n",
    "ax.set_title(\"Plot of Sequential Residuals\")\n",
    "ax.set_xlabel(\"Residual i\")\n",
    "ax.set_ylabel(\"Residual i+1\");"
   ]
  },
  {
   "cell_type": "markdown",
   "metadata": {},
   "source": [
    "After fitting our model, we see that the Year parameter has a coefficient of 0.0416. This implies some minor increase in rainfall as the years increase. The p-value of this feature is 0.009, which is less than 0.05, which means that it is significant and the amount of rainfall is changing over time."
   ]
  },
  {
   "cell_type": "markdown",
   "metadata": {},
   "source": [
    "In the collection of four plots above, we will only look at the top right one. From that plot we can see that there is no clear structure to the residuals as they are roughly evenly distributed around 0. This means that the residuals likely aren't correlated to the previous year."
   ]
  },
  {
   "cell_type": "markdown",
   "metadata": {},
   "source": [
    "From the plot of Sequential Residuals, we can determine if there is a pattern in how one year affects the next year. If there was some obvious structure to the graph, then we could make the observation that the errors are not independent, and therefor are influenced by the previous year. Because there is not any obvious structure, this also supports our claim that each year's percipitation is independent from the previous year."
   ]
  },
  {
   "cell_type": "markdown",
   "metadata": {},
   "source": [
    "## Problem 4 (Hypothesis Simulation; 15 points)\n"
   ]
  },
  {
   "cell_type": "markdown",
   "metadata": {},
   "source": [
    "One question we will often be tasked with in the semester is asking what \"random\" looks like.  In hypothesis testing, we typically ask \"what is the probability of observing *this* test statistic if everything is fair/random.\"  We can then do so for a variety of test statistics (`Z`, `T`, proportions, sample variances, etc.) to draw conclusions like \"That doesn't look random!  It's extremely unlikely to happen under the **null hypothesis**, so we reject that hypothesis.\"\n",
    "\n",
    "As we develop new tools this semester, simulation can help us determine what our tools do if everything is random, which helps provide context to the answers we get on real data - which ideally includes a real signal in it that we want to discover."
   ]
  },
  {
   "cell_type": "markdown",
   "metadata": {},
   "source": [
    "## How correlated is really correlated?\n",
    "\n",
    "The code below simulates from the bivariate normal distribution, which we'll use later this semester.  In brief, it simulates a list of points (called `rnorms` below) as an $j \\times 2$ array where each of the `j` rows is an $(x,y)$ point.  We can either simulate these two column vectors $X$ and $Y$ so they're actually independent and the true correlation coefficient $\\rho_{xy}=0$ OR we can simulate them with actual correlations included.\n",
    "\n",
    "We want to know how much correlation is required for us to be able to meaningfully detect it.  Note that our simulated \"*sample*\" correlation coefficients never actually match the true value!\n",
    "\n",
    "Example code:"
   ]
  },
  {
   "cell_type": "code",
   "execution_count": 117,
   "metadata": {},
   "outputs": [
    {
     "name": "stdout",
     "output_type": "stream",
     "text": [
      "[[1.        0.0183285]\n",
      " [0.0183285 1.       ]]\n",
      "[[1.         0.87144217]\n",
      " [0.87144217 1.        ]]\n"
     ]
    },
    {
     "data": {
      "text/plain": [
       "<matplotlib.collections.PathCollection at 0x219cc22d710>"
      ]
     },
     "execution_count": 117,
     "metadata": {},
     "output_type": "execute_result"
    },
    {
     "data": {
      "image/png": "[encoded data removed]",
      "text/plain": [
       "<Figure size 432x288 with 1 Axes>"
      ]
     },
     "metadata": {
      "needs_background": "light"
     },
     "output_type": "display_data"
    }
   ],
   "source": [
    "rho=0\n",
    "rnorms=np.random.multivariate_normal([0,0], [[1,rho],[rho,1]],50)  #sample of size j=50 indepenent N(0,1)\n",
    "print(np.corrcoef(rnorms[:,0],y=rnorms[:,1]))\n",
    "plt.scatter(rnorms[:,0],y=rnorms[:,1]) #sanity check... do they look uncorrelated?\n",
    "\n",
    "\n",
    "rho=.8\n",
    "rnorms=np.random.multivariate_normal([0,0], [[1,rho],[rho,1]],50)  #sample of size j=50 rho=.8 N(0,1)\n",
    "print(np.corrcoef(rnorms[:,0],y=rnorms[:,1]))\n",
    "plt.scatter(rnorms[:,0],y=rnorms[:,1]) #sanity check... do they look correlated?"
   ]
  },
  {
   "cell_type": "markdown",
   "metadata": {},
   "source": [
    "##### a) Our goal is to understand at what point we can actually tell whether or not things are correlated. To this end, let the example code above guide you to code that allows you to:\n",
    "\n",
    " - i) Generate a sample of `j=10` bivariate normals (of mean 0, variance 1) that are uncorrelated.  Calculate the correlation of this sample.\n",
    " - ii) Repeat step `i` 1000 times.  Save all 1000 correlation coefficients.\n",
    " - iii) Repeat steps `i` and `ii` for `j=100` and `j=1000`.  We now have 3000 correlation coefficients across 3 values of `j`.\n",
    " \n"
   ]
  },
  {
   "cell_type": "code",
   "execution_count": 4,
   "metadata": {},
   "outputs": [],
   "source": [
    "mean = 0\n",
    "var = 1"
   ]
  },
  {
   "cell_type": "code",
   "execution_count": 5,
   "metadata": {},
   "outputs": [
    {
     "data": {
      "image/png": "[encoded data removed]",
      "text/plain": [
       "<Figure size 432x288 with 1 Axes>"
      ]
     },
     "metadata": {
      "needs_background": "light"
     },
     "output_type": "display_data"
    }
   ],
   "source": [
    "# part (i)\n",
    "j = 10\n",
    "# Generate j uncorrelated samples\n",
    "rnorms = np.random.multivariate_normal([mean, mean], [[var, 0],[0, var]], j)\n",
    "corr = np.corrcoef(rnorms[:,0], y=rnorms[:,1])\n",
    "corr[0, 1]\n",
    "plt.scatter(rnorms[:,0],y=rnorms[:,1]); #sanity check... do they look uncorrelated?"
   ]
  },
  {
   "cell_type": "code",
   "execution_count": 7,
   "metadata": {},
   "outputs": [],
   "source": [
    "# part (ii)\n",
    "corrs = []\n",
    "j = 10\n",
    "for i in range(1000):\n",
    "    rnorms = np.random.multivariate_normal([mean, mean], [[var, 0],[0, var]], j)\n",
    "    corr = np.corrcoef(rnorms[:,0], y=rnorms[:,1])\n",
    "    corrs.append(corr[0, 1])"
   ]
  },
  {
   "cell_type": "code",
   "execution_count": 8,
   "metadata": {},
   "outputs": [
    {
     "data": {
      "text/plain": [
       "3000"
      ]
     },
     "execution_count": 8,
     "metadata": {},
     "output_type": "execute_result"
    }
   ],
   "source": [
    "# part (iii)\n",
    "corrs = []\n",
    "j_samples = [10, 100, 1000]\n",
    "for j in j_samples:\n",
    "    for i in range(1000):\n",
    "        rnorms = np.random.multivariate_normal([mean, mean], [[var, 0],[0, var]], j)\n",
    "        corr = np.corrcoef(rnorms[:,0], y=rnorms[:,1])\n",
    "        corrs.append(corr[0, 1])\n",
    "len(corrs)\n"
   ]
  },
  {
   "cell_type": "code",
   "execution_count": 10,
   "metadata": {},
   "outputs": [
    {
     "data": {
      "text/plain": [
       "1000"
      ]
     },
     "execution_count": 10,
     "metadata": {},
     "output_type": "execute_result"
    }
   ],
   "source": [
    "len(corrs[1000:-1000])"
   ]
  },
  {
   "cell_type": "markdown",
   "metadata": {},
   "source": [
    "Consider testing the null hypothesis:\n",
    "  - $H_0:$ These samples are uncorrelated\n",
    "  \n",
    "  against the alternative\n",
    "  \n",
    "  - $H_a:$ These samples have $\\rho_{xy} \\ne 0$.\n",
    "  \n",
    "#### b) At what sample correlations do we reject the null hypothesis if we set a probability of Type I error equal to .05?"
   ]
  },
  {
   "cell_type": "code",
   "execution_count": 12,
   "metadata": {},
   "outputs": [
    {
     "data": {
      "text/plain": [
       "0.2048606516098483"
      ]
     },
     "execution_count": 12,
     "metadata": {},
     "output_type": "execute_result"
    }
   ],
   "source": [
    "correlated_rho = np.percentile(np.abs(corrs[1000:-1000]), 95)\n",
    "correlated_rho"
   ]
  },
  {
   "cell_type": "markdown",
   "metadata": {},
   "source": [
    "When we assume a probability of Type I error as 0.05, we then reject the null hypothesis if the sample correlation is above (about) $0.1953$. This was taken from the 1000 simulations when j = 100."
   ]
  },
  {
   "cell_type": "markdown",
   "metadata": {},
   "source": [
    "#### c) Use additional simulations as in part a) to determine the power of our test in b) when `j=10`, `j=100`, and `j=1000` if the true correlation coefficient is $\\rho=.1$."
   ]
  },
  {
   "cell_type": "code",
   "execution_count": 13,
   "metadata": {},
   "outputs": [
    {
     "name": "stdout",
     "output_type": "stream",
     "text": [
      "With j = 10, the power of our test was 0.5520\n",
      "With j = 100, the power of our test was 0.1460\n",
      "With j = 1000, the power of our test was 0.0000\n"
     ]
    }
   ],
   "source": [
    "rho = 0.1\n",
    "j_samples = [10, 100, 1000]\n",
    "n_samples = 1000\n",
    "for j in j_samples:\n",
    "    test_corrs = []\n",
    "    for i in range(n_samples):\n",
    "        rnorms = np.random.multivariate_normal([0, 0], [[1, 0.1],[0.1, 1]], j)\n",
    "        corr = np.corrcoef(rnorms[:,0], y=rnorms[:,1])\n",
    "        test_corrs.append(corr[0, 1])\n",
    "    num_above = np.sum([0 if np.abs(corr) < correlated_rho else 1 for corr in test_corrs])\n",
    "    power = num_above / n_samples\n",
    "    print(\"With j = {}, the power of our test was {:0.4f}\".format(j, power))"
   ]
  },
  {
   "cell_type": "markdown",
   "metadata": {},
   "source": [
    "#### d) Use additional simulations as in part a) to determine the power of our test in b) when `j=10`, `j=100`, and `j=1000` if the true correlation coefficient is $\\rho=-.1$.  Should this differ from part c)?"
   ]
  },
  {
   "cell_type": "code",
   "execution_count": 14,
   "metadata": {},
   "outputs": [
    {
     "name": "stdout",
     "output_type": "stream",
     "text": [
      "With j = 10, the power of our test was 0.5970\n",
      "With j = 100, the power of our test was 0.1430\n",
      "With j = 1000, the power of our test was 0.0000\n"
     ]
    }
   ],
   "source": [
    "rho = -0.1\n",
    "j_samples = [10, 100, 1000]\n",
    "n_samples = 1000\n",
    "for j in j_samples:\n",
    "    test_corrs = []\n",
    "    for i in range(n_samples):\n",
    "        rnorms = np.random.multivariate_normal([0, 0], [[1, rho],[rho, 1]], j)\n",
    "        corr = np.corrcoef(rnorms[:,0], y=rnorms[:,1])\n",
    "        test_corrs.append(corr[0, 1])\n",
    "    num_above = np.sum([0 if np.abs(corr) < correlated_rho else 1 for corr in test_corrs])\n",
    "    power = num_above / n_samples\n",
    "    print(\"With j = {}, the power of our test was {:0.4f}\".format(j, power))"
   ]
  },
  {
   "cell_type": "markdown",
   "metadata": {},
   "source": [
    "The powers when $\\rho = 0.1$ and $\\rho = -0.1$ were very similar. This makes sense because we're comparing the absolute values of the correlations, which should be about equal given that they're being generated using the same absolute value of the correlation."
   ]
  }
 ],
 "metadata": {
  "kernelspec": {
   "display_name": "Python 3",
   "language": "python",
   "name": "python3"
  },
  "language_info": {
   "codemirror_mode": {
    "name": "ipython",
    "version": 3
   },
   "file_extension": ".py",
   "mimetype": "text/x-python",
   "name": "python",
   "nbconvert_exporter": "python",
   "pygments_lexer": "ipython3",
   "version": "3.7.9"
  }
 },
 "nbformat": 4,
 "nbformat_minor": 2
}
