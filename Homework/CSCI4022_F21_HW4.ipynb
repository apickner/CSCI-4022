{
 "cells": [
  {
   "cell_type": "markdown",
   "metadata": {},
   "source": [
    "# CSCI4022 Homework 4; GMMs\n",
    "\n",
    "\n",
    "## Due Monday, September 27 at 11:59 pm to Canvas and Gradescope\n",
    "\n",
    "#### Submit this file as a .ipynb with *all cells compiled and run* to the associated dropbox.\n",
    "\n",
    "***\n",
    "\n",
    "Your solutions to computational questions should include any specified Python code and results as well as written commentary on your conclusions.  Remember that you are encouraged to discuss the problems with your classmates, but **you must write all code and solutions on your own**.\n",
    "\n",
    "**NOTES**: \n",
    "\n",
    "- Any relevant data sets should be available on Canvas. To make life easier on the graders if they need to run your code, do not change the relative path names here. Instead, move the files around on your computer.\n",
    "- If you're not familiar with typesetting math directly into Markdown then by all means, do your work on paper first and then typeset it later.  Here is a [reference guide](https://math.meta.stackexchange.com/questions/5020/mathjax-basic-tutorial-and-quick-reference) linked on Canvas on writing math in Markdown. **All** of your written commentary, justifications and mathematical work should be in Markdown.  I also recommend the [wikibook](https://en.wikibooks.org/wiki/LaTeX) for LaTex.\n",
    "- Because you can technically evaluate notebook cells is a non-linear order, it's a good idea to do **Kernel $\\rightarrow$ Restart & Run All** as a check before submitting your solutions.  That way if we need to run your code you will know that it will work as expected. \n",
    "- It is **bad form** to make your reader interpret numerical output from your code.  If a question asks you to compute some value from the data you should show your code output **AND** write a summary of the results in Markdown directly below your code. \n",
    "- 45 points of this assignment are in problems.  The remaining 5 are for neatness, style, and overall exposition of both code and text.\n",
    "- This probably goes without saying, but... For any question that asks you to calculate something, you **must show all work and justify your answers to receive credit**. Sparse or nonexistent work will receive sparse or nonexistent credit. \n",
    "- There is *not a prescribed API* for these problems.  You may answer coding questions with whatever syntax or object typing you deem fit.  Your evaluation will primarily live in the clarity of how well you present your final results, so don't skip over any interpretations!  Your code should still be commented and readable to ensure you followed the given course algorithm.\n",
    "\n",
    "---\n",
    "**Shortcuts:**  [Problem 1](#p1) | [Problem 2](#p2) | [Problem 3](#p3) |\n",
    "---"
   ]
  },
  {
   "cell_type": "code",
   "execution_count": 1,
   "metadata": {},
   "outputs": [],
   "source": [
    "import matplotlib.pyplot as plt\n",
    "import numpy as np\n",
    "import pandas as pd\n",
    "import scipy.stats as stats\n",
    "import statsmodels.api as sm"
   ]
  },
  {
   "cell_type": "markdown",
   "metadata": {},
   "source": [
    "***\n",
    "<a/ id='p1'></a>\n",
    "[Back to top](#top)\n",
    "# Problem 1 (Theory: GMM; 5 pts) \n",
    "In the GMM slides, we stated that the weights $w_m$ of the 1-dimensional GMM with pdf\n",
    "\n",
    "$f(x|\\theta)=w_1\\phi(x|\\mu_1, \\sigma_1^2)+w_2\\phi(x|\\mu_2, \\sigma_2^2)+\\dots+ w_m\\phi(x|\\mu_m, \\sigma_m^2)$\n",
    "\n",
    "required the weights to sum to one.  \n",
    "\n",
    "#### a) Use the following markdown cell to prove this statement.  In a sentence, describe how this proof might change in higher dimensions."
   ]
  },
  {
   "cell_type": "code",
   "execution_count": null,
   "metadata": {},
   "outputs": [],
   "source": []
  },
  {
   "cell_type": "markdown",
   "metadata": {},
   "source": [
    "#### b) Is it possible to have a valid pdf $f(x)$ above if any of the weights $w_k$ are negative?  If not, why not?  If so, what other difficulties might be associated with negative weights?"
   ]
  },
  {
   "cell_type": "code",
   "execution_count": null,
   "metadata": {},
   "outputs": [],
   "source": []
  },
  {
   "cell_type": "markdown",
   "metadata": {},
   "source": [
    "***\n",
    "\n",
    "<a/ id='p2'></a>\n",
    "[Back to top](#top)\n",
    "# Problem 2 (Choose a k? 25 pts)\n",
    "\n",
    "Recall our dataset from HW03 that tracks earthquakes in an area around Fiji.  It contains:\n",
    "\n",
    "`lat`: numeric,\tLatitude of event\n",
    "\n",
    "`long`:\tnumeric,\tLongitude\n",
    "\n",
    "`depth`: numeric,\tDepth (km)\n",
    "\n",
    "`mag`:\tnumeric\tRichter Magnitude\n",
    "\n",
    "`stations`:\tnumeric\tNumber of stations reporting\n",
    "\n",
    "For all prompts, use Euclidean distance ($L_2$).\n",
    "\n",
    "(**NB**: using Euclidean distance on lat/lon data is not technically correct, you classically have to *project* locations onto a 2D map or find their true great-circle distances apart.  We will ignore this here, as the region is small enough to have only minor error due to ignoring curvature of the surface.)\n",
    "\n",
    "Here we will focus on the locational problem of just latitude versus longitude.  Instead of just choosing $k$ as we did before, we might choose a variety of values of $k$ and implement a GMM for each.\n",
    "\n",
    "Shown below is the lat/lon locations of the earthquakes.  Not only is there structure, it has a shape: some data appears in lines that aren't perfect circles.  This is a perfect task for the GMM!"
   ]
  },
  {
   "cell_type": "code",
   "execution_count": 2,
   "metadata": {},
   "outputs": [
    {
     "name": "stderr",
     "output_type": "stream",
     "text": [
      "/usr/local/lib/python3.7/site-packages/statsmodels/datasets/utils.py:192: FutureWarning: `item` has been deprecated and will be removed in a future version\n",
      "  return dataset_meta[\"Title\"].item()\n"
     ]
    },
    {
     "name": "stdout",
     "output_type": "stream",
     "text": [
      "     lat    long  depth  mag  stations\n",
      "0 -20.42  181.62    562  4.8        41\n",
      "1 -20.62  181.03    650  4.2        15\n",
      "2 -26.00  184.10     42  5.4        43\n",
      "3 -17.97  181.66    626  4.1        19\n"
     ]
    },
    {
     "data": {
      "text/plain": [
       "<matplotlib.collections.PathCollection at 0x10b39ce50>"
      ]
     },
     "execution_count": 2,
     "metadata": {},
     "output_type": "execute_result"
    },
    {
     "data": {
      "image/png": "[encoded data removed]",
      "text/plain": [
       "<Figure size 432x288 with 1 Axes>"
      ]
     },
     "metadata": {
      "needs_background": "light"
     },
     "output_type": "display_data"
    }
   ],
   "source": [
    "df=sm.datasets.get_rdataset('quakes').data\n",
    "print(df.head(4))\n",
    "plt.scatter(df['lat'], df['long'])"
   ]
  },
  {
   "cell_type": "markdown",
   "metadata": {},
   "source": [
    "**Part A**:  Write (by hand) a function `GMM(dat, k, init=...)` that performs the EM algorithm for a Gaussian mixture model on a given set of $(X,Y)$ locational data.  You may include random initialization inside the function or as an input.\n",
    "\n",
    "You should run the algorithm for sufficient steps until convergence, and should return at a minimum, the means, 2x2 covariance matrices, and mixture probabilities of each component.  You may also want to return the responsibilities of each datum to the k components for later use, but this is less necessary."
   ]
  },
  {
   "cell_type": "code",
   "execution_count": 35,
   "metadata": {},
   "outputs": [],
   "source": [
    "def build_cov(mean, X, Y):\n",
    "    var_x  = np.sum((X - mean[0]) ** 2)\n",
    "    var_y  = np.sum((Y - mean[1]) ** 2)\n",
    "    cov_xy = np.sum((X - mean[0]) * (Y - mean[1]))\n",
    "    cov    = [[var_x, cov_xy], [cov_xy, var_y]]\n",
    "    return cov\n",
    "\n",
    "'''\n",
    "At first, the added dimension really tripped me up, so I really had to run through nb_06 \n",
    "and work out the example problem and then adapt that to my solution.\n",
    "\n",
    "# Expectation step:\n",
    "#     p_data_given_class1 = stats.norm.pdf(dfA[0], loc=mu1, scale=np.sqrt(var1))\n",
    "#     p_data_given_class2 = stats.norm.pdf(dfA[0], loc=mu2, scale=np.sqrt(var2))\n",
    "#     p_class1_given_data = p_data_given_class1*p_class1\n",
    "#     p_class2_given_data = p_data_given_class2*p_class2\n",
    "#     summ = p_class1_given_data + p_class2_given_data\n",
    "#     p_class1_given_data = p_class1_given_data / summ\n",
    "#     p_class2_given_data = p_class2_given_data / summ\n",
    "'''\n",
    "def Expectation(X, Y, means, weights, covariances):\n",
    "    pts = list(zip(X, Y))\n",
    "    p_data_given_classes  = [stats.multivariate_normal.pdf(pts, mean=means[i], cov=covariances[i]) for i in range(len(means))]\n",
    "    p_classes_given_data  = [p_data_given_classes[i] * weights[i] for i in range(len(weights))]\n",
    "    summ                  = np.sum(p_classes_given_data)\n",
    "    p_classes_given_data /= summ\n",
    "    return p_classes_given_data\n",
    "\n",
    "'''\n",
    "# Maximization step:\n",
    "#     n_class1 = np.sum(p_class1_given_data)\n",
    "#     n_class2 = np.sum(p_class2_given_data)\n",
    "#     pi = n_class2/len(dfA)\n",
    "#     p_class1 = 1-pi\n",
    "#     p_class2 = pi\n",
    "#     mu1 = (1/n_class1)*np.sum(p_class1_given_data*dfA[0])\n",
    "#     mu2 = (1/n_class2)*np.sum(p_class2_given_data*dfA[0])\n",
    "#     var1 = (1/n_class1)*np.sum(p_class1_given_data*((dfA[0]-mu1)**2))\n",
    "#     var2 = (1/n_class2)*np.sum(p_class2_given_data*((dfA[0]-mu2)**2))\n",
    "'''\n",
    "def Maximization(X, Y, p_classes_given_data):\n",
    "    pts = list(zip(X, Y))\n",
    "    n_classes   = [np.sum(p_classes_given_data[i]) for i in range(len(p_classes_given_data))]\n",
    "    weights     = [n_classes[i] / len(pts) for i in range(len(n_classes))]\n",
    "    means       = [((1 / n_classes[i]) * p_classes_given_data[i] * np.matrix(pts)).tolist()[0] for i in range(len(p_classes_given_data))]\n",
    "    covariances = [build_cov(means[i], X, Y) for i in range(k)]\n",
    "    return means, weights, covariances\n",
    "\n",
    "def initialization(X, Y, k, random=False):\n",
    "    pts = list(zip(X, Y))\n",
    "    indices = [i for i in range(len(pts))]\n",
    "    \n",
    "    # choosing initial means\n",
    "    if random:\n",
    "        initial_indices = np.random.choice(indices, k, False)\n",
    "        initial_centers = [pts[index] for index in initial_indices]\n",
    "    else:\n",
    "        initial_indices = np.random.choice(indices, 1, False)\n",
    "        initial_centers = [pts[index] for index in initial_indices]\n",
    "        for _ in range(k-1):\n",
    "            dist = []\n",
    "            for pt in pts:\n",
    "                dist.append(np.sum([np.linalg.norm(np.array(pt) - np.array(initial_centers[i])) for i in range(len(initial_centers))]))\n",
    "            initial_centers.append(pts[dist.index(np.max(dist))])\n",
    "    \n",
    "    means       = initial_centers\n",
    "    weights     = [1/k for i in range(k)]\n",
    "    covariances = [np.cov(X, Y) for i in range(k)]\n",
    "    \n",
    "    return means, weights, covariances\n",
    "\n",
    "def GMM(dataframe, k, init):\n",
    "    X   = df.iloc[:, 0]\n",
    "    Y   = df.iloc[:, 1]\n",
    "    pts = list(zip(X, Y))\n",
    "    \n",
    "    means, weights, covariances = initialization(X, Y, k, False)\n",
    "    \n",
    "    print(means, weights, covariances)\n",
    "    for _ in range(200):\n",
    "        means, weights, covariances = Maximization(X, Y, Expectation(X, Y, means, weights, covariances))\n",
    "    print(means, weights, covariances)\n",
    "    \n",
    "    mixture_probabilities, responsibilities = 0, 0\n",
    "    return means, covariances, mixture_probabilities, responsibilities"
   ]
  },
  {
   "cell_type": "markdown",
   "metadata": {},
   "source": [
    "**Part B**: \n",
    "\n",
    "Run your algorithm for $k=[1,2,3,4,5,6,7,8]$, then create an **elbow plot** of the weighted-mean-distance to component for each choice of $k$.\n",
    "\n",
    "To compute this, take a clustering and its responsibilities $p_{mi}$, then compute the average distance between each point and each cluster, weighted by $p_{mi}$:\n",
    "\n",
    "$$ \\bar{D} = \\sqrt{\\frac{\\sum^n_{i=1}\\sum^k_{m=1} p_{mi} (x_i-\\mu_m)^2}{n}}$$\n",
    "\n",
    "(**Idea**: this averages the distance between each point and the 'closest' cluster, but allows for the soft-clustering nature of points to compute distances between multiple clusters.)\n",
    "\n",
    "\n",
    "Create your elbow plot by making a line plot of the values of $\\bar{D}$ against $k$."
   ]
  },
  {
   "cell_type": "code",
   "execution_count": 36,
   "metadata": {},
   "outputs": [
    {
     "name": "stdout",
     "output_type": "stream",
     "text": [
      "[(-19.76, 181.41), (-38.59, 175.7)] [0.5, 0.5] [array([[ 25.28873768, -11.12669694],\n",
      "       [-11.12669694,  36.83879111]]), array([[ 25.28873768, -11.12669694],\n",
      "       [-11.12669694,  36.83879111]])]\n",
      "[[-20.642501277006193, 179.4652040120979], [-20.642501277006197, 179.4652040120979]] [0.0009884495380867385, 1.1550461913261482e-05] [[[25263.44899936313, -11115.56945306298], [-11115.56945306298, 36801.96245753304]], [[25263.44899936313, -11115.56945306298], [-11115.56945306298, 36801.96245753304]]]\n"
     ]
    }
   ],
   "source": [
    "data = df[['lat', 'long']]\n",
    "# ks   = [1, 2, 3, 4, 5, 6, 7, 8]\n",
    "ks   = [2]\n",
    "\n",
    "\n",
    "for k in ks:\n",
    "    GMM(data, k, None)"
   ]
  },
  {
   "cell_type": "markdown",
   "metadata": {},
   "source": [
    "**Part C**: \n",
    "\n",
    "Based on the plot in part **B**, what looks like the best choice of $k$ for this problem?  Are multiple values in contention?  Explain, and then plot your preferred choice of $k$ where you color each data point according to the cluster with which it has the highest responsibility (i.e. hard cluster based on responsibilities)."
   ]
  },
  {
   "cell_type": "code",
   "execution_count": null,
   "metadata": {},
   "outputs": [],
   "source": []
  },
  {
   "cell_type": "markdown",
   "metadata": {},
   "source": [
    "***\n",
    "<a/ id='p3'></a>\n",
    "[Back to top](#top)\n",
    "# Problem 3 (Simulation on the GMM; 15 pts)\n",
    "\n",
    "\n",
    "Because the GMM is a *generative* model, we could use our results from Problem 2 to not only score models based on their mean-distance-to-centroid (or other statistical measures like AIC, BIC), we could simulate points from the models and visually ascertain whether or not they appear similar to the original distribution.\n",
    "\n",
    "**Part A**: \n",
    "\n",
    "For each of the GMM models in Problem 2 from $k=[2,2,4,5,6,7,8]$, simulate 1000 points from your estimated density function (recall: this is a two-part simulation of choosing a component **then** drawing from the normal of appropriate mean/covariance).\n",
    "\n",
    "Create a figure with 2 columns and 4 rows holding all 8 data sets: the 7 simulated ones and the original data shown above.  Label each plot appropriately.  "
   ]
  },
  {
   "cell_type": "code",
   "execution_count": null,
   "metadata": {},
   "outputs": [],
   "source": []
  },
  {
   "cell_type": "markdown",
   "metadata": {},
   "source": [
    "**Part B**: \n",
    "\n",
    "\n",
    "Which plot or plots look closest to the original data?  Depending on your interpretations of the elbow plot versus the simulated data, you may have decided that we wanted a different value of $k$ for the best model to *simulate* from rather than the best model to *cluster* or classify upon.  Do you think that this is normally the case?  Why or why not?  What properties of a data set would make one task easier or harder with more or less $k$?"
   ]
  },
  {
   "cell_type": "code",
   "execution_count": null,
   "metadata": {},
   "outputs": [],
   "source": []
  }
 ],
 "metadata": {
  "kernelspec": {
   "display_name": "Python 3",
   "language": "python",
   "name": "python3"
  },
  "language_info": {
   "codemirror_mode": {
    "name": "ipython",
    "version": 3
   },
   "file_extension": ".py",
   "mimetype": "text/x-python",
   "name": "python",
   "nbconvert_exporter": "python",
   "pygments_lexer": "ipython3",
   "version": "3.7.10"
  }
 },
 "nbformat": 4,
 "nbformat_minor": 2
}
