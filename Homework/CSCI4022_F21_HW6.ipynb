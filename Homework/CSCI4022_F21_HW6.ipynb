{
 "cells": [
  {
   "cell_type": "markdown",
   "metadata": {},
   "source": [
    "# CSCI4022 Homework 6; Directed Graphs\n",
    "\n",
    "\n",
    "## Due Monday, October 25 at 11:59 pm to Canvas and Gradescope\n",
    "\n",
    "#### Submit this file as a .ipynb with *all cells compiled and run* to the associated dropbox.\n",
    "\n",
    "***\n",
    "\n",
    "Your solutions to computational questions should include any specified Python code and results as well as written commentary on your conclusions.  Remember that you are encouraged to discuss the problems with your classmates, but **you must write all code and solutions on your own**.\n",
    "\n",
    "**NOTES**: \n",
    "\n",
    "- Any relevant data sets should be available on Canvas. To make life easier on the graders if they need to run your code, do not change the relative path names here. Instead, move the files around on your computer.\n",
    "- If you're not familiar with typesetting math directly into Markdown then by all means, do your work on paper first and then typeset it later.  Here is a [reference guide](https://math.meta.stackexchange.com/questions/5020/mathjax-basic-tutorial-and-quick-reference) linked on Canvas on writing math in Markdown. **All** of your written commentary, justifications and mathematical work should be in Markdown.  I also recommend the [wikibook](https://en.wikibooks.org/wiki/LaTeX) for LaTex.\n",
    "- Because you can technically evaluate notebook cells is a non-linear order, it's a good idea to do **Kernel $\\rightarrow$ Restart & Run All** as a check before submitting your solutions.  That way if we need to run your code you will know that it will work as expected. \n",
    "- It is **bad form** to make your reader interpret numerical output from your code.  If a question asks you to compute some value from the data you should show your code output **AND** write a summary of the results in Markdown directly below your code. \n",
    "- 45 points of this assignment are in problems.  The remaining 5 are for neatness, style, and overall exposition of both code and text.\n",
    "- This probably goes without saying, but... For any question that asks you to calculate something, you **must show all work and justify your answers to receive credit**. Sparse or nonexistent work will receive sparse or nonexistent credit. \n",
    "- There is *not a prescribed API* for these problems.  You may answer coding questions with whatever syntax or object typing you deem fit.  Your evaluation will primarily live in the clarity of how well you present your final results, so don't skip over any interpretations!  Your code should still be commented and readable to ensure you followed the given course algorithm.\n",
    "\n",
    "---\n",
    "**Shortcuts:**  [Problem 1](#p1) | [Problem 2](#p2) |\n",
    "---"
   ]
  },
  {
   "cell_type": "code",
   "execution_count": 1,
   "metadata": {},
   "outputs": [],
   "source": [
    "import matplotlib.pyplot as plt\n",
    "import numpy as np\n",
    "import pandas as pd\n",
    "# import scipy.stats as stats\n",
    "# import statsmodels.api as sm"
   ]
  },
  {
   "cell_type": "markdown",
   "metadata": {},
   "source": [
    "***\n",
    "<a/ id='p1'></a>\n",
    "[Back to top](#top)\n",
    "# Problem 1 (Practice: PageRank; 25 pts)\n"
   ]
  },
  {
   "cell_type": "markdown",
   "metadata": {},
   "source": [
    "The file `transfer_list.csv` contains a log of transfers of players between European footbal clubs.  Load it into memory and take a look at the columns.\n",
    "\n",
    "Of particular importance to us are to think of the transfers of players as a **directed graph**, where the team purchasing the player in `Team_to` is spending money (in `Transfer_fee`) to gain the use of the player in each row.  If we were to run PageRank on this graph, it would give us a picture of which teams are importing the most talent!"
   ]
  },
  {
   "cell_type": "code",
   "execution_count": 2,
   "metadata": {},
   "outputs": [
    {
     "data": {
      "text/html": [
       "<div>\n",
       "<style scoped>\n",
       "    .dataframe tbody tr th:only-of-type {\n",
       "        vertical-align: middle;\n",
       "    }\n",
       "\n",
       "    .dataframe tbody tr th {\n",
       "        vertical-align: top;\n",
       "    }\n",
       "\n",
       "    .dataframe thead th {\n",
       "        text-align: right;\n",
       "    }\n",
       "</style>\n",
       "<table border=\"1\" class=\"dataframe\">\n",
       "  <thead>\n",
       "    <tr style=\"text-align: right;\">\n",
       "      <th></th>\n",
       "      <th>Name</th>\n",
       "      <th>Position</th>\n",
       "      <th>Age</th>\n",
       "      <th>Team_from</th>\n",
       "      <th>League_from</th>\n",
       "      <th>Team_to</th>\n",
       "      <th>League_to</th>\n",
       "      <th>Season</th>\n",
       "      <th>Market_value</th>\n",
       "      <th>Transfer_fee</th>\n",
       "    </tr>\n",
       "  </thead>\n",
       "  <tbody>\n",
       "    <tr>\n",
       "      <td>0</td>\n",
       "      <td>Luís Figo</td>\n",
       "      <td>Right Winger</td>\n",
       "      <td>27</td>\n",
       "      <td>FC Barcelona</td>\n",
       "      <td>LaLiga</td>\n",
       "      <td>Real Madrid</td>\n",
       "      <td>LaLiga</td>\n",
       "      <td>2000-2001</td>\n",
       "      <td>NaN</td>\n",
       "      <td>60000000</td>\n",
       "    </tr>\n",
       "    <tr>\n",
       "      <td>1</td>\n",
       "      <td>Hernán Crespo</td>\n",
       "      <td>Centre-Forward</td>\n",
       "      <td>25</td>\n",
       "      <td>Parma</td>\n",
       "      <td>Serie A</td>\n",
       "      <td>Lazio</td>\n",
       "      <td>Serie A</td>\n",
       "      <td>2000-2001</td>\n",
       "      <td>NaN</td>\n",
       "      <td>56810000</td>\n",
       "    </tr>\n",
       "    <tr>\n",
       "      <td>2</td>\n",
       "      <td>Marc Overmars</td>\n",
       "      <td>Left Winger</td>\n",
       "      <td>27</td>\n",
       "      <td>Arsenal</td>\n",
       "      <td>Premier League</td>\n",
       "      <td>FC Barcelona</td>\n",
       "      <td>LaLiga</td>\n",
       "      <td>2000-2001</td>\n",
       "      <td>NaN</td>\n",
       "      <td>40000000</td>\n",
       "    </tr>\n",
       "    <tr>\n",
       "      <td>3</td>\n",
       "      <td>Gabriel Batistuta</td>\n",
       "      <td>Centre-Forward</td>\n",
       "      <td>31</td>\n",
       "      <td>Fiorentina</td>\n",
       "      <td>Serie A</td>\n",
       "      <td>AS Roma</td>\n",
       "      <td>Serie A</td>\n",
       "      <td>2000-2001</td>\n",
       "      <td>NaN</td>\n",
       "      <td>36150000</td>\n",
       "    </tr>\n",
       "    <tr>\n",
       "      <td>4</td>\n",
       "      <td>Nicolas Anelka</td>\n",
       "      <td>Centre-Forward</td>\n",
       "      <td>21</td>\n",
       "      <td>Real Madrid</td>\n",
       "      <td>LaLiga</td>\n",
       "      <td>Paris SG</td>\n",
       "      <td>Ligue 1</td>\n",
       "      <td>2000-2001</td>\n",
       "      <td>NaN</td>\n",
       "      <td>34500000</td>\n",
       "    </tr>\n",
       "  </tbody>\n",
       "</table>\n",
       "</div>"
      ],
      "text/plain": [
       "                Name        Position  Age     Team_from     League_from  \\\n",
       "0          Luís Figo    Right Winger   27  FC Barcelona          LaLiga   \n",
       "1      Hernán Crespo  Centre-Forward   25         Parma         Serie A   \n",
       "2      Marc Overmars     Left Winger   27       Arsenal  Premier League   \n",
       "3  Gabriel Batistuta  Centre-Forward   31    Fiorentina         Serie A   \n",
       "4     Nicolas Anelka  Centre-Forward   21   Real Madrid          LaLiga   \n",
       "\n",
       "        Team_to League_to     Season  Market_value  Transfer_fee  \n",
       "0   Real Madrid    LaLiga  2000-2001           NaN      60000000  \n",
       "1         Lazio   Serie A  2000-2001           NaN      56810000  \n",
       "2  FC Barcelona    LaLiga  2000-2001           NaN      40000000  \n",
       "3       AS Roma   Serie A  2000-2001           NaN      36150000  \n",
       "4      Paris SG   Ligue 1  2000-2001           NaN      34500000  "
      ]
     },
     "execution_count": 2,
     "metadata": {},
     "output_type": "execute_result"
    }
   ],
   "source": [
    "df=pd.read_csv('transfer_list.csv')\n",
    "df.head()"
   ]
  },
  {
   "cell_type": "markdown",
   "metadata": {},
   "source": [
    "**Part A:** Process and explore the data.\n",
    "\n",
    "The data should contain transfers to and from the 5 major European leagues: the Bundesliga in Germany, La Liga in Spain, Ligue 1 in France, Serie A in Italy, and the Premeir League in England.  Verify that these are the only leagues present in either the `League_from` or `League_to` columns.  If not, fix any descrepencies in the data or drop any rows involving other leagues.\n",
    "\n",
    "You may use `re` or `string` methods if you desire.\n",
    "\n"
   ]
  },
  {
   "cell_type": "code",
   "execution_count": 3,
   "metadata": {},
   "outputs": [
    {
     "name": "stdout",
     "output_type": "stream",
     "text": [
      "Before Cleaning:\n",
      "['LaLiga' 'Serie A' 'Premier League' 'Ligue 1' '1.Bundesliga' 'Série A']\n",
      "['LaLiga' 'Serie A' 'Ligue 1' 'Premier League' '1.Bundesliga' 'Série A']\n",
      "After Cleaning:\n",
      "['La Liga' 'Série A' 'Premier League' 'Ligue 1' 'Bundesliga']\n",
      "['La Liga' 'Série A' 'Ligue 1' 'Premier League' 'Bundesliga']\n",
      "\n",
      "Number of unique teams in Team_from: 173\n",
      "Number of unique teams in Team_to: 133\n",
      "Number of all unique teams: 181\n"
     ]
    }
   ],
   "source": [
    "print(\"Before Cleaning:\")\n",
    "print(df.League_from.unique())\n",
    "print(df.League_to.unique())\n",
    "\n",
    "# OCD removing the 1 from Bundesliga\n",
    "df.loc[df.League_to == '1.Bundesliga', 'League_to']     = 'Bundesliga'\n",
    "df.loc[df.League_from == '1.Bundesliga', 'League_from'] = 'Bundesliga'\n",
    "\n",
    "# OCD changing LaLiga to La Liga \n",
    "df.loc[df.League_to == 'LaLiga', 'League_to']     = 'La Liga'\n",
    "df.loc[df.League_from == 'LaLiga', 'League_from'] = 'La Liga'\n",
    "\n",
    "# Adding accent to Serie A\n",
    "df.loc[df.League_to == 'Serie A', 'League_to']     = 'Série A'\n",
    "df.loc[df.League_from == 'Serie A', 'League_from'] = 'Série A'\n",
    "\n",
    "print(\"After Cleaning:\")\n",
    "print(df.League_from.unique())\n",
    "print(df.League_to.unique())\n",
    "\n",
    "print(f'\\nNumber of unique teams in Team_from: {len(df.Team_from.unique())}')\n",
    "print(f'Number of unique teams in Team_to: {len(df.Team_to.unique())}')\n",
    "print(f'Number of all unique teams: {len(set(df.Team_to).union(set(df.Team_from)))}')"
   ]
  },
  {
   "cell_type": "markdown",
   "metadata": {},
   "source": [
    "**Part B:** Create a (near) column-stochasitc transfer matrix where the presence of *any* transfer from team $A$ to $B$ is treated as the existence of an outlink from $A$ to $B$.  If a column is all-zeroes you can easy ensure it's column-stochastic via a constant or leave it as 0's.\n",
    "\n",
    "Describe both the matrix's dimensions and sparsity: what proportion of its entries are 0?"
   ]
  },
  {
   "cell_type": "code",
   "execution_count": 4,
   "metadata": {},
   "outputs": [
    {
     "name": "stdout",
     "output_type": "stream",
     "text": [
      "The matrix is 181 X 181\n",
      "There are 31273 zeros out of 32761 total entries: 95.45801410213363%\n"
     ]
    }
   ],
   "source": [
    "all_teams       = list(set(df.Team_from).union(set(df.Team_to)))\n",
    "n               = len(all_teams)\n",
    "transfer_matrix = np.zeros((n,n))\n",
    "for j, team in enumerate(all_teams):\n",
    "    length = len(list(df.loc[df.Team_from==team].iterrows()))\n",
    "    for row in df.loc[df.Team_from==team].iterrows():\n",
    "        to_team = row[1].Team_to\n",
    "        i = all_teams.index(to_team)\n",
    "        transfer_matrix[i,j] = 1\n",
    "for col in range(n):\n",
    "    s = np.sum(transfer_matrix[:,col])\n",
    "    if s != 0:\n",
    "        transfer_matrix[:,col] /= s\n",
    "# Checking each column sums to 1, it does\n",
    "#     print(np.sum(transfer_matrix[:,col]))\n",
    "\n",
    "# getting the number of zeros / total\n",
    "total = 0\n",
    "zeros = 0\n",
    "for i in range(n):\n",
    "    for j in range(n):\n",
    "        total += 1\n",
    "        if transfer_matrix[i, j] == 0:\n",
    "            zeros += 1\n",
    "print(f'The matrix is {n} X {n}\\nThere are {zeros} zeros out of {total} total entries: {(zeros/total) * 100}%')"
   ]
  },
  {
   "cell_type": "markdown",
   "metadata": {},
   "source": [
    "---\n",
    "\n",
    "As seen in my little test above, the dimensions of the matrix are $181$x$181$, and roughly $95$% of entries are zeros. Very sparse matrix...\n",
    "\n",
    "---"
   ]
  },
  {
   "cell_type": "markdown",
   "metadata": {},
   "source": [
    "**Part C:** Make a transfer dictionary or list, since the matrix is pretty sparse!  Follow the general conventions used in the in-class notebooks for **sparse** page rank.  You may use integer keys or team names, but I suggest integers for ease of use."
   ]
  },
  {
   "cell_type": "code",
   "execution_count": 5,
   "metadata": {},
   "outputs": [
    {
     "name": "stdout",
     "output_type": "stream",
     "text": [
      "['Sunderland', 'Valencia CF', 'Fulham', 'Spurs', 'Leicester', 'AC Milan', 'Birmingham', 'Olympique Lyon', 'Atlético Madrid', 'Newcastle', 'Birmingham', 'Newcastle', 'FC Barcelona', 'Middlesbrough', 'Valencia CF', 'West Ham', 'Real Madrid', 'Portsmouth', 'Man City', 'Man City', 'Man City', 'Aston Villa', 'VfB Stuttgart', 'Real Madrid', 'Paris SG', 'Liverpool', 'Man Utd', 'VfL Wolfsburg', 'Paris SG', 'Everton', 'VfL Wolfsburg', 'Southampton', 'Atlético Madrid', 'Arsenal', \"Bor. M'gladbach\", 'Southampton', 'Sevilla FC', 'AS Roma', 'Sunderland', 'Middlesbrough', 'Atlético Madrid', 'Man Utd', 'Bournemouth', 'Juventus', 'Bournemouth', 'Olympique Lyon', 'Newcastle']\n"
     ]
    }
   ],
   "source": [
    "# I honestly didn't really know how to turn the teams into integer keys\n",
    "transfer_dictionary = {team: [] for team in df.Team_from.unique()}\n",
    "for index, row in df.iterrows():\n",
    "    transfer_dictionary[row.Team_from].append(row.Team_to)\n",
    "print(transfer_dictionary['Chelsea'])"
   ]
  },
  {
   "cell_type": "markdown",
   "metadata": {},
   "source": [
    "**Part D:** Run sparse PageRank using your object in **c**.  Report the top 20 clubs for receiving transfers by their PageRanks.  Use a teleportation probability of $1-\\beta=0.2$.\n",
    "\n",
    "After that, take a look at the 2000-2018 finals of the UEFA Champions League (UCL), [here](https://en.wikipedia.org/wiki/List_of_European_Cup_and_UEFA_Champions_League_finals).  Does it appear that receiving lots of transfers is helping with being competitive in the largest of European competitions?"
   ]
  },
  {
   "cell_type": "code",
   "execution_count": 6,
   "metadata": {},
   "outputs": [
    {
     "name": "stdout",
     "output_type": "stream",
     "text": [
      "Top 20 teams ranks:\n",
      "[('Chelsea', 0.030924681326767397), ('Man City', 0.03056637863064999), ('Liverpool', 0.02906258233236286), ('Everton', 0.02495856321381659), ('Juventus', 0.023999597812688483), ('Spurs', 0.0232024394852601), ('Inter', 0.02241447951518268), ('Real Madrid', 0.02091050337679378), ('AC Milan', 0.02027655594043049), ('Atlético Madrid', 0.019299384774525124), ('Aston Villa', 0.019055827618899374), ('FC Barcelona', 0.01876800988031702), ('AS Roma', 0.01822945055003085), ('West Ham', 0.017511970296223433), ('Man Utd', 0.017376731907623646), ('Bayern Munich ', 0.017097767710974463), ('Paris SG', 0.016816238279687864), ('Sunderland', 0.016813231167112506), ('Newcastle', 0.01575645671521464), ('Arsenal', 0.014151474441872676)]\n",
      "Number of iterations: 13\n"
     ]
    }
   ],
   "source": [
    "def dist_L1(x,y):\n",
    "    return np.sum(np.abs(np.array(x)-np.array(y)))\n",
    "\n",
    "def dist_L2(x,y):\n",
    "    return np.sqrt(np.sum((x-y)**2))\n",
    "\n",
    "def chebyshev_d(x,y):\n",
    "    return np.max(np.abs(x-y))\n",
    "\n",
    "def get_all_links(Compact_Matrix):\n",
    "    s = set(Compact_Matrix.keys())\n",
    "    for value in Compact_Matrix.values():\n",
    "        for item in value:\n",
    "            s.add(item)\n",
    "    return list(s)\n",
    "\n",
    "def rank_links(links, ranks):\n",
    "    l = list()\n",
    "    for i, link in enumerate(links):\n",
    "        l.append((link, ranks[i]))\n",
    "    return sorted(l, key=lambda x: x[1], reverse=True)\n",
    "\n",
    "def sparse_pagerank(Compact_Matrix):\n",
    "    BETA       = 0.8\n",
    "    all_links  = get_all_links(Compact_Matrix)\n",
    "    n          = len(all_links)\n",
    "    r_old      = np.repeat(1/n, n)\n",
    "    tolerance  = 10e-6\n",
    "    converged  = False\n",
    "    iterations = 0\n",
    "    while not converged:\n",
    "        r_new = np.repeat((1-BETA)/n, n)\n",
    "        # distribute importance payments between the nodes\n",
    "        for link, outlinks in Compact_Matrix.items():\n",
    "            d_i = len(outlinks)\n",
    "            for outlink in outlinks:\n",
    "                j         = all_links.index(outlink)\n",
    "                i         = all_links.index(link)\n",
    "                r_new[j] += ((BETA * r_old[i]) / d_i)\n",
    "        r_new /= np.sum(r_new)\n",
    "        if dist_L2(r_new, r_old) <= tolerance:\n",
    "            converged = True\n",
    "        r_old  = r_new.copy()\n",
    "        iterations += 1\n",
    "    r = rank_links(all_links, r_new)\n",
    "    return r, iterations\n",
    "\n",
    "r, i = sparse_pagerank(transfer_dictionary)\n",
    "print(f'Top 20 teams ranks:\\n{r[:20]}')\n",
    "print(f'Number of iterations: {i}')"
   ]
  },
  {
   "cell_type": "markdown",
   "metadata": {},
   "source": [
    "---\n",
    "\n",
    "So after looking at the top 20 teams determined by my page rank, and then looking at the list of UCL finals, it's quite clear that receiving lots of transfers is quite helpful. The only team that won the championship that wasn't on our top 20 list was from a league we didn't even have in our dataset. Further, a large majority of the runner-ups was also on our list. Although our second ranked club, Manchester City, never played in the championship during this period which is interesting, it's completely possible they should simply hire Ted Lasso to help coach all of that talent.\n",
    "\n",
    "**Aside:** I wonder if my final pagerank looks like the true solution... Although I'm fairly confident in my implementation because of the top 20, it's at this point I hope I didn't mess something small up that put these teams in this order.\n",
    "\n",
    "---"
   ]
  },
  {
   "cell_type": "markdown",
   "metadata": {},
   "source": [
    "**Part E:** Try *weighted* page rank on this problem.  In *weighted* page rank, each edge of the matrix or link out from node $i$ is represented by a numerical value that may not be $1/d_i$; rather you could \"move\" to some destinations more often.  This may be because some links occur multiple times, or simply command a greater bandwidth or flow of traffic.  We could in this problem weight each transfer by the dollars involved!\n",
    "\n",
    "Create a column-stochastic matrix where each entry is the proportion of  `Transfer_fee` dollars sold by that team (in the column).  A team $i$ with outgoing transfers of \\$5 to team $a$ and a transfer of \\$10 to team $b$ would have a (1/3) and a (2/3) in those two rows of column $i$, for example.\n",
    "\n",
    "Now re-run pagerank, this time using the standard `matmul` approach on the column-stochastic (where possible) *weighted* matrix $M$ instead of a sparse implementation.  Again use a teleportation probability of $1-\\beta=0.2$.\n",
    "\n",
    "Who are the biggest buyers?  Does it correlate better with UCL success?"
   ]
  },
  {
   "cell_type": "code",
   "execution_count": 7,
   "metadata": {},
   "outputs": [],
   "source": [
    "weighted_transfer_matrix = np.zeros((n,n))\n",
    "for j, team in enumerate(all_teams):\n",
    "    length = len(list(df.loc[df.Team_from==team].iterrows()))\n",
    "    for row in df.loc[df.Team_from==team].iterrows():\n",
    "        to_team      = row[1].Team_to\n",
    "        transfer_fee = row[1].Transfer_fee\n",
    "        i = all_teams.index(to_team)\n",
    "        weighted_transfer_matrix[i,j] = transfer_fee\n",
    "for col in range(n):\n",
    "    s = np.sum(weighted_transfer_matrix[:,col])\n",
    "    if s != 0:\n",
    "        weighted_transfer_matrix[:,col] /= s\n",
    "# Checking each column sums to 1, it does\n",
    "#     print(np.sum(transfer_matrix[:,col]))"
   ]
  },
  {
   "cell_type": "code",
   "execution_count": 8,
   "metadata": {},
   "outputs": [
    {
     "name": "stdout",
     "output_type": "stream",
     "text": [
      "Top 20 teams ranks:\n",
      "[('Man Utd', 0.0002076866507407992), ('Chelsea', 0.00020502569021281275), ('Man City', 0.0001961611775979591), ('Liverpool', 0.00019337254192696254), ('Real Madrid', 0.00019027441437171927), ('Paris SG', 0.00018013615307274923), ('Juventus', 0.00016401471671408481), ('FC Barcelona', 0.0001385948525096136), ('Everton', 0.00012735327429355518), ('Arsenal', 0.00010523144021149467), ('Atlético Madrid', 0.0001007790735833972), ('Spurs', 9.964961143402679e-05), ('Inter', 8.349819531691041e-05), ('AS Roma', 8.196416986416449e-05), ('Bayern Munich ', 7.861176489615878e-05), ('West Ham', 7.700848856842986e-05), ('AC Milan', 7.370425813027789e-05), ('Aston Villa', 6.69349231109337e-05), ('Monaco', 6.549841204536699e-05), ('VfL Wolfsburg', 6.307200370550553e-05)]\n",
      "Number of iterations: 352\n"
     ]
    }
   ],
   "source": [
    "def PageRank(M, indices_to_names):\n",
    "    n     = M.shape[0]\n",
    "    BETA  = 0.8\n",
    "    Nmat  = np.ones((n,n))/n\n",
    "    A1    = BETA*M + (1-BETA)*Nmat\n",
    "    r_old = np.repeat(1/n, n)\n",
    "    r_new = np.ones(n)\n",
    "\n",
    "    tolerance = 10e-6\n",
    "    iters     = 0\n",
    "    converged = False\n",
    "    while not converged:\n",
    "        r_new = np.matmul(A1, r_old)\n",
    "        if dist_L2(r_new, r_old) <= tolerance: \n",
    "            converged = True\n",
    "        r_old = r_new.copy()\n",
    "        iters += 1\n",
    "\n",
    "    r = rank_links(indices_to_names, r_new)\n",
    "    \n",
    "    return r, iters\n",
    "\n",
    "r, i = PageRank(weighted_transfer_matrix, all_teams)\n",
    "print(f'Top 20 teams ranks:\\n{r[:20]}')\n",
    "print(f'Number of iterations: {i}')"
   ]
  },
  {
   "cell_type": "markdown",
   "metadata": {},
   "source": [
    "---\n",
    "\n",
    "**THIS IS WRONG!!!**\n",
    "**I was accidentally swapping the indices of i and j when creating my matrices!**\n",
    "While we still see some big names on this list like Juventus, Real Madrid, FC Barcelona, and Liverpool to name a few, we see many other names that didn't even make the championship. Compared to when we ran sparse pagerank, we see many more teams on *this* biggest buyers list that weren't in the sparse pagerank list. For example, Olympique Lyon was #1 on the biggest buyers list here, yet they never made it to the championship. This is the case with more teams on this list than the other one. So I'd conclude that being the biggest buyer of other players may not be indicative of overall success in the UCL. Unless you're Real Madrid... They seem like an absolute powerhouse.\n",
    "\n",
    "**CORRECT ANSWER!**\n",
    "YES! The top-10 (out of the top-20) were all relatively high performers in the UCL. Real Madrid jumped up on this list compared to the sparse pagerank list, and our new #1, Manchester United did pretty well in the UCL during this period. We still have some teams that didn't do *that* well in the bottom half of our 20, but at least I recognize all of these names with the exception of VFL Wolfsburg. I'd say this might be a better list than the other list.\n",
    "\n",
    "---"
   ]
  },
  {
   "cell_type": "markdown",
   "metadata": {},
   "source": [
    "\n",
    "***\n",
    "<a/ id='p2'></a>\n",
    "[Back to top](#top)\n",
    "# Problem 2 (Theory and Practice: Directed Graphs; 20 pts) "
   ]
  },
  {
   "attachments": {
    "NChain.png": {
     "image/png": "[encoded data removed]"
    }
   },
   "cell_type": "markdown",
   "metadata": {},
   "source": [
    "Suppose our graph is a chain of $n$ nodes, as shown below.  \n",
    "\n",
    "![NChain.png](attachment:NChain.png)\n",
    "\n",
    "#### a) Set up a small experiment where you implement Hubs and Authorities on a graph of this form for a *specific* value of $n$, such as $n=6$.  Run the algorithm the \"max-element equals 1\" normalization, and use a convergence check using the max-norm ($L_\\infty$) and a tolerance of $10^{-6}$.  Print the final Hubs and Authorities scores and how many iterations were run until convergence."
   ]
  },
  {
   "cell_type": "code",
   "execution_count": 9,
   "metadata": {},
   "outputs": [
    {
     "name": "stdout",
     "output_type": "stream",
     "text": [
      "[[1. 1. 0. 0. 0. 0.]\n",
      " [0. 0. 1. 0. 0. 0.]\n",
      " [0. 0. 0. 1. 0. 0.]\n",
      " [0. 0. 0. 0. 1. 0.]\n",
      " [0. 0. 0. 0. 0. 1.]\n",
      " [0. 0. 0. 0. 0. 0.]]\n"
     ]
    }
   ],
   "source": [
    "# generates the matrix L for a graph of the form shown above\n",
    "def generate_L(n):\n",
    "    L = np.zeros((n, n))\n",
    "    for i in range(n-1):\n",
    "        if i == 0:\n",
    "            L[0,0]   = 1\n",
    "            L[0,1]   = 1\n",
    "        else:\n",
    "            L[i,i+1] = 1\n",
    "    return L\n",
    "\n",
    "n = 6\n",
    "L = generate_L(n)\n",
    "print(L)"
   ]
  },
  {
   "cell_type": "code",
   "execution_count": 10,
   "metadata": {},
   "outputs": [
    {
     "name": "stdout",
     "output_type": "stream",
     "text": [
      "Authority Scores:\n",
      "[1.00000000e+00 1.00000000e+00 7.62939453e-06 7.62939453e-06\n",
      " 7.62939453e-06 7.62939453e-06]\n",
      "Hub Scores:\n",
      "[1.00000000e+00 3.81469727e-06 3.81469727e-06 3.81469727e-06\n",
      " 3.81469727e-06 0.00000000e+00]\n",
      "Number of iterations: 18\n"
     ]
    }
   ],
   "source": [
    "def HITS(L):\n",
    "    LT = L.T\n",
    "    n  = L.shape[0]\n",
    "    a  = np.ones(n)\n",
    "    h  = np.ones(n)\n",
    "    \n",
    "    convergence = False\n",
    "    tolerance   = 10e-6\n",
    "    iterations  = 0\n",
    "    while not convergence:\n",
    "        a_old = a\n",
    "        h_old = h\n",
    "        \n",
    "        a     = np.matmul(LT, h)\n",
    "        a    /= np.max(a)\n",
    "        \n",
    "        h     = np.matmul(L, a)\n",
    "        h    /= np.max(h)\n",
    "        \n",
    "        iterations += 1\n",
    "        max_change  = np.max([chebyshev_d(h,h_old), chebyshev_d(a,a_old)])\n",
    "        if  max_change <= tolerance:\n",
    "            convergence = True\n",
    "            \n",
    "    return a, h, iterations\n",
    "\n",
    "def chebyshev_d(x,y):\n",
    "    return np.max(np.abs(x-y))\n",
    "\n",
    "authorities, hubs, iters = HITS(L)\n",
    "print(f'Authority Scores:\\n{authorities}')\n",
    "print(f'Hub Scores:\\n{hubs}')\n",
    "print(f'Number of iterations: {iters}')"
   ]
  },
  {
   "cell_type": "markdown",
   "metadata": {},
   "source": [
    "#### b) Set up the system of equations that represent taking one step of the HITS algorithm.  In other words, use markdown to explicitly state what $A^{new}$ will be as a function of $H^{old}$, and $H^{new}$ as a function of $A^{old}$.   I suggest you use your code from a) to check your work!"
   ]
  },
  {
   "cell_type": "markdown",
   "metadata": {},
   "source": [
    "$A^{new}=L^{T}H^{old}$\n",
    "\n",
    "$H^{new}=LA^{old}$\n",
    "\n",
    "---\n",
    "\n",
    "I'm *pretty* sure what I have is correct, and it matches what I've done in code for a). Although, the purely theoretical nature of this question gives me some doubt."
   ]
  },
  {
   "cell_type": "markdown",
   "metadata": {},
   "source": [
    "#### c) What will be the exact values of $A^{new}_j$ and $H^{new}_j$ resulting from the $j$th pass through the HITS algorithm, after normalization?"
   ]
  },
  {
   "cell_type": "markdown",
   "metadata": {},
   "source": [
    "1.\n",
    "\n",
    "$A^{new}_j = L^{T}H_{j-1}$\n",
    "\n",
    "$H^{new}_j = LA_{j-1}$\n",
    "\n",
    "---\n",
    "\n",
    "Again, *pretty* sure I'm correct. Although, this seems almost too simple an answer because it is the same answer I've put above with different notation. I suppose we could say something like this (?):\n",
    "\n",
    "---\n",
    "2.\n",
    "\n",
    "$A^{new}_j = j \\cdot L^{T}H$\n",
    "\n",
    "$H^{new}_j = j \\cdot LA$"
   ]
  },
  {
   "cell_type": "markdown",
   "metadata": {},
   "source": [
    "#### d) Your code in a) should have converged to the thereotical result from taking the *limit* (after many iterations) of the argument you constructed in c).  *Exactly* how many steps did it take until you converged?  Is this consistent with the theoretical result in part b?"
   ]
  },
  {
   "cell_type": "markdown",
   "metadata": {},
   "source": [
    "---\n",
    "\n",
    "My code converged in 18 steps.\n",
    "\n",
    "Still pretty confused to be honest. I get that this is eigen-stuff, but I'm not really sure how to answer this. The first argument I've constructed in c) is quite literally what my code reproduces, and I'm a little confused how to take the limit of it. Further, I'm not really sure if this is consistent with my answer to b), but I think the stepsto convergence rely more heavily on the tolerance I've defined in HITS.\n",
    "\n",
    "---"
   ]
  }
 ],
 "metadata": {
  "kernelspec": {
   "display_name": "Python 3",
   "language": "python",
   "name": "python3"
  },
  "language_info": {
   "codemirror_mode": {
    "name": "ipython",
    "version": 3
   },
   "file_extension": ".py",
   "mimetype": "text/x-python",
   "name": "python",
   "nbconvert_exporter": "python",
   "pygments_lexer": "ipython3",
   "version": "3.7.10"
  }
 },
 "nbformat": 4,
 "nbformat_minor": 2
}
