{
 "cells": [
  {
   "cell_type": "markdown",
   "metadata": {},
   "source": [
    "# CSCI4022 Homework 9; Matrices\n",
    "\n",
    "\n",
    "## Due Wednesday, December 8 at 11:59 pm to Canvas and Gradescope\n",
    "\n",
    "#### Submit this file as a .ipynb with *all cells compiled and run* to the associated dropbox.\n",
    "\n",
    "***\n",
    "\n",
    "Your solutions to computational questions should include any specified Python code and results as well as written commentary on your conclusions.  Remember that you are encouraged to discuss the problems with your classmates, but **you must write all code and solutions on your own**.\n",
    "\n",
    "**NOTES**: \n",
    "\n",
    "- Any relevant data sets should be available on Canvas. To make life easier on the graders if they need to run your code, do not change the relative path names here. Instead, move the files around on your computer.\n",
    "- If you're not familiar with typesetting math directly into Markdown then by all means, do your work on paper first and then typeset it later.  Here is a [reference guide](https://math.meta.stackexchange.com/questions/5020/mathjax-basic-tutorial-and-quick-reference) linked on Canvas on writing math in Markdown. **All** of your written commentary, justifications and mathematical work should be in Markdown.  I also recommend the [wikibook](https://en.wikibooks.org/wiki/LaTeX) for LaTex.\n",
    "- Because you can technically evaluate notebook cells is a non-linear order, it's a good idea to do **Kernel $\\rightarrow$ Restart & Run All** as a check before submitting your solutions.  That way if we need to run your code you will know that it will work as expected. \n",
    "- It is **bad form** to make your reader interpret numerical output from your code.  If a question asks you to compute some value from the data you should show your code output **AND** write a summary of the results in Markdown directly below your code. \n",
    "- 45 points of this assignment are in problems.  The remaining 5 are for neatness, style, and overall exposition of both code and text.\n",
    "- This probably goes without saying, but... For any question that asks you to calculate something, you **must show all work and justify your answers to receive credit**. Sparse or nonexistent work will receive sparse or nonexistent credit. \n",
    "- There is *not a prescribed API* for these problems.  You may answer coding questions with whatever syntax or object typing you deem fit.  Your evaluation will primarily live in the clarity of how well you present your final results, so don't skip over any interpretations!  Your code should still be commented and readable to ensure you followed the given course algorithm.\n",
    "\n",
    "---\n",
    "**Shortcuts:**  [Problem 1](#p1) | [Problem 2](#p2) | \n",
    "---"
   ]
  },
  {
   "cell_type": "code",
   "execution_count": 1,
   "metadata": {},
   "outputs": [],
   "source": [
    "import matplotlib.pyplot as plt\n",
    "import numpy as np\n",
    "import pandas as pd\n",
    "import timeit\n",
    "from sklearn.ensemble import IsolationForest"
   ]
  },
  {
   "cell_type": "markdown",
   "metadata": {},
   "source": [
    "***\n",
    "<a/ id='p1'></a>\n",
    "[Back to top](#top)\n",
    "# Problem 1 (20 pts; Practice: Outliers)\n",
    "\n",
    "The file `nba2021pg.txt` includes all of the major basketball statistics from the 2020-2021 NBA season.  We're going to use it to determine whether \"outlierness\" of players correlated with their value to the team.  Load in the file and inspect it."
   ]
  },
  {
   "cell_type": "code",
   "execution_count": 2,
   "metadata": {
    "scrolled": true
   },
   "outputs": [
    {
     "data": {
      "text/html": [
       "<div>\n",
       "<style scoped>\n",
       "    .dataframe tbody tr th:only-of-type {\n",
       "        vertical-align: middle;\n",
       "    }\n",
       "\n",
       "    .dataframe tbody tr th {\n",
       "        vertical-align: top;\n",
       "    }\n",
       "\n",
       "    .dataframe thead th {\n",
       "        text-align: right;\n",
       "    }\n",
       "</style>\n",
       "<table border=\"1\" class=\"dataframe\">\n",
       "  <thead>\n",
       "    <tr style=\"text-align: right;\">\n",
       "      <th></th>\n",
       "      <th>Rk</th>\n",
       "      <th>Player</th>\n",
       "      <th>Pos</th>\n",
       "      <th>Age</th>\n",
       "      <th>Tm</th>\n",
       "      <th>G</th>\n",
       "      <th>GS</th>\n",
       "      <th>MP</th>\n",
       "      <th>FG</th>\n",
       "      <th>FGA</th>\n",
       "      <th>...</th>\n",
       "      <th>FT%</th>\n",
       "      <th>ORB</th>\n",
       "      <th>DRB</th>\n",
       "      <th>TRB</th>\n",
       "      <th>AST</th>\n",
       "      <th>STL</th>\n",
       "      <th>BLK</th>\n",
       "      <th>TOV</th>\n",
       "      <th>PF</th>\n",
       "      <th>PTS</th>\n",
       "    </tr>\n",
       "  </thead>\n",
       "  <tbody>\n",
       "    <tr>\n",
       "      <td>0</td>\n",
       "      <td>1</td>\n",
       "      <td>Precious Achiuwa\\achiupr01</td>\n",
       "      <td>PF</td>\n",
       "      <td>21</td>\n",
       "      <td>MIA</td>\n",
       "      <td>61</td>\n",
       "      <td>4</td>\n",
       "      <td>737</td>\n",
       "      <td>6.1</td>\n",
       "      <td>11.1</td>\n",
       "      <td>...</td>\n",
       "      <td>0.509</td>\n",
       "      <td>3.6</td>\n",
       "      <td>6.6</td>\n",
       "      <td>10.2</td>\n",
       "      <td>1.4</td>\n",
       "      <td>1.0</td>\n",
       "      <td>1.4</td>\n",
       "      <td>2.1</td>\n",
       "      <td>4.4</td>\n",
       "      <td>14.8</td>\n",
       "    </tr>\n",
       "    <tr>\n",
       "      <td>1</td>\n",
       "      <td>2</td>\n",
       "      <td>Jaylen Adams\\adamsja01</td>\n",
       "      <td>PG</td>\n",
       "      <td>24</td>\n",
       "      <td>MIL</td>\n",
       "      <td>7</td>\n",
       "      <td>0</td>\n",
       "      <td>18</td>\n",
       "      <td>2.0</td>\n",
       "      <td>16.0</td>\n",
       "      <td>...</td>\n",
       "      <td>NaN</td>\n",
       "      <td>0.0</td>\n",
       "      <td>6.0</td>\n",
       "      <td>6.0</td>\n",
       "      <td>4.0</td>\n",
       "      <td>0.0</td>\n",
       "      <td>0.0</td>\n",
       "      <td>0.0</td>\n",
       "      <td>2.0</td>\n",
       "      <td>4.0</td>\n",
       "    </tr>\n",
       "    <tr>\n",
       "      <td>2</td>\n",
       "      <td>3</td>\n",
       "      <td>Steven Adams\\adamsst01</td>\n",
       "      <td>C</td>\n",
       "      <td>27</td>\n",
       "      <td>NOP</td>\n",
       "      <td>58</td>\n",
       "      <td>58</td>\n",
       "      <td>1605</td>\n",
       "      <td>4.2</td>\n",
       "      <td>6.9</td>\n",
       "      <td>...</td>\n",
       "      <td>0.444</td>\n",
       "      <td>4.8</td>\n",
       "      <td>6.8</td>\n",
       "      <td>11.5</td>\n",
       "      <td>2.5</td>\n",
       "      <td>1.2</td>\n",
       "      <td>0.9</td>\n",
       "      <td>1.7</td>\n",
       "      <td>2.5</td>\n",
       "      <td>9.8</td>\n",
       "    </tr>\n",
       "    <tr>\n",
       "      <td>3</td>\n",
       "      <td>4</td>\n",
       "      <td>Bam Adebayo\\adebaba01</td>\n",
       "      <td>C</td>\n",
       "      <td>23</td>\n",
       "      <td>MIA</td>\n",
       "      <td>64</td>\n",
       "      <td>64</td>\n",
       "      <td>2143</td>\n",
       "      <td>7.7</td>\n",
       "      <td>13.4</td>\n",
       "      <td>...</td>\n",
       "      <td>0.799</td>\n",
       "      <td>2.4</td>\n",
       "      <td>7.2</td>\n",
       "      <td>9.6</td>\n",
       "      <td>5.8</td>\n",
       "      <td>1.3</td>\n",
       "      <td>1.1</td>\n",
       "      <td>2.8</td>\n",
       "      <td>2.4</td>\n",
       "      <td>20.1</td>\n",
       "    </tr>\n",
       "    <tr>\n",
       "      <td>4</td>\n",
       "      <td>5</td>\n",
       "      <td>LaMarcus Aldridge\\aldrila01</td>\n",
       "      <td>C</td>\n",
       "      <td>35</td>\n",
       "      <td>TOT</td>\n",
       "      <td>26</td>\n",
       "      <td>23</td>\n",
       "      <td>674</td>\n",
       "      <td>7.5</td>\n",
       "      <td>15.8</td>\n",
       "      <td>...</td>\n",
       "      <td>0.872</td>\n",
       "      <td>1.0</td>\n",
       "      <td>5.3</td>\n",
       "      <td>6.3</td>\n",
       "      <td>2.6</td>\n",
       "      <td>0.6</td>\n",
       "      <td>1.5</td>\n",
       "      <td>1.4</td>\n",
       "      <td>2.5</td>\n",
       "      <td>18.8</td>\n",
       "    </tr>\n",
       "    <tr>\n",
       "      <td>5</td>\n",
       "      <td>5</td>\n",
       "      <td>LaMarcus Aldridge\\aldrila01</td>\n",
       "      <td>C</td>\n",
       "      <td>35</td>\n",
       "      <td>SAS</td>\n",
       "      <td>21</td>\n",
       "      <td>18</td>\n",
       "      <td>544</td>\n",
       "      <td>7.6</td>\n",
       "      <td>16.4</td>\n",
       "      <td>...</td>\n",
       "      <td>0.838</td>\n",
       "      <td>1.1</td>\n",
       "      <td>5.1</td>\n",
       "      <td>6.2</td>\n",
       "      <td>2.4</td>\n",
       "      <td>0.5</td>\n",
       "      <td>1.2</td>\n",
       "      <td>1.3</td>\n",
       "      <td>2.4</td>\n",
       "      <td>19.1</td>\n",
       "    </tr>\n",
       "    <tr>\n",
       "      <td>6</td>\n",
       "      <td>5</td>\n",
       "      <td>LaMarcus Aldridge\\aldrila01</td>\n",
       "      <td>C</td>\n",
       "      <td>35</td>\n",
       "      <td>BRK</td>\n",
       "      <td>5</td>\n",
       "      <td>5</td>\n",
       "      <td>130</td>\n",
       "      <td>6.9</td>\n",
       "      <td>13.3</td>\n",
       "      <td>...</td>\n",
       "      <td>1.000</td>\n",
       "      <td>0.6</td>\n",
       "      <td>6.1</td>\n",
       "      <td>6.6</td>\n",
       "      <td>3.6</td>\n",
       "      <td>0.8</td>\n",
       "      <td>3.0</td>\n",
       "      <td>1.9</td>\n",
       "      <td>3.0</td>\n",
       "      <td>17.7</td>\n",
       "    </tr>\n",
       "    <tr>\n",
       "      <td>7</td>\n",
       "      <td>6</td>\n",
       "      <td>Ty-Shon Alexander\\alexaty01</td>\n",
       "      <td>SG</td>\n",
       "      <td>22</td>\n",
       "      <td>PHO</td>\n",
       "      <td>15</td>\n",
       "      <td>0</td>\n",
       "      <td>47</td>\n",
       "      <td>2.3</td>\n",
       "      <td>9.2</td>\n",
       "      <td>...</td>\n",
       "      <td>0.500</td>\n",
       "      <td>1.5</td>\n",
       "      <td>6.1</td>\n",
       "      <td>7.7</td>\n",
       "      <td>4.6</td>\n",
       "      <td>0.0</td>\n",
       "      <td>0.8</td>\n",
       "      <td>2.3</td>\n",
       "      <td>1.5</td>\n",
       "      <td>6.9</td>\n",
       "    </tr>\n",
       "  </tbody>\n",
       "</table>\n",
       "<p>8 rows × 29 columns</p>\n",
       "</div>"
      ],
      "text/plain": [
       "   Rk                       Player Pos  Age   Tm   G  GS    MP   FG   FGA  \\\n",
       "0   1   Precious Achiuwa\\achiupr01  PF   21  MIA  61   4   737  6.1  11.1   \n",
       "1   2       Jaylen Adams\\adamsja01  PG   24  MIL   7   0    18  2.0  16.0   \n",
       "2   3       Steven Adams\\adamsst01   C   27  NOP  58  58  1605  4.2   6.9   \n",
       "3   4        Bam Adebayo\\adebaba01   C   23  MIA  64  64  2143  7.7  13.4   \n",
       "4   5  LaMarcus Aldridge\\aldrila01   C   35  TOT  26  23   674  7.5  15.8   \n",
       "5   5  LaMarcus Aldridge\\aldrila01   C   35  SAS  21  18   544  7.6  16.4   \n",
       "6   5  LaMarcus Aldridge\\aldrila01   C   35  BRK   5   5   130  6.9  13.3   \n",
       "7   6  Ty-Shon Alexander\\alexaty01  SG   22  PHO  15   0    47  2.3   9.2   \n",
       "\n",
       "   ...    FT%  ORB  DRB   TRB  AST  STL  BLK  TOV   PF   PTS  \n",
       "0  ...  0.509  3.6  6.6  10.2  1.4  1.0  1.4  2.1  4.4  14.8  \n",
       "1  ...    NaN  0.0  6.0   6.0  4.0  0.0  0.0  0.0  2.0   4.0  \n",
       "2  ...  0.444  4.8  6.8  11.5  2.5  1.2  0.9  1.7  2.5   9.8  \n",
       "3  ...  0.799  2.4  7.2   9.6  5.8  1.3  1.1  2.8  2.4  20.1  \n",
       "4  ...  0.872  1.0  5.3   6.3  2.6  0.6  1.5  1.4  2.5  18.8  \n",
       "5  ...  0.838  1.1  5.1   6.2  2.4  0.5  1.2  1.3  2.4  19.1  \n",
       "6  ...  1.000  0.6  6.1   6.6  3.6  0.8  3.0  1.9  3.0  17.7  \n",
       "7  ...  0.500  1.5  6.1   7.7  4.6  0.0  0.8  2.3  1.5   6.9  \n",
       "\n",
       "[8 rows x 29 columns]"
      ]
     },
     "execution_count": 2,
     "metadata": {},
     "output_type": "execute_result"
    }
   ],
   "source": [
    "df=pd.read_csv('nba2021pg.txt')\n",
    "df.head(8)"
   ]
  },
  {
   "cell_type": "code",
   "execution_count": 3,
   "metadata": {},
   "outputs": [
    {
     "data": {
      "text/plain": [
       "Index(['Rk', 'Player', 'Pos', 'Age', 'Tm', 'G', 'GS', 'MP', 'FG', 'FGA', 'FG%',\n",
       "       '3P', '3PA', '3P%', '2P', '2PA', '2P%', 'FT', 'FTA', 'FT%', 'ORB',\n",
       "       'DRB', 'TRB', 'AST', 'STL', 'BLK', 'TOV', 'PF', 'PTS'],\n",
       "      dtype='object')"
      ]
     },
     "execution_count": 3,
     "metadata": {},
     "output_type": "execute_result"
    }
   ],
   "source": [
    "df.columns"
   ]
  },
  {
   "cell_type": "markdown",
   "metadata": {},
   "source": [
    "### Part A: Processing\n",
    "\n",
    "Note that the data set creates **3** rows if a player played for 2 teams during the season: one for each team and a \"Total.\"  For (only) those players, modify the data frame and delete all rows **except** when \"Tm\"=\"TOT\" so each row becomes a unique player.\n",
    "\n",
    "For all future plots, you may also only use NBA players that played at least 1000 minutes `MP` (around 1/4 of the seasons' total)."
   ]
  },
  {
   "cell_type": "code",
   "execution_count": 4,
   "metadata": {},
   "outputs": [],
   "source": [
    "def counter(l):\n",
    "    d = {}\n",
    "    for item in l:\n",
    "        if item not in d.keys():\n",
    "            d[item] = 0\n",
    "        d[item] += 1\n",
    "    return d\n",
    "\n",
    "def remove_duplicate_players(df):\n",
    "    counts = counter(df.Player)\n",
    "    for player in df.Player.unique():\n",
    "        if counts[player] > 1:\n",
    "            for i in df[df.Player == player].index:\n",
    "                if df.loc[[i]].Tm.item() != 'TOT':\n",
    "                    df = df.drop(i)\n",
    "    return df"
   ]
  },
  {
   "cell_type": "code",
   "execution_count": 5,
   "metadata": {},
   "outputs": [
    {
     "name": "stderr",
     "output_type": "stream",
     "text": [
      "/usr/local/lib/python3.7/site-packages/ipykernel_launcher.py:14: FutureWarning: `item` has been deprecated and will be removed in a future version\n",
      "  \n"
     ]
    },
    {
     "data": {
      "text/html": [
       "<div>\n",
       "<style scoped>\n",
       "    .dataframe tbody tr th:only-of-type {\n",
       "        vertical-align: middle;\n",
       "    }\n",
       "\n",
       "    .dataframe tbody tr th {\n",
       "        vertical-align: top;\n",
       "    }\n",
       "\n",
       "    .dataframe thead th {\n",
       "        text-align: right;\n",
       "    }\n",
       "</style>\n",
       "<table border=\"1\" class=\"dataframe\">\n",
       "  <thead>\n",
       "    <tr style=\"text-align: right;\">\n",
       "      <th></th>\n",
       "      <th>Rk</th>\n",
       "      <th>Player</th>\n",
       "      <th>Pos</th>\n",
       "      <th>Age</th>\n",
       "      <th>Tm</th>\n",
       "      <th>G</th>\n",
       "      <th>GS</th>\n",
       "      <th>MP</th>\n",
       "      <th>FG</th>\n",
       "      <th>FGA</th>\n",
       "      <th>...</th>\n",
       "      <th>FT%</th>\n",
       "      <th>ORB</th>\n",
       "      <th>DRB</th>\n",
       "      <th>TRB</th>\n",
       "      <th>AST</th>\n",
       "      <th>STL</th>\n",
       "      <th>BLK</th>\n",
       "      <th>TOV</th>\n",
       "      <th>PF</th>\n",
       "      <th>PTS</th>\n",
       "    </tr>\n",
       "  </thead>\n",
       "  <tbody>\n",
       "    <tr>\n",
       "      <td>2</td>\n",
       "      <td>3</td>\n",
       "      <td>Steven Adams\\adamsst01</td>\n",
       "      <td>C</td>\n",
       "      <td>27</td>\n",
       "      <td>NOP</td>\n",
       "      <td>58</td>\n",
       "      <td>58</td>\n",
       "      <td>1605</td>\n",
       "      <td>4.2</td>\n",
       "      <td>6.9</td>\n",
       "      <td>...</td>\n",
       "      <td>0.444</td>\n",
       "      <td>4.8</td>\n",
       "      <td>6.8</td>\n",
       "      <td>11.5</td>\n",
       "      <td>2.5</td>\n",
       "      <td>1.2</td>\n",
       "      <td>0.9</td>\n",
       "      <td>1.7</td>\n",
       "      <td>2.5</td>\n",
       "      <td>9.8</td>\n",
       "    </tr>\n",
       "    <tr>\n",
       "      <td>3</td>\n",
       "      <td>4</td>\n",
       "      <td>Bam Adebayo\\adebaba01</td>\n",
       "      <td>C</td>\n",
       "      <td>23</td>\n",
       "      <td>MIA</td>\n",
       "      <td>64</td>\n",
       "      <td>64</td>\n",
       "      <td>2143</td>\n",
       "      <td>7.7</td>\n",
       "      <td>13.4</td>\n",
       "      <td>...</td>\n",
       "      <td>0.799</td>\n",
       "      <td>2.4</td>\n",
       "      <td>7.2</td>\n",
       "      <td>9.6</td>\n",
       "      <td>5.8</td>\n",
       "      <td>1.3</td>\n",
       "      <td>1.1</td>\n",
       "      <td>2.8</td>\n",
       "      <td>2.4</td>\n",
       "      <td>20.1</td>\n",
       "    </tr>\n",
       "    <tr>\n",
       "      <td>8</td>\n",
       "      <td>7</td>\n",
       "      <td>Nickeil Alexander-Walker\\alexani01</td>\n",
       "      <td>SG</td>\n",
       "      <td>22</td>\n",
       "      <td>NOP</td>\n",
       "      <td>46</td>\n",
       "      <td>13</td>\n",
       "      <td>1007</td>\n",
       "      <td>6.9</td>\n",
       "      <td>16.4</td>\n",
       "      <td>...</td>\n",
       "      <td>0.727</td>\n",
       "      <td>0.5</td>\n",
       "      <td>4.7</td>\n",
       "      <td>5.1</td>\n",
       "      <td>3.6</td>\n",
       "      <td>1.7</td>\n",
       "      <td>0.8</td>\n",
       "      <td>2.5</td>\n",
       "      <td>3.1</td>\n",
       "      <td>18.2</td>\n",
       "    </tr>\n",
       "    <tr>\n",
       "      <td>9</td>\n",
       "      <td>8</td>\n",
       "      <td>Grayson Allen\\allengr01</td>\n",
       "      <td>SG</td>\n",
       "      <td>25</td>\n",
       "      <td>MEM</td>\n",
       "      <td>50</td>\n",
       "      <td>38</td>\n",
       "      <td>1259</td>\n",
       "      <td>4.9</td>\n",
       "      <td>11.8</td>\n",
       "      <td>...</td>\n",
       "      <td>0.868</td>\n",
       "      <td>0.5</td>\n",
       "      <td>4.0</td>\n",
       "      <td>4.6</td>\n",
       "      <td>3.1</td>\n",
       "      <td>1.3</td>\n",
       "      <td>0.2</td>\n",
       "      <td>1.4</td>\n",
       "      <td>2.0</td>\n",
       "      <td>15.2</td>\n",
       "    </tr>\n",
       "    <tr>\n",
       "      <td>10</td>\n",
       "      <td>9</td>\n",
       "      <td>Jarrett Allen\\allenja01</td>\n",
       "      <td>C</td>\n",
       "      <td>22</td>\n",
       "      <td>TOT</td>\n",
       "      <td>63</td>\n",
       "      <td>45</td>\n",
       "      <td>1864</td>\n",
       "      <td>5.8</td>\n",
       "      <td>9.3</td>\n",
       "      <td>...</td>\n",
       "      <td>0.703</td>\n",
       "      <td>3.8</td>\n",
       "      <td>8.4</td>\n",
       "      <td>12.2</td>\n",
       "      <td>2.0</td>\n",
       "      <td>0.6</td>\n",
       "      <td>1.7</td>\n",
       "      <td>1.9</td>\n",
       "      <td>1.9</td>\n",
       "      <td>15.6</td>\n",
       "    </tr>\n",
       "    <tr>\n",
       "      <td>16</td>\n",
       "      <td>11</td>\n",
       "      <td>Kyle Anderson\\anderky01</td>\n",
       "      <td>PF</td>\n",
       "      <td>27</td>\n",
       "      <td>MEM</td>\n",
       "      <td>69</td>\n",
       "      <td>69</td>\n",
       "      <td>1887</td>\n",
       "      <td>5.9</td>\n",
       "      <td>12.6</td>\n",
       "      <td>...</td>\n",
       "      <td>0.783</td>\n",
       "      <td>1.0</td>\n",
       "      <td>6.6</td>\n",
       "      <td>7.6</td>\n",
       "      <td>4.8</td>\n",
       "      <td>1.6</td>\n",
       "      <td>1.1</td>\n",
       "      <td>1.6</td>\n",
       "      <td>2.3</td>\n",
       "      <td>16.3</td>\n",
       "    </tr>\n",
       "    <tr>\n",
       "      <td>17</td>\n",
       "      <td>12</td>\n",
       "      <td>Giannis Antetokounmpo\\antetgi01</td>\n",
       "      <td>PF</td>\n",
       "      <td>26</td>\n",
       "      <td>MIL</td>\n",
       "      <td>61</td>\n",
       "      <td>61</td>\n",
       "      <td>2013</td>\n",
       "      <td>11.2</td>\n",
       "      <td>19.7</td>\n",
       "      <td>...</td>\n",
       "      <td>0.685</td>\n",
       "      <td>1.7</td>\n",
       "      <td>10.3</td>\n",
       "      <td>12.0</td>\n",
       "      <td>6.4</td>\n",
       "      <td>1.3</td>\n",
       "      <td>1.3</td>\n",
       "      <td>3.7</td>\n",
       "      <td>3.0</td>\n",
       "      <td>30.7</td>\n",
       "    </tr>\n",
       "    <tr>\n",
       "      <td>20</td>\n",
       "      <td>15</td>\n",
       "      <td>Carmelo Anthony\\anthoca01</td>\n",
       "      <td>PF</td>\n",
       "      <td>36</td>\n",
       "      <td>POR</td>\n",
       "      <td>69</td>\n",
       "      <td>3</td>\n",
       "      <td>1690</td>\n",
       "      <td>7.0</td>\n",
       "      <td>16.6</td>\n",
       "      <td>...</td>\n",
       "      <td>0.890</td>\n",
       "      <td>0.7</td>\n",
       "      <td>3.9</td>\n",
       "      <td>4.6</td>\n",
       "      <td>2.2</td>\n",
       "      <td>1.0</td>\n",
       "      <td>0.8</td>\n",
       "      <td>1.3</td>\n",
       "      <td>3.1</td>\n",
       "      <td>19.7</td>\n",
       "    </tr>\n",
       "  </tbody>\n",
       "</table>\n",
       "<p>8 rows × 29 columns</p>\n",
       "</div>"
      ],
      "text/plain": [
       "    Rk                              Player Pos  Age   Tm   G  GS    MP    FG  \\\n",
       "2    3              Steven Adams\\adamsst01   C   27  NOP  58  58  1605   4.2   \n",
       "3    4               Bam Adebayo\\adebaba01   C   23  MIA  64  64  2143   7.7   \n",
       "8    7  Nickeil Alexander-Walker\\alexani01  SG   22  NOP  46  13  1007   6.9   \n",
       "9    8             Grayson Allen\\allengr01  SG   25  MEM  50  38  1259   4.9   \n",
       "10   9             Jarrett Allen\\allenja01   C   22  TOT  63  45  1864   5.8   \n",
       "16  11             Kyle Anderson\\anderky01  PF   27  MEM  69  69  1887   5.9   \n",
       "17  12     Giannis Antetokounmpo\\antetgi01  PF   26  MIL  61  61  2013  11.2   \n",
       "20  15           Carmelo Anthony\\anthoca01  PF   36  POR  69   3  1690   7.0   \n",
       "\n",
       "     FGA  ...    FT%  ORB   DRB   TRB  AST  STL  BLK  TOV   PF   PTS  \n",
       "2    6.9  ...  0.444  4.8   6.8  11.5  2.5  1.2  0.9  1.7  2.5   9.8  \n",
       "3   13.4  ...  0.799  2.4   7.2   9.6  5.8  1.3  1.1  2.8  2.4  20.1  \n",
       "8   16.4  ...  0.727  0.5   4.7   5.1  3.6  1.7  0.8  2.5  3.1  18.2  \n",
       "9   11.8  ...  0.868  0.5   4.0   4.6  3.1  1.3  0.2  1.4  2.0  15.2  \n",
       "10   9.3  ...  0.703  3.8   8.4  12.2  2.0  0.6  1.7  1.9  1.9  15.6  \n",
       "16  12.6  ...  0.783  1.0   6.6   7.6  4.8  1.6  1.1  1.6  2.3  16.3  \n",
       "17  19.7  ...  0.685  1.7  10.3  12.0  6.4  1.3  1.3  3.7  3.0  30.7  \n",
       "20  16.6  ...  0.890  0.7   3.9   4.6  2.2  1.0  0.8  1.3  3.1  19.7  \n",
       "\n",
       "[8 rows x 29 columns]"
      ]
     },
     "execution_count": 5,
     "metadata": {},
     "output_type": "execute_result"
    }
   ],
   "source": [
    "# Removes players who played for multiple teams, and only keeps their totals\n",
    "df_unique        = remove_duplicate_players(df)\n",
    "\n",
    "# Removes players who played less than 1000 minutes\n",
    "minTimePlayed    = 1000\n",
    "df_minTimePlayed = df_unique[df_unique.MP >= minTimePlayed]\n",
    "\n",
    "# The filtered dataframe\n",
    "df_filtered      = df_minTimePlayed\n",
    "df_filtered.head(8)"
   ]
  },
  {
   "cell_type": "markdown",
   "metadata": {},
   "source": [
    "### Part B: Outliers: Classical\n",
    "\n",
    "Bi)  In the older days of NBA statistics, the most common measure of a players' value were in the triple (Points per game, Rebounds per game, Assists per game).  Create new columns in your data frame that house these 3 values.\n",
    "\n",
    "Bii) Use your new columns in an $n \\times 3$ object and calculate the **Mahalanobis' distance** for each player.  Who are the largest 10 outliers?\n",
    "\n",
    "Biii) Use the `decision_function` method from a fit of SKLearn's `IsolationForest` library in the import statement above.  Who are the largest 10 outliers under an Isolation Forest?\n"
   ]
  },
  {
   "cell_type": "code",
   "execution_count": 6,
   "metadata": {},
   "outputs": [],
   "source": [
    "def mahalanobis_distance(x, M):\n",
    "    x_minus_mu  = x - np.mean(M)\n",
    "    cov         = np.cov(M.T)\n",
    "    inverse_cov = np.linalg.inv(cov)\n",
    "    return x_minus_mu.T @ inverse_cov @ x_minus_mu"
   ]
  },
  {
   "cell_type": "code",
   "execution_count": 7,
   "metadata": {},
   "outputs": [
    {
     "name": "stdout",
     "output_type": "stream",
     "text": [
      "     PTS  AST   TRB\n",
      "2    9.8  2.5  11.5\n",
      "3   20.1  5.8   9.6\n",
      "8   18.2  3.6   5.1\n",
      "9   15.2  3.1   4.6\n",
      "10  15.6  2.0  12.2\n",
      "16  16.3  4.8   7.6\n",
      "17  30.7  6.4  12.0\n",
      "20  19.7  2.2   4.6\n",
      "21  17.1  5.4   6.2\n",
      "22  17.1  2.4   6.0 \n",
      "\n",
      "Top 10 outliers based on Mahalanobis distance using the triple (PTS, AST, TRB)\n",
      "1. Draymond Green\\greendr01\n",
      "2. Russell Westbrook\\westbru01\n",
      "3. Dwight Howard\\howardw01\n",
      "4. Clint Capela\\capelca01\n",
      "5. Joel Embiid\\embiijo01\n",
      "6. Enes Kanter\\kanteen01\n",
      "7. James Harden\\hardeja01\n",
      "8. Jonas Valančiūnas\\valanjo01\n",
      "9. T.J. McConnell\\mccontj01\n",
      "10. Andre Drummond\\drumman01\n",
      "\n",
      "Top 10 outliers based on an Isolation Forest using the triple (PTS, AST, TRB)\n",
      "1. Russell Westbrook\\westbru01\n",
      "2. Draymond Green\\greendr01\n",
      "3. Joel Embiid\\embiijo01\n",
      "4. Clint Capela\\capelca01\n",
      "5. Trae Young\\youngtr01\n",
      "6. Nikola Jokić\\jokicni01\n",
      "7. Giannis Antetokounmpo\\antetgi01\n",
      "8. Stephen Curry\\curryst01\n",
      "9. James Harden\\hardeja01\n",
      "10. Dwight Howard\\howardw01\n"
     ]
    }
   ],
   "source": [
    "# i \n",
    "'''Just creates a dataframe with Points, Assists, and Total Rebounds'''\n",
    "triple_columns = df_filtered[['PTS', 'AST', 'TRB']]\n",
    "print(triple_columns.head(10), '\\n') # SANITY CHECK\n",
    "\n",
    "# ii\n",
    "col_name = 'Mahalanobis'\n",
    "n = 10\n",
    "\n",
    "'''This part simply computes the Mahalanobis distance for each row'''\n",
    "m_df = pd.DataFrame(columns=[col_name])\n",
    "for i in triple_columns.index:\n",
    "    m_df.loc[i] = mahalanobis_distance(triple_columns.loc[i], triple_columns)\n",
    "# print(m_df.head(5), '\\n') # SANITY CHECK\n",
    "    \n",
    "'''This part simply prints out the 'n' players with the largest sorted the Mahalanobis distances'''\n",
    "print(f'Top {n} outliers based on Mahalanobis distance using the triple (PTS, AST, TRB)')\n",
    "for rank, i in enumerate(m_df.sort_values(by=[col_name], ascending=False)[:n].index):\n",
    "    print(f'{rank+1}. {df_filtered.loc[i].Player}')\n",
    "\n",
    "# iii\n",
    "col_name = 'iF Score'\n",
    "scores = IsolationForest().fit(triple_columns).decision_function(triple_columns)\n",
    "iF_df = pd.DataFrame(columns=[col_name])\n",
    "for i, index in enumerate(triple_columns.index):\n",
    "    iF_df.loc[index] = scores[i]\n",
    "# print('\\n', iF_df.head(5), '\\n') # SANITY CHECK\n",
    "\n",
    "'''This part simply prints out the 'n' players with the smallest sorted the Isolation Forest scores'''\n",
    "print(f'\\nTop {n} outliers based on an Isolation Forest using the triple (PTS, AST, TRB)')\n",
    "for rank, i in enumerate(iF_df.sort_values(by=[col_name])[:n].index):\n",
    "    print(f'{rank+1}. {df_filtered.loc[i].Player}')"
   ]
  },
  {
   "cell_type": "markdown",
   "metadata": {},
   "source": [
    "### Part C: Outliers: Rate\n",
    "\n",
    "Ci)  These days, we often get better date that measures how effective or ineffective a player is *when they're on the court*.  These are known as *rate* statistics, and require us create \"per minute\" statistics for each player.  Create new columns that are (Points per 36 minutes, Rebounds per 36 minutes, Assists per 36 minutes) for each player.\n",
    "\n",
    "Cii) Use your new columns in an $n \\times 3$ object and calculate the **Mahalanobis' distance** for each player.  Who are the largest 10 outliers?\n",
    "\n",
    "Ciii) Use the `decision_function` method from a fit of SKLearn's `IsolationForest` library in the import statement above.  Who are the largest 10 outliers under an Isolation Forest?\n"
   ]
  },
  {
   "cell_type": "code",
   "execution_count": 8,
   "metadata": {},
   "outputs": [
    {
     "name": "stdout",
     "output_type": "stream",
     "text": [
      "2      1605\n",
      "3      2143\n",
      "8      1007\n",
      "9      1259\n",
      "10     1864\n",
      "       ... \n",
      "698    1748\n",
      "701    1652\n",
      "702    2125\n",
      "703    1005\n",
      "704    1609\n",
      "Name: MP, Length: 251, dtype: int64\n",
      "    PTS  AST  TRB\n",
      "2   NaN  NaN  NaN\n",
      "3   NaN  NaN  NaN\n",
      "8   NaN  NaN  NaN\n",
      "9   NaN  NaN  NaN\n",
      "10  NaN  NaN  NaN\n",
      "16  NaN  NaN  NaN\n",
      "17  NaN  NaN  NaN\n",
      "20  NaN  NaN  NaN\n",
      "21  NaN  NaN  NaN\n",
      "22  NaN  NaN  NaN \n",
      "\n"
     ]
    }
   ],
   "source": [
    "# i \n",
    "'''Just creates a dataframe with Points, Assists, and Total Rebounds'''\n",
    "print(df_filtered.MP)\n",
    "triple_columns /= df_filtered.MP\n",
    "print(triple_columns.head(10), '\\n') # SANITY CHECK\n",
    "\n",
    "# # ii\n",
    "# col_name = 'Mahalanobis'\n",
    "# n = 10\n",
    "# \n",
    "# '''This part simply computes the Mahalanobis distance for each row'''\n",
    "# m_df = pd.DataFrame(columns=[col_name])\n",
    "# for i in triple_columns.index:\n",
    "#     m_df.loc[i] = mahalanobis_distance(triple_columns.loc[i], triple_columns)\n",
    "# # print(m_df.head(5), '\\n') # SANITY CHECK\n",
    "#     \n",
    "# '''This part simply prints out the 'n' players with the largest sorted the Mahalanobis distances'''\n",
    "# print(f'Top {n} outliers based on Mahalanobis distance using the triple (PTS, AST, TRB)')\n",
    "# for rank, i in enumerate(m_df.sort_values(by=[col_name], ascending=False)[:n].index):\n",
    "#     print(f'{rank+1}. {df_filtered.loc[i].Player}')\n",
    "# \n",
    "# # iii\n",
    "# col_name = 'iF Score'\n",
    "# scores = IsolationForest().fit(triple_columns).decision_function(triple_columns)\n",
    "# iF_df = pd.DataFrame(columns=[col_name])\n",
    "# for i, index in enumerate(triple_columns.index):\n",
    "#     iF_df.loc[index] = scores[i]\n",
    "# # print('\\n', iF_df.head(5), '\\n') # SANITY CHECK\n",
    "# \n",
    "# '''This part simply prints out the 'n' players with the smallest sorted the Isolation Forest scores'''\n",
    "# print(f'\\nTop {n} outliers based on an Isolation Forest using the triple (PTS, AST, TRB)')\n",
    "# for rank, i in enumerate(iF_df.sort_values(by=[col_name])[:n].index):\n",
    "#     print(f'{rank+1}. {df_filtered.loc[i].Player}')"
   ]
  },
  {
   "cell_type": "markdown",
   "metadata": {},
   "source": [
    "---\n",
    "\n",
    "A little frustrated, because I know I'm not alone with the confusion on parts B and C... I'm all out of late days, but yet again I'm gonna turn something in late because of unnecessary ambiguity. I get that finals is busy for everyone, but with no answer on Piazza for two days forces me to sacrifice time and effort tomorrow to finish this assignment.\n",
    "\n",
    "---"
   ]
  },
  {
   "cell_type": "markdown",
   "metadata": {},
   "source": [
    "### Part D: Outliers: Which is better?\n",
    "For whether or not our methods are extracting players that are of value to the team, consider two measurements presented below.\n",
    "\n",
    "First, consider the (ordered) list of final standings in the league MVP voting, found [here](https://www.basketball-reference.com/awards/awards_2021.html#mvp).  \n",
    "Second, consider the top 20 by \"win shares\", listed [here](https://www.basketball-reference.com/leagues/NBA_2021_advanced.html#advanced_stats::ws).\n",
    "\n",
    "Modern NBA thinking suggests that rate statistics are more useful than simple aggregates.  Do we seem to get a better top-10 list from rate statistics?  Are your outliers coming from the most valuable players list or are they outliers in possibly **not** valuable ways?\n"
   ]
  },
  {
   "cell_type": "code",
   "execution_count": null,
   "metadata": {},
   "outputs": [],
   "source": [
    "# Need a question answered on Piazza...."
   ]
  },
  {
   "cell_type": "markdown",
   "metadata": {},
   "source": [
    "### Part E: Visualizing Skill\n",
    "\n",
    "We're often interested in how well a player shoots.  The issue is that the best players are often tasked with shooting more to support their team.  As a result, their shots tend to be focused on by the defenses more.  A measure of an excellent shooter isn't just their percentage of makes, but it also accounts for that the best shooters have to also make harder shots!\n",
    "\n",
    "Let's create a plot that helps identify this:\n",
    "\n",
    "- Create a variable \"eFG%\" (effective FG%), which attempts to estimate the value a player provides when they shoot by combining 2-point shots and 3-point shots.\n",
    "$$eFG\\%= \\frac{(2P)+1.5\\cdot(3P)}{(FGA)}$$\n",
    "\n",
    "- Create a variable \"SP36\"  which is the number of shots (FGA) a player takes per 36 minutes player.\n",
    "\n",
    "- Create a scatter plot of (SP36, eFG%).  Find the points for Nikola Jokić (MVP!) and for (two of) the best outside scorers in the NBA: Kevin Durant, and Stephen Curry and color them differently.  Do they appear to be outliers?\n",
    "\n",
    "- Create a scatter plot of (MP, PTS).  As before, color the points for Nikola Jokić, Kevin Durant, and Stephen Curry differently.  Do they appear to be more of outlier in these measures?"
   ]
  },
  {
   "cell_type": "code",
   "execution_count": 9,
   "metadata": {},
   "outputs": [],
   "source": [
    "eFGP = 1\n",
    "SP36 = 1"
   ]
  },
  {
   "cell_type": "markdown",
   "metadata": {},
   "source": [
    "### Part F: Single Stat-Outliers\n",
    "\n",
    "Take your choice of the statistics available that you think might best reflect \"player quality.\"  Given that statistics value for players with over 1000 minutes played:\n",
    "\n",
    "- Use a Box Cox transformation to convert it \"approximately Normal\" (or at least as close as you can get it)\n",
    "- Once transformed, get a Z-score for each player.  Who are the top 5 players and their Z-scores?"
   ]
  },
  {
   "cell_type": "code",
   "execution_count": null,
   "metadata": {},
   "outputs": [],
   "source": [
    "# Would've loved to attempt this"
   ]
  },
  {
   "cell_type": "markdown",
   "metadata": {},
   "source": [
    "***\n",
    "<a/ id='p2'></a>\n",
    "[Back to top](#top)\n",
    "# Problem 2 (25 pts; Practice: SVD)\n",
    "\n",
    "Suppose our goal is to create a song classifier that takes lyrics and attempts to group similar songs.  Load in `tokenized_songs.csv` and inspect it.\n",
    "\n",
    "The data was taken by tokenizing song lyrics from a variety of songs by 3 artists: 3 Doors Down, Britney Spears, and Rick Astley.\n"
   ]
  },
  {
   "cell_type": "code",
   "execution_count": 10,
   "metadata": {},
   "outputs": [],
   "source": [
    "df=pd.read_csv('tokenized_songs.csv')"
   ]
  },
  {
   "cell_type": "code",
   "execution_count": 11,
   "metadata": {},
   "outputs": [
    {
     "data": {
      "text/html": [
       "<div>\n",
       "<style scoped>\n",
       "    .dataframe tbody tr th:only-of-type {\n",
       "        vertical-align: middle;\n",
       "    }\n",
       "\n",
       "    .dataframe tbody tr th {\n",
       "        vertical-align: top;\n",
       "    }\n",
       "\n",
       "    .dataframe thead th {\n",
       "        text-align: right;\n",
       "    }\n",
       "</style>\n",
       "<table border=\"1\" class=\"dataframe\">\n",
       "  <thead>\n",
       "    <tr style=\"text-align: right;\">\n",
       "      <th></th>\n",
       "      <th>filtered_song_name</th>\n",
       "      <th>10</th>\n",
       "      <th>10x</th>\n",
       "      <th>110</th>\n",
       "      <th>150</th>\n",
       "      <th>17</th>\n",
       "      <th>17year</th>\n",
       "      <th>1958</th>\n",
       "      <th>1963</th>\n",
       "      <th>1966</th>\n",
       "      <th>...</th>\n",
       "      <th>youth</th>\n",
       "      <th>youve</th>\n",
       "      <th>youâ</th>\n",
       "      <th>yup</th>\n",
       "      <th>zeh</th>\n",
       "      <th>zeus</th>\n",
       "      <th>zing</th>\n",
       "      <th>zipper</th>\n",
       "      <th>zone</th>\n",
       "      <th>artist</th>\n",
       "    </tr>\n",
       "  </thead>\n",
       "  <tbody>\n",
       "    <tr>\n",
       "      <td>0</td>\n",
       "      <td>here without you</td>\n",
       "      <td>0</td>\n",
       "      <td>0</td>\n",
       "      <td>0</td>\n",
       "      <td>0</td>\n",
       "      <td>0</td>\n",
       "      <td>0</td>\n",
       "      <td>0</td>\n",
       "      <td>0</td>\n",
       "      <td>0</td>\n",
       "      <td>...</td>\n",
       "      <td>0</td>\n",
       "      <td>0</td>\n",
       "      <td>0</td>\n",
       "      <td>0</td>\n",
       "      <td>0</td>\n",
       "      <td>0</td>\n",
       "      <td>0</td>\n",
       "      <td>0</td>\n",
       "      <td>0</td>\n",
       "      <td>3-doors-down</td>\n",
       "    </tr>\n",
       "    <tr>\n",
       "      <td>1</td>\n",
       "      <td>when im gone</td>\n",
       "      <td>0</td>\n",
       "      <td>0</td>\n",
       "      <td>0</td>\n",
       "      <td>0</td>\n",
       "      <td>0</td>\n",
       "      <td>0</td>\n",
       "      <td>0</td>\n",
       "      <td>0</td>\n",
       "      <td>0</td>\n",
       "      <td>...</td>\n",
       "      <td>0</td>\n",
       "      <td>0</td>\n",
       "      <td>0</td>\n",
       "      <td>0</td>\n",
       "      <td>0</td>\n",
       "      <td>0</td>\n",
       "      <td>0</td>\n",
       "      <td>0</td>\n",
       "      <td>0</td>\n",
       "      <td>3-doors-down</td>\n",
       "    </tr>\n",
       "  </tbody>\n",
       "</table>\n",
       "<p>2 rows × 4660 columns</p>\n",
       "</div>"
      ],
      "text/plain": [
       "  filtered_song_name  10  10x  110  150  17  17year  1958  1963  1966  ...  \\\n",
       "0   here without you   0    0    0    0   0       0     0     0     0  ...   \n",
       "1       when im gone   0    0    0    0   0       0     0     0     0  ...   \n",
       "\n",
       "   youth  youve  youâ  yup  zeh  zeus  zing  zipper  zone        artist  \n",
       "0      0      0     0    0    0     0     0       0     0  3-doors-down  \n",
       "1      0      0     0    0    0     0     0       0     0  3-doors-down  \n",
       "\n",
       "[2 rows x 4660 columns]"
      ]
     },
     "execution_count": 11,
     "metadata": {},
     "output_type": "execute_result"
    }
   ],
   "source": [
    "df.head(2)"
   ]
  },
  {
   "cell_type": "code",
   "execution_count": 12,
   "metadata": {},
   "outputs": [
    {
     "data": {
      "text/plain": [
       "(548, 4660)"
      ]
     },
     "execution_count": 12,
     "metadata": {},
     "output_type": "execute_result"
    }
   ],
   "source": [
    "df.shape"
   ]
  },
  {
   "cell_type": "code",
   "execution_count": 13,
   "metadata": {},
   "outputs": [
    {
     "data": {
      "text/plain": [
       "array(['3-doors-down', 'britney-spears', 'rick-astley'], dtype=object)"
      ]
     },
     "execution_count": 13,
     "metadata": {},
     "output_type": "execute_result"
    }
   ],
   "source": [
    "df['artist'].unique()"
   ]
  },
  {
   "cell_type": "markdown",
   "metadata": {},
   "source": [
    "### Part A: All or some?: Forming SVDs"
   ]
  },
  {
   "cell_type": "markdown",
   "metadata": {},
   "source": [
    "Use `np.linalg.svd` to create the SVD of the data.  Make sure to remove the first and last columns, since they're string-based indicators and use only the tokenized lyrics.\n",
    "\n",
    "Then run your line of code to create the SVD in `timeit()` to estimate the amount of time it takes Python to create the full SVD of the data set."
   ]
  },
  {
   "cell_type": "code",
   "execution_count": 14,
   "metadata": {},
   "outputs": [],
   "source": [
    "M = df.drop(labels=['filtered_song_name', 'artist'], axis=1)"
   ]
  },
  {
   "cell_type": "code",
   "execution_count": 15,
   "metadata": {},
   "outputs": [
    {
     "name": "stdout",
     "output_type": "stream",
     "text": [
      "It took 4.48258 seconds to create the full SVD\n"
     ]
    }
   ],
   "source": [
    "starttime = timeit.default_timer()\n",
    "\n",
    "U, Sig, V = np.linalg.svd(M)\n",
    "\n",
    "endtime   = timeit.default_timer()\n",
    "\n",
    "print(f'It took {np.round(endtime - starttime, 5)} seconds to create the full SVD')"
   ]
  },
  {
   "cell_type": "markdown",
   "metadata": {},
   "source": [
    "### Part B: All or some?:  Generalized Power Iteration\n",
    "\n",
    "Use generalized power iteration to find only the first 2 eigenvalue, eigenvector pairs of the data set.  Write this as a function that inputs the original data frame (minus the first and last rows) and\n",
    "- creates $A= M^TM$\n",
    "- Uses generalized power iteration on A until $L_1$ convergence for the principal eigenvector\n",
    "- Uses generalized power iteration on A2 until $L_1$ convergence for the second principal eigenvector\n",
    " \n",
    "Time this function, as you did for `np.linalg.svd`."
   ]
  },
  {
   "cell_type": "code",
   "execution_count": 16,
   "metadata": {},
   "outputs": [],
   "source": [
    "'''\n",
    "https://towardsdatascience.com/simple-svd-algorithms-13291ad2eef2\n",
    "https://github.com/j2kun/svd/blob/main/svd.py\n",
    "\n",
    "Wanted to see how to deal with the subtraction of previous eigenstuff.\n",
    "\n",
    "Specifically, from the slides in class (lecture 18), it says xx^T is an outer product, \n",
    "but I wasn't computing it as such until I saw this code.\n",
    "'''\n",
    "def power_iteration_SVD(M, k=1, threshold=1e-5, n_norm=None):\n",
    "    # Picking the smaller of (M@M.T) or (M.T@M)\n",
    "    if M.shape[0] <= M.T.shape[0]:\n",
    "        A = M @ M.T\n",
    "    else:\n",
    "        A = M.T @ M\n",
    "    # eigenpair lists\n",
    "    eig   = []\n",
    "    eig_v = []\n",
    "    # iterate to find k eigenpairs\n",
    "    for _ in range(k):\n",
    "        # subtract out any existing eignepairs\n",
    "        A_k = A.copy()\n",
    "        for i in range(len(eig)):\n",
    "            A_k -= eig[i] * np.outer(eig_v[i], eig_v[i].T)\n",
    "        # initialize an eigenvector to perform power iteration on\n",
    "        x = np.ones(A_k.shape[0])\n",
    "        # perform power iteration\n",
    "        converged  = False\n",
    "        while not converged:\n",
    "            x_new  = A_k @ x\n",
    "            # must normalize\n",
    "            x_new /= np.linalg.norm(x_new)\n",
    "            # check for convergence\n",
    "            if np.linalg.norm(x - x_new, ord=n_norm) <= threshold:\n",
    "                converged = True\n",
    "            x      = x_new\n",
    "        # append the eigenpairs to their respective lists\n",
    "        eig.append(x.T @ A_k @ x)\n",
    "        eig_v.append(x) \n",
    "    return eig, eig_v"
   ]
  },
  {
   "cell_type": "code",
   "execution_count": 17,
   "metadata": {},
   "outputs": [
    {
     "name": "stdout",
     "output_type": "stream",
     "text": [
      "[432118.12807842944, 62592.753135858446] [0      0.040963\n",
      "1      0.055111\n",
      "2      0.043321\n",
      "3      0.056997\n",
      "4      0.024405\n",
      "         ...   \n",
      "543    0.013486\n",
      "544    0.031012\n",
      "545    0.026344\n",
      "546    0.017291\n",
      "547    0.026655\n",
      "Length: 548, dtype: float64, 0     -0.004005\n",
      "1     -0.010548\n",
      "2     -0.023312\n",
      "3     -0.044653\n",
      "4      0.024227\n",
      "         ...   \n",
      "543    0.015434\n",
      "544   -0.009399\n",
      "545   -0.008244\n",
      "546    0.003033\n",
      "547   -0.003091\n",
      "Length: 548, dtype: float64]\n"
     ]
    }
   ],
   "source": [
    "eig, eig_v = power_iteration_SVD(M, k=2, n_norm=1)\n",
    "print(eig, eig_v)"
   ]
  },
  {
   "cell_type": "markdown",
   "metadata": {},
   "source": [
    "### Part C: Compare\n",
    "\n",
    "Print the top two singular values and the top two eigenvalues by the two methods and ensure their eqiuvalence.\n",
    "\n",
    "Which method was faster?  We should maybe expect the generalized power iteration to perform less operations, but what kind of efficiencies might exist in the np.linalg.svd function that don't exist in our generalized power iteration?\n",
    "\n",
    "(Hints: consider sparsity, and look up `np.linalg.eigh`)"
   ]
  },
  {
   "cell_type": "code",
   "execution_count": 18,
   "metadata": {},
   "outputs": [
    {
     "name": "stdout",
     "output_type": "stream",
     "text": [
      "The top two singular values from my method: [657.35693 250.18544]\n",
      "The top two eigenvalues from my method: [432118.12808  62592.75314]\n",
      "\n",
      "The top two singular values from the numpy method: [657.35693 250.18544]\n",
      "The top two eigenvalues from the numpy method: [432118.12808  62592.75314]\n"
     ]
    }
   ],
   "source": [
    "'''My methods'''\n",
    "# gotta take the square root of the eigenvalues my method returns...\n",
    "print(f'The top two singular values from my method: {np.round(np.sqrt(eig[:2]), 5)}')\n",
    "# my method returns eigenvalues...\n",
    "print(f'The top two eigenvalues from my method: {np.round(eig[:2], 5)}\\n')\n",
    "\n",
    "'''Numpy methods'''\n",
    "# numpy returns singular values...\n",
    "print(f'The top two singular values from the numpy method: {np.round(Sig[:2], 5)}')\n",
    "# gotta square the singular values the numpy method returns...\n",
    "print(f'The top two eigenvalues from the numpy method: {np.round(Sig[:2] ** 2, 5)}')"
   ]
  },
  {
   "cell_type": "markdown",
   "metadata": {},
   "source": [
    "### Part D: Visualize Results\n",
    "\n",
    "Take the original data and rotate it into 2 dimensions corresponding to the dominant two word-concepts.  As a sanity check, your final plot should have 548 rows (each of which are coordinate pairs), since we've collapsed the 4558 \"word\" columns into their principal directions.\n",
    "\n",
    "Create a scatter plot of the data, labeling your axes \"PC1\" and \"PC2\" and coloring the data by the artist."
   ]
  },
  {
   "cell_type": "code",
   "execution_count": 19,
   "metadata": {
    "scrolled": false
   },
   "outputs": [],
   "source": [
    "def rotate_data(M, eig_vecs):    \n",
    "    E = np.column_stack(eig_vecs)\n",
    "    print(E)\n",
    "    if M.shape[0] <= M.T.shape[0]:\n",
    "        A = M @ M.T\n",
    "#         A /= np.linalg.norm(A)\n",
    "    else:\n",
    "        A = M.T @ M\n",
    "#         A /= np.linalg.norm(A)\n",
    "    return A @ E"
   ]
  },
  {
   "cell_type": "code",
   "execution_count": 20,
   "metadata": {},
   "outputs": [
    {
     "name": "stdout",
     "output_type": "stream",
     "text": [
      "[[ 0.04096309 -0.00400515]\n",
      " [ 0.05511075 -0.01054778]\n",
      " [ 0.04332137 -0.02331186]\n",
      " ...\n",
      " [ 0.02634387 -0.00824372]\n",
      " [ 0.01729074  0.00303286]\n",
      " [ 0.02665536 -0.00309089]]\n"
     ]
    },
    {
     "data": {
      "text/plain": [
       "Text(0, 0.5, 'PC2')"
      ]
     },
     "execution_count": 20,
     "metadata": {},
     "output_type": "execute_result"
    },
    {
     "data": {
      "image/png": "[encoded data removed]",
      "text/plain": [
       "<Figure size 432x288 with 1 Axes>"
      ]
     },
     "metadata": {
      "needs_background": "light"
     },
     "output_type": "display_data"
    }
   ],
   "source": [
    "# Rotating the data\n",
    "rotated_data = rotate_data(M, eig_v)\n",
    "\n",
    "# Coloring by artist\n",
    "colors = ['red', 'blue', 'green']\n",
    "c      = [colors[i] for i, u_artist in enumerate(df.artist.unique()) for artist in df.artist if u_artist == artist]\n",
    "\n",
    "# Scatter plot\n",
    "plt.scatter(rotated_data[0], rotated_data[1], c=c)\n",
    "\n",
    "# Setting axes\n",
    "plt.xlabel('PC1')\n",
    "plt.ylabel('PC2')"
   ]
  },
  {
   "cell_type": "markdown",
   "metadata": {},
   "source": [
    "### Part E: Inspect Results\n",
    "\n",
    "You should notice that one artist seems to be responsible for most of the outlying songs in the principal component directions.\n",
    "\n",
    "Ei) Let's create a very lazy measure for outlierness and say that any song that has a **sum** of PC1 and PC2 values exceeding 100 is an \"outlier,\" of which there should be 4 songs.  Which songs are they?\n",
    "\n",
    "Eii) What lyrics seem to be most responsible for the spread of the data in the reduced dimensions?  In other words: in these 4 songs what words were most common, and how often did they occur? Print out the word frequencies in the original data frame for any words that appeared 25 or more times in the 4 \"outlier\" songs.\n",
    "\n",
    "Eiii) More importantly: is there anything else we could or should have done when processing the songs to possibly prevent this?"
   ]
  },
  {
   "cell_type": "code",
   "execution_count": 21,
   "metadata": {},
   "outputs": [
    {
     "name": "stdout",
     "output_type": "stream",
     "text": [
      "                0            1\n",
      "0    17700.894339  -250.695398\n",
      "1    23814.353023  -660.219398\n",
      "2    18719.950584 -1459.155437\n",
      "3    24629.286835 -2794.963576\n",
      "4    10545.788680  1516.413313\n",
      "..            ...          ...\n",
      "543   5827.557997   966.073328\n",
      "544  13400.642667  -588.298730\n",
      "545  11383.664787  -515.998238\n",
      "546   7471.644210   189.833804\n",
      "547  11518.263215  -193.468883\n",
      "\n",
      "[548 rows x 2 columns]\n",
      "112194.07625018674 9066739.736416673\n"
     ]
    }
   ],
   "source": [
    "print(rotated_data)\n",
    "print(np.min(np.sum(rotated_data)), np.max(np.sum(rotated_data)))"
   ]
  },
  {
   "cell_type": "markdown",
   "metadata": {},
   "source": [
    "**Solution Markdown**: \n",
    "\n",
    "\n",
    "Again, asked a question about this two days ago, and still no answer. Without attempting to normalize $ME$, I have every song as an outlier. When I try to normalize, no songs are outliers. I'm 90% sure I did what was in the slides, so who knows anymore."
   ]
  },
  {
   "cell_type": "markdown",
   "metadata": {},
   "source": [
    "### Part F: The last homework problem of the class\n",
    "\n",
    "Take the original data\n",
    "Consider the song in index 501 of the original data frame.  What song is it?  How strong was it in the concept space in the 2-dimensional representation of the data?  Does it appear exceptional in any way?  Repeat your plot from part C with song \\#501 in its own color, with a label."
   ]
  },
  {
   "cell_type": "code",
   "execution_count": 22,
   "metadata": {},
   "outputs": [
    {
     "name": "stdout",
     "output_type": "stream",
     "text": [
      "The name of song #501 is: never gonna give you up by rick-astley\n",
      "\n",
      "Strength of song #501 is:\n",
      "0    16462.676174\n",
      "1    -2055.828481\n",
      "Name: 501, dtype: float64\n"
     ]
    },
    {
     "data": {
      "text/plain": [
       "Text(16462.676173645345, -2055.8284807987125, 'never gonna give you up')"
      ]
     },
     "execution_count": 22,
     "metadata": {},
     "output_type": "execute_result"
    },
    {
     "data": {
      "image/png": "[encoded data removed]",
      "text/plain": [
       "<Figure size 432x288 with 1 Axes>"
      ]
     },
     "metadata": {
      "needs_background": "light"
     },
     "output_type": "display_data"
    }
   ],
   "source": [
    "# Finding the song at the given index\n",
    "index     = 501\n",
    "loc       = df.loc[index]\n",
    "song_name = loc.filtered_song_name\n",
    "artist    = loc.artist\n",
    "print(f'The name of song #{index} is: {song_name} by {artist}\\n')\n",
    "\n",
    "# Seeing how strong the song is in the concept space of the 2-D representation\n",
    "print(f'Strength of song #{index} is:\\n{rotated_data.T[index]}')\n",
    "\n",
    "# Coloring by artist\n",
    "colors   = ['red', 'blue', 'green', 'orange']\n",
    "c        = [colors[i] for i, u_artist in enumerate(df.artist.unique()) for artist in df.artist if u_artist == artist]\n",
    "c[index] = colors[-1]\n",
    "# Scatter plot\n",
    "plt.scatter(rotated_data[0], rotated_data[1], c=c)\n",
    "\n",
    "# Setting axes\n",
    "plt.xlabel('PC1')\n",
    "plt.ylabel('PC2')\n",
    "\n",
    "# Labelling our point\n",
    "label = f'{song_name}'\n",
    "x     = rotated_data.T[index][0]\n",
    "y     = rotated_data.T[index][1]\n",
    "plt.annotate(label, (x, y), fontsize=15, color=colors[-1])"
   ]
  },
  {
   "cell_type": "markdown",
   "metadata": {},
   "source": [
    "*Never gonna give you up* looks incredibly strong in the concept space, but since I had trouble a few questions ago, this doesn't seem to make sense (as I expected it to be an outlier) and I don't know. With the compounding effect these questions have, it's incredibly difficult to do well on remaining parts when there's still confusion on the previous parts."
   ]
  }
 ],
 "metadata": {
  "kernelspec": {
   "display_name": "Python 3",
   "language": "python",
   "name": "python3"
  },
  "language_info": {
   "codemirror_mode": {
    "name": "ipython",
    "version": 3
   },
   "file_extension": ".py",
   "mimetype": "text/x-python",
   "name": "python",
   "nbconvert_exporter": "python",
   "pygments_lexer": "ipython3",
   "version": "3.7.10"
  }
 },
 "nbformat": 4,
 "nbformat_minor": 2
}
