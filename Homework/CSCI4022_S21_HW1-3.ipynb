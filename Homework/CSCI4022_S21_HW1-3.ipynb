{
 "cells": [
  {
   "cell_type": "markdown",
   "metadata": {},
   "source": [
    "# CSCI4022 Homework 1; Review\n",
    "\n",
    "## Due Tuesday, September 7 at 11:59 pm to Canvas and Gradescope\n",
    "\n",
    "#### Submit this file as a .ipynb with *all cells compiled and run* to the associated dropbox.\n",
    "\n",
    "***\n",
    "\n",
    "Your solutions to computational questions should include any specified Python code and results as well as written commentary on your conclusions.  Remember that you are encouraged to discuss the problems with your classmates, but **you must write all code and solutions on your own**.\n",
    "\n",
    "**NOTES**: \n",
    "\n",
    "- Any relevant data sets should be available on Canvas. To make life easier on the graders if they need to run your code, do not change the relative path names here. Instead, move the files around on your computer.\n",
    "- If you're not familiar with typesetting math directly into Markdown then by all means, do your work on paper first and then typeset it later.  Here is a [reference guide](https://math.meta.stackexchange.com/questions/5020/mathjax-basic-tutorial-and-quick-reference) linked on Canvas on writing math in Markdown. **All** of your written commentary, justifications and mathematical work should be in Markdown.  I also recommend the [wikibook](https://en.wikibooks.org/wiki/LaTeX) for LaTex.\n",
    "- Because you can technically evaluate notebook cells is a non-linear order, it's a good idea to do **Kernel $\\rightarrow$ Restart & Run All** as a check before submitting your solutions.  That way if we need to run your code you will know that it will work as expected. \n",
    "- It is **bad form** to make your reader interpret numerical output from your code.  If a question asks you to compute some value from the data you should show your code output **AND** write a summary of the results in Markdown directly below your code. \n",
    "- 45 points of this assignment are in problems.  The remaining 5 are for neatness, style, and overall exposition of both code and text.\n",
    "- This probably goes without saying, but... For any question that asks you to calculate something, you **must show all work and justify your answers to receive credit**. Sparse or nonexistent work will receive sparse or nonexistent credit. \n",
    "- There is *not a prescribed API* for these problems.  You may answer coding questions with whatever syntax or object typing you deem fit.  Your evaluation will primarily live in the clarity of how well you present your final results, so don't skip over any interpretations!  Your code should still be commented and readable to ensure you followed the given course algorithm.\n",
    "\n",
    "\n",
    "---\n",
    "**Shortcuts:**  [Problem 1](#p1) | [Problem 2](#p2) | [Problem 3](#p3) |\n",
    "---"
   ]
  },
  {
   "cell_type": "code",
   "execution_count": 1,
   "metadata": {},
   "outputs": [],
   "source": [
    "import matplotlib.pyplot as plt\n",
    "import numpy as np\n",
    "import pandas as pd"
   ]
  },
  {
   "cell_type": "markdown",
   "metadata": {},
   "source": [
    "[Back to top](#top)\n",
    "<a/ id='p1'></a>\n",
    "\n",
    "## Problem 1 (Numerics... kind of; 11 points)\n",
    "***\n",
    "####  a) Solve for $b$ in the matrix-vector product $$\\begin{bmatrix}a_1 & a_2 \\\\ a_3 & a_4\\end{bmatrix} \\cdot \\begin{bmatrix}x_1\\\\ x_2\\end{bmatrix}=b.$$\n",
    "\n",
    "####  How many computations does this take, if each multiplication and addition is counted as a separate computation?  \n",
    "\n",
    " #### What about for\n",
    "\n",
    "$$\\begin{bmatrix}a_1 & a_2 &a_3 \\\\ a_4 & a_5 &a_6 \\\\ a_7&a_8&a_9 \\end{bmatrix} \\cdot \\begin{bmatrix}x_1\\\\ x_2\\\\x_3\\end{bmatrix}=b?$$\n",
    "\n",
    "Use the following markdown cell to show all work in computing the exact answer.\n"
   ]
  },
  {
   "cell_type": "markdown",
   "metadata": {},
   "source": []
  },
  {
   "cell_type": "markdown",
   "metadata": {},
   "source": [
    "\n",
    "####  b) How many computations does matrix-vector computation take if the matrix $A$ is a square $n \\times n$ matrix and the vector $x$ is $n \\times 1$? \n",
    "\n",
    "Visually:\n",
    "\n",
    "$$\\begin{bmatrix} \n",
    "    a_{11} & a_{12} & \\dots \\\\\n",
    "    \\vdots & \\ddots & \\\\\n",
    "    a_{n1} &        & a_{nn} \n",
    "    \\end{bmatrix}  \\cdot \\begin{bmatrix}x_1\\\\ \\vdots \\\\x_n\\end{bmatrix}=b$$\n",
    "\n",
    "Use the following markdown cell to show all work in computing the exact answer.\n"
   ]
  },
  {
   "cell_type": "markdown",
   "metadata": {},
   "source": []
  },
  {
   "cell_type": "markdown",
   "metadata": {},
   "source": [
    "#### c) How many computations does square matrix-matrix multiplication take if each matrix is $n \\times n$? \n",
    "\n",
    "For example:\n",
    "\n",
    "$$\\begin{bmatrix} \n",
    "    a_{11} & a_{12} & \\dots \\\\\n",
    "    \\vdots & \\ddots & \\\\\n",
    "    a_{n1} &        & a_{nn} \n",
    "    \\end{bmatrix} \\cdot \n",
    "    \\begin{bmatrix} \n",
    "    b_{11} & b_{12} & \\dots \\\\\n",
    "    \\vdots & \\ddots & \\\\\n",
    "    b_{n1} &        & b_{nn} \n",
    "    \\end{bmatrix}=C$$\n",
    "    \n",
    "Hint: how many computations for the entry $c_{ij}$ in row $i$, column $j$?\n",
    "\n",
    "If $n=10^4$, what number is this?"
   ]
  },
  {
   "cell_type": "markdown",
   "metadata": {},
   "source": []
  },
  {
   "cell_type": "markdown",
   "metadata": {},
   "source": [
    "[Back to top](#top)\n",
    "<a/ id='p2'></a>\n",
    "\n",
    "## Problem 2 (Visualizations and Dimension Reduction; 17 points)\n",
    "***\n"
   ]
  },
  {
   "cell_type": "markdown",
   "metadata": {},
   "source": [
    "The Zeiss Xradia x-ray microscope (XRM) that lives in the basement of engineering is a pretty cool device that forms 3-dimensional reconstructions of scanned objects by bombaring them with light and recording the resulting intensity/light interference of the resulting object.  As one stage in processing, each object is reduced into a large number of \"voxels\" and their resulting intensities.  In this problem we take a reduced set of data of this form and convert the \"voxels\" into point locations (in micrometers) and visualize the results.\n",
    "\n",
    "The University of Colorado Museum of Natural History is currently using the XRM to catalogue and save some of their artifacts, as well as allow for the possibility of 3-D digital printings and reconstructions.  We've been given access to some of their data!"
   ]
  },
  {
   "cell_type": "markdown",
   "metadata": {},
   "source": [
    "The following should load in the data, make it an `np.array` instead of a data frame, and create a **projection**, where data from one dimension is entirely exluded.  In this case, we're taking all of the \"Z\" values that were in third column of `mat` and \"projecting\" them onto the X-Y plane for a nice and easy-to-see scatter plot.\n",
    "\n",
    "Clearly these aren't random points, but what **is** this thing?"
   ]
  },
  {
   "cell_type": "code",
   "execution_count": 2,
   "metadata": {},
   "outputs": [
    {
     "data": {
      "text/plain": [
       "<matplotlib.collections.PathCollection at 0x1e7d96bbcc0>"
      ]
     },
     "execution_count": 2,
     "metadata": {},
     "output_type": "execute_result"
    },
    {
     "data": {
      "image/png": "[encoded data removed]",
      "text/plain": [
       "<matplotlib.figure.Figure at 0x1e7d96014e0>"
      ]
     },
     "metadata": {},
     "output_type": "display_data"
    }
   ],
   "source": [
    "dat=pd.read_csv('../data/xrm_10k.csv', encoding='UTF-8')\n",
    "mat=np.array(dat[['X','Y','Z']])\n",
    "plt.scatter(mat[:,0],mat[:,1], 5, marker=',')"
   ]
  },
  {
   "cell_type": "markdown",
   "metadata": {},
   "source": [
    "**Part A**:  Create scatter plot projections of the given point cloud onto the other two cartesian axis (the XZ and YZ planes)."
   ]
  },
  {
   "cell_type": "code",
   "execution_count": null,
   "metadata": {},
   "outputs": [],
   "source": []
  },
  {
   "cell_type": "markdown",
   "metadata": {},
   "source": [
    "**Part B**:  It's a little silly to be constrained by the orientation of the object in the XRM itself, since there's no concrete meaning to the X, Y, and Z of the object.  We might ask ourselves if there's a way to re-orient the object and view it form an angle that makes it more clear what it is.\n",
    "\n",
    "To this end we can employ a **rotation matrix**, code for which is given below.  It uses the aeronautical terms associated with aircraft, which can be hard to understand for a lay person.  Create a small visualization using scatter plots that you believe demonstrate the exact effects of *pitch*, *yaw*, and *roll*.  See also: [wiki](https://en.wikipedia.org/wiki/Aircraft_principal_axes).\n",
    "\n",
    "**Hint:** You're free to take your own approach here, but I recommend picking one of the 3 projections and then applying a small \"rotation\" of e.g. 0 pitch, 0 roll, and 30 degree yaw (**What's that in radians?**).  The side-by-side plots of before and after the rotation might show what yaw is, with an accompanying sentence."
   ]
  },
  {
   "cell_type": "code",
   "execution_count": 3,
   "metadata": {},
   "outputs": [],
   "source": [
    "def rotate(mat, yaw, pitch, roll):\n",
    "    r_mat=[[np.cos(yaw)*np.cos(pitch), \\\n",
    "            np.cos(yaw)*np.sin(pitch)*np.sin(roll)- np.sin(yaw)*np.cos(roll),\\\n",
    "            np.cos(yaw)*np.sin(pitch)*np.cos(roll)+np.sin(yaw)*np.sin(roll) ],\\\n",
    "           [np.sin(yaw)*np.cos(pitch), \\\n",
    "            np.sin(yaw)*np.sin(pitch)*np.sin(roll)+ np.cos(yaw)*np.cos(roll),\\\n",
    "            np.sin(yaw)*np.sin(pitch)*np.cos(roll)-np.cos(yaw)*np.sin(roll) ]\\\n",
    "           [-np.sin(pitch), \\\n",
    "            np.cos(pitch)*np.sin(roll),\\\n",
    "            np.cos(pitch)*np.cos(roll)]\n",
    "          ]\n",
    "    return np.matmul(mat, r_mat)"
   ]
  },
  {
   "cell_type": "code",
   "execution_count": null,
   "metadata": {},
   "outputs": [],
   "source": []
  },
  {
   "cell_type": "markdown",
   "metadata": {},
   "source": [
    "**Part C**:  A common goal in Data Science might be to come up with the \"best\" rotation out of all the possible ways.  To this end we will perform the following exercise:\n",
    "\n",
    "1) Consider rotations where pitch, yaw, and roll are all values taken from the list [0, 30, 45, 60, 90, 120, 135, 150].  For **all $8^3$ such rotations**, create a rotated data set and project it onto the X-Y plane (columns 0 and 1).\n",
    "\n",
    "2) For each data set in 1), find the ones with the following properties, and plot their post-rotation X-Y projections:\n",
    "\n",
    "    A) The data set with the smallest minimum-area rectangle necessary to fit the entire object on the XY plane.\n",
    "    B) The data set with the largest minimum-area rectangle necessary to fit the entire object on the XY plane.\n",
    "    C) The data set with the largest difference between it's x-dimension range and y-dimension length.\n",
    "    \n",
    "Each of the calculations in 2 should be manageable predominantly with calls to `np.min` and `np.max`."
   ]
  },
  {
   "cell_type": "code",
   "execution_count": null,
   "metadata": {},
   "outputs": [],
   "source": []
  },
  {
   "cell_type": "markdown",
   "metadata": {},
   "source": [
    "**Part D**: Can you tell what the object actually is?  Are the measures in **Part C** actually good choices of \"best\" projections, or can you think of some others?  You may describe the features that you think make for a good projection in words."
   ]
  },
  {
   "cell_type": "code",
   "execution_count": null,
   "metadata": {},
   "outputs": [],
   "source": []
  },
  {
   "cell_type": "markdown",
   "metadata": {},
   "source": [
    "[Back to top](#top)\n",
    "<a/ id='p2'></a>\n",
    "## Problem 3 (Hypothesis Simulation; 17 points)\n",
    "***\n",
    "One question we will often be tasked with in the semester is asking what \"random\" looks like.  In hypothesis testing, we typically ask \"what is the probability of observing *this* test statistic if everything is fair/random.\"  We can then do so for a variety of test statistics (`Z`, `T`, proportions, sample variances, etc.) to draw conclusions like \"That doesn't look random!  It's extremely unlikely to happen under the **null hypothesis**, so we reject that hypothesis.\"\n",
    "\n",
    "As we develop new tools this semester, simulation can help us determine what our tools do if everything is random, which helps provide context to the answers we get on real data - which ideally includes a real signal in it that we want to discover.\n",
    "\n",
    "Suppose we're about to play a newly invented \"game\" of chance.\n",
    "\n",
    "In this game, you:\n",
    "\n",
    "    1) Roll a single (fair) 6-sided die.  The value of the upward face of the die is your score.\n",
    "    2) Roll a number of 6-sided dice equal to your score in 1).  Add the value of the upward faces of the die to your score.\n",
    "    3) Continue to roll a number additional dice equal to exactly what was face-up on your previous roll, adding the result to your score.\n",
    "    4) If at any time, you've rolled 20 or more dice with the *same* value showing, do not roll again.  Simply add the current result to your score and stop.\n",
    "\n",
    "Not being in the mood to solve an incredibly tedious discrete probability problem, you decide to *simulate* the game to get a feeling for what a reasonable score is.\n",
    "\n",
    "One simulation might be:\n",
    "\n",
    "    1) Zach rolls a '5'.  Score is 5.\n",
    "    2) Zach rolls '1, 2, 2, 5, 6'.  Add 16, so score is now 21.\n",
    "    3) Zach rolls 16 dice.  He adds the resulting faces (in this case, 51) to his score, which is now 72.\n",
    "    4) Zach rolls 51 dice and adds the resulting 163 to his score, making a score of 235.\n",
    "    5) He rolls once more - 163 dice - adding 500 for a score of 735.  This is his final score, as this last roll included 35 \"4's\" as the most common die face (and 35 is 20 or more).\n",
    "\n",
    "**Part A**: Simulate 10,000 \"plays\" of this game, saving all of the final scores as well as the first roll of each.  Report the average final score.\n",
    "\n",
    "NB: `np.unique` can be a good way to check if you have 20 or more of one face."
   ]
  },
  {
   "cell_type": "code",
   "execution_count": null,
   "metadata": {},
   "outputs": [],
   "source": []
  },
  {
   "cell_type": "markdown",
   "metadata": {},
   "source": [
    "**Part B**: Create a density histogram of the final scores.  Label axes, and include a title.  Does this appear to be normally distributed? Why would we care?\n",
    "    "
   ]
  },
  {
   "cell_type": "code",
   "execution_count": null,
   "metadata": {},
   "outputs": [],
   "source": []
  },
  {
   "cell_type": "markdown",
   "metadata": {},
   "source": [
    "**Part C**: Your friend (who really hates losing) approaches you and says \"I'm pretty sure this game is unfair and your dice are loaded.  I played 10 times and my average score was a 500!  There's no way that should happen on fair dice.\"\n",
    "\n",
    "**C1**: What is your estimated probability that a single game scores 500 or less?\n",
    "    \n",
    "**C2**: What would you estimate the probability to be that an average score of 10 games is 500 or less?\n",
    "     \n",
    "**C3**: Suppose we were to create a 1-tailed hypothesis test of the form \"I reject the null hypothesis that fair dice were used if a set of 10 games has an average score less than or equal to $c$.\"  What would you choose for $c$ if you wanted a probability of Type I error of .01 or less?\n",
    "\n",
    "**C4**: What do you tell your friend?"
   ]
  },
  {
   "cell_type": "code",
   "execution_count": null,
   "metadata": {},
   "outputs": [],
   "source": []
  },
  {
   "cell_type": "markdown",
   "metadata": {},
   "source": [
    "**Part D**: You decide that if you wanted to cheat your friend, it would make way more sense to weight the *first* die roll than try to find tens or hundreds of weighted dice.  Carefully justifying your answer with both numerical and visual results, how would you weight the die on the *first* roll to **minimize** your friends score?"
   ]
  },
  {
   "cell_type": "code",
   "execution_count": null,
   "metadata": {},
   "outputs": [],
   "source": []
  }
 ],
 "metadata": {
  "kernelspec": {
   "display_name": "Python 3",
   "language": "python",
   "name": "python3"
  },
  "language_info": {
   "codemirror_mode": {
    "name": "ipython",
    "version": 3
   },
   "file_extension": ".py",
   "mimetype": "text/x-python",
   "name": "python",
   "nbconvert_exporter": "python",
   "pygments_lexer": "ipython3",
   "version": "3.7.10"
  }
 },
 "nbformat": 4,
 "nbformat_minor": 2
}
