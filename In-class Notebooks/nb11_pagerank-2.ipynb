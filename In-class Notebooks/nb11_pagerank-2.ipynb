{
 "cells": [
  {
   "cell_type": "markdown",
   "metadata": {},
   "source": [
    "# Notebook 11: PageRank Computation\n",
    "***\n",
    "\n",
    "In this notebook we'll have a closer look at some of the issues that can confound a naive calculation of PageRank (dead-ends and spider traps). But, we'll also compute PageRank in a way to solve these issues!\n",
    "\n",
    "We'll need numpy for this notebook, so let's load it."
   ]
  },
  {
   "cell_type": "code",
   "execution_count": 2,
   "metadata": {},
   "outputs": [],
   "source": [
    "import numpy as np"
   ]
  },
  {
   "cell_type": "markdown",
   "metadata": {},
   "source": [
    "<br>\n",
    "\n",
    "### Exercise 0: Following along in class\n",
    "\n",
    "The transition matrix $M$ for the spider trap example from class is:"
   ]
  },
  {
   "cell_type": "code",
   "execution_count": 3,
   "metadata": {},
   "outputs": [],
   "source": [
    "M = np.array([[1/2, 1/2, 0],\n",
    "              [1/2, 0  , 0],\n",
    "              [0  , 1/2, 1]])"
   ]
  },
  {
   "cell_type": "markdown",
   "metadata": {},
   "source": [
    "And we saw that the modified transition matrix, to account for the possible teleports out of dead ends and spider traps, is:\n",
    "$$A = \\beta M + (1-\\beta) \\left[\\dfrac{1}{N}\\right]_{N\\times N}$$\n",
    "\n",
    "where $N$ is the number of pages and $\\beta$ is the probability of following an actual link. We can construct $A$ as follows:"
   ]
  },
  {
   "cell_type": "code",
   "execution_count": 4,
   "metadata": {},
   "outputs": [
    {
     "name": "stdout",
     "output_type": "stream",
     "text": [
      "[[ 7.  7.  1.]\n",
      " [ 7.  1.  1.]\n",
      " [ 1.  7. 13.]]\n"
     ]
    }
   ],
   "source": [
    "beta = 0.8\n",
    "A = beta*M + (1-beta)*np.ones((3,3))/3\n",
    "# Check after multiplying by 15 since that's the common denominator in \n",
    "# the slides (otherwise they'd be decimals and hard to compare directly)\n",
    "print(A*15)"
   ]
  },
  {
   "cell_type": "code",
   "execution_count": 5,
   "metadata": {},
   "outputs": [
    {
     "name": "stdout",
     "output_type": "stream",
     "text": [
      "[0.214 0.153 0.633]\n"
     ]
    }
   ],
   "source": [
    "# initialize\n",
    "r_old = np.repeat(1/3, 3)\n",
    "\n",
    "# powerfully iterate\n",
    "for _ in range(10):\n",
    "    r_new = np.matmul(A, r_old)\n",
    "    r_old = r_new\n",
    "\n",
    "# see if we agree with what we see on the slides...\n",
    "print(np.round(r_new,3))"
   ]
  },
  {
   "cell_type": "markdown",
   "metadata": {},
   "source": [
    "Sick!"
   ]
  },
  {
   "cell_type": "markdown",
   "metadata": {},
   "source": [
    "<br>\n",
    "\n",
    "### Exercise 1: Dead-ends and spider traps!\n",
    "\n",
    "Seen here are two graphs: one has a spider trap, and one has a dead end. As we saw in the lecture, both present issues if one attempts to use the \"vanilla\" PageRank calculation from last time.\n",
    "\n",
    "<img width=600px src=\"http://www.cs.colorado.edu/~anwo7157/home/resources/pagerank2.png\">\n",
    "\n",
    "**[1]** Identify which of these graphs has the spider trap and which has the dead end. Which page(s) are associated with each of those problematic structures?\n",
    "\n",
    "**[2]** Then, form a hypothesis about how the computed PageRanks will reflect the dead end and spider trap problems in these graphs."
   ]
  },
  {
   "cell_type": "code",
   "execution_count": 6,
   "metadata": {},
   "outputs": [],
   "source": [
    "# Define the transition matrices for each graph\n",
    "M1 = np.array([[0, 0, 1/2, 1/3, 1/2],\n",
    "               [1, 0, 0  , 0  , 1/2],\n",
    "               [0, 0, 0  , 1/3, 0  ],\n",
    "               [0, 0, 1/2, 0  , 0  ],\n",
    "               [0, 1, 0  , 1/3, 0  ]])\n",
    "\n",
    "M2 = np.array([[0, 0, 1/2, 0, 1/3],\n",
    "               [1, 0, 0  , 0, 1/3],\n",
    "               [0, 0, 0  , 0, 1/3],\n",
    "               [0, 0, 1/2, 0, 0  ],\n",
    "               [0, 1, 0  , 0, 0  ]])"
   ]
  },
  {
   "cell_type": "markdown",
   "metadata": {},
   "source": [
    "Use 20 iterations of power iteration to obtain estimates for the PageRanks for each graph using the methods from last time. That is, use power iteration on the un-altered $M$ matrices. Were your hypotheses regarding the PageRanks correct?"
   ]
  },
  {
   "cell_type": "code",
   "execution_count": 7,
   "metadata": {},
   "outputs": [
    {
     "ename": "NameError",
     "evalue": "name 'dist_L1' is not defined",
     "output_type": "error",
     "traceback": [
      "\u001b[0;31m---------------------------------------------------------------------------\u001b[0m",
      "\u001b[0;31mNameError\u001b[0m                                 Traceback (most recent call last)",
      "\u001b[0;32m<ipython-input-7-6dafa7f5a134>\u001b[0m in \u001b[0;36m<module>\u001b[0;34m\u001b[0m\n\u001b[1;32m      4\u001b[0m \u001b[0;34m\u001b[0m\u001b[0m\n\u001b[1;32m      5\u001b[0m \u001b[0miters\u001b[0m \u001b[0;34m=\u001b[0m \u001b[0;36m1\u001b[0m\u001b[0;34m\u001b[0m\u001b[0;34m\u001b[0m\u001b[0m\n\u001b[0;32m----> 6\u001b[0;31m \u001b[0;32mwhile\u001b[0m \u001b[0mdist_L1\u001b[0m\u001b[0;34m(\u001b[0m\u001b[0mr_old\u001b[0m\u001b[0;34m,\u001b[0m \u001b[0mr_new\u001b[0m\u001b[0;34m)\u001b[0m \u001b[0;34m>=\u001b[0m \u001b[0mtol\u001b[0m\u001b[0;34m:\u001b[0m \u001b[0;31m# TODO -- your code goes here!\u001b[0m\u001b[0;34m\u001b[0m\u001b[0;34m\u001b[0m\u001b[0m\n\u001b[0m\u001b[1;32m      7\u001b[0m     \u001b[0;31m# TODO -- and here!\u001b[0m\u001b[0;34m\u001b[0m\u001b[0;34m\u001b[0m\u001b[0;34m\u001b[0m\u001b[0m\n\u001b[1;32m      8\u001b[0m     \u001b[0mr_old\u001b[0m \u001b[0;34m=\u001b[0m \u001b[0mr_new\u001b[0m\u001b[0;34m.\u001b[0m\u001b[0mcopy\u001b[0m\u001b[0;34m(\u001b[0m\u001b[0;34m)\u001b[0m\u001b[0;34m\u001b[0m\u001b[0;34m\u001b[0m\u001b[0m\n",
      "\u001b[0;31mNameError\u001b[0m: name 'dist_L1' is not defined"
     ]
    }
   ],
   "source": [
    "# initial rank vector guess\n",
    "n = M1.shape[0]\n",
    "r_old = np.repeat(1/n, n)\n",
    "\n",
    "iters = 1\n",
    "while dist_L1(r_old, r_new) >= tol: # TODO -- your code goes here!\n",
    "    # TODO -- and here!\n",
    "    r_old = r_new.copy()\n",
    "    r_new = np.matmul(M, r_old)\n",
    "    print(\"{:2.0f}  {:0.3f}  {:0.3f}  {:0.3f}  {:0.3f}\".format(iters, r_new[0],r_new[1],r_new[2],r_new[3],r_new[4]))\n",
    "    # TODO -- and maybe here too!\n",
    "    iters += 1            \n",
    "\n"
   ]
  },
  {
   "cell_type": "markdown",
   "metadata": {},
   "source": [
    "**Consider:** What do you think would happen to the PageRanks in the spider trap graph if there was no connection from Page 5 to Page 2? What about if there were no connection from Page 2 to Page 5?"
   ]
  },
  {
   "cell_type": "markdown",
   "metadata": {},
   "source": [
    "<br>\n",
    "\n",
    "### Exercise 2: Fixing the problems\n",
    "\n",
    "Recall the random walker interpretation of PageRank from last time: A page's rank is equal to the long-run proportion of time that the walker spends on that Page, if she moves from page to page following any available out-link uniformly at random. Note that in the case of spider traps and dead ends, she gets stuck, which is of course and issue when we want the walker to roam free and explore the web graph.\n",
    "\n",
    "We fix the issues of dead ends and spider traps by providing some probability $\\beta < 1$ that the walker follows an actual link (chosen uniformly at random from those available), and with probability $1-\\beta$, she teleports to a page chosen uniformly at random from some *teleport set* of pages. In general, the teleport set is taken to be the set of all pages, so the walker could pop up anywhere.\n",
    "\n",
    "This leads to the updated transition matrix (from the slides):\n",
    "$$A = \\beta M + (1-\\beta) \\left[\\dfrac{1}{N}\\right]_{N\\times N}$$\n",
    "\n",
    "where $N$ is the number of pages, and the term in brackets is an $N \\times N$ matrix full of $1/N$s.\n",
    "\n",
    "For the case of the graph with the spider trap, construct the modified transition matrix $A$, using $\\beta=0.85$ (which is a typical choice in real-life applications). Then do 20 steps of power iteration to check on our new and improved PageRank estimates."
   ]
  },
  {
   "cell_type": "code",
   "execution_count": 8,
   "metadata": {},
   "outputs": [],
   "source": [
    "# SOLUTION:\n"
   ]
  },
  {
   "cell_type": "markdown",
   "metadata": {},
   "source": [
    "Did the addition of teleports fix the issue of accumulation of rank by the pages in the spider trap?"
   ]
  },
  {
   "cell_type": "markdown",
   "metadata": {},
   "source": [
    "<br>\n",
    "\n",
    "### Exercise 3: Sparse matrix encoding\n",
    "\n",
    "Turns out, there are LOTS of web pages. Crazy, right? That means the matrix $M$ is huge, but sparse. So, representing that in memory can be challenging, but not impossible. The transition matrix updated to include the teleports, $A$, on the other hand, is fully dense because any page is reachable from any other page. Thus, $A$ may well be impossible to store in memory.\n",
    "\n",
    "We decomposed the update equation for power iteration so that it would sequentially read in a single page's degree and out-link information, and update each of the out-linked nodes' ranks:\n",
    "* First, we initialize all entries in $\\vec{r}^{new}$ to equal $(1-\\beta)/n$\n",
    "* Then we loop over each page $i$ with out-degree $d_i$:\n",
    "  * For each destination page that page links to, we distribute (add) $\\beta r^{old}_i / d_i$ of rank\n",
    "\n",
    "Store the degree and destination page information in a list of lists, where the primary index for the list corresponds to the source node, the first element of each constituent list is a single integer for that node's (out-)degree, and the second element of each constituent list is a list of that source node's destination nodes. \n",
    "\n",
    "For example, the row corresponding to Page 4 would be the fourth element of our list:\n",
    "$$[3, [1, 3, 5]]$$"
   ]
  },
  {
   "cell_type": "code",
   "execution_count": 9,
   "metadata": {},
   "outputs": [
    {
     "name": "stdout",
     "output_type": "stream",
     "text": [
      "[[0.         0.         0.5        0.33333333 0.        ]\n",
      " [1.         0.         0.         0.         0.5       ]\n",
      " [0.         0.         0.         0.33333333 0.5       ]\n",
      " [0.         0.         0.5        0.         0.        ]\n",
      " [0.         1.         0.         0.33333333 0.        ]]\n"
     ]
    }
   ],
   "source": [
    "N = 5\n",
    "M = np.zeros((N,N))\n",
    "M[:,0] = [0, 1, 0, 0, 0]\n",
    "M[:,1] = [0, 0, 0, 0, 1]\n",
    "M[:,2] = [1/2, 0, 0, 1/2, 0]\n",
    "M[:,3] = [1/3, 0, 1/3, 0, 1/3]\n",
    "M[:,4] = [0, 1/2, 1/2, 0, 0]\n",
    "print(M)"
   ]
  },
  {
   "cell_type": "code",
   "execution_count": 12,
   "metadata": {},
   "outputs": [
    {
     "name": "stdout",
     "output_type": "stream",
     "text": [
      "{1: [2], 2: [5], 3: [1, 4], 4: [1, 3, 5], 5: [2, 3]}\n"
     ]
    }
   ],
   "source": [
    "# TODO -- replace the words below with the appropriate numbers\n",
    "N = 5\n",
    "M = np.zeros((N,N))\n",
    "M[:,0] = [0, 1, 0, 0, 0]\n",
    "M[:,1] = [0, 0, 0, 0, 1]\n",
    "M[:,2] = [1/2, 0, 0, 1/2, 0]\n",
    "M[:,3] = [1/3, 0, 1/3, 0, 1/3]\n",
    "M[:,4] = [0, 1/2, 1/2, 0, 0]\n",
    "print(M)\n",
    "\n",
    "M_compact = {}\n",
    "for i in range(N):\n",
    "    M_compact[i+1] = [idx+1 for idx, x in enumerate(M[:,i]) if x > 0]\n",
    "print(M_compact)"
   ]
  },
  {
   "cell_type": "markdown",
   "metadata": {},
   "source": [
    "Now we can initialize our old rank vector as all $1/n$, and the new rank vector that we will be computing to all $(1-\\beta)/n$."
   ]
  },
  {
   "cell_type": "code",
   "execution_count": 86,
   "metadata": {},
   "outputs": [],
   "source": [
    "beta = 0.85\n",
    "r_old = np.repeat(1/n, n)         # initializing the entire power iteration\n",
    "r_new = np.repeat((1-beta)/n, n)  # initializing the output from a single step"
   ]
  },
  {
   "cell_type": "markdown",
   "metadata": {},
   "source": [
    "Now we loop over the rows of `M_compact` and distribute the importance. The update from the first row is done for you below. Your job is to turn it into a `for` loop over all of the pages."
   ]
  },
  {
   "cell_type": "code",
   "execution_count": 87,
   "metadata": {},
   "outputs": [],
   "source": [
    "for dest in M_compact[0][1]:\n",
    "    idx = dest-1 # accounting for Python's 0-based indexing\n",
    "    r_new[idx] += beta*r_old[idx]/M_compact[0][0]"
   ]
  },
  {
   "cell_type": "code",
   "execution_count": 2,
   "metadata": {},
   "outputs": [],
   "source": [
    "# SOLUTION:"
   ]
  },
  {
   "cell_type": "markdown",
   "metadata": {},
   "source": [
    "Compare this to a single step of the regular power iteration (with the random teleporting). Do they agree?"
   ]
  },
  {
   "cell_type": "code",
   "execution_count": 3,
   "metadata": {},
   "outputs": [],
   "source": [
    "# SOLUTION:"
   ]
  },
  {
   "cell_type": "markdown",
   "metadata": {},
   "source": [
    "**Solution:** They totally do agree!"
   ]
  },
  {
   "cell_type": "code",
   "execution_count": null,
   "metadata": {},
   "outputs": [],
   "source": []
  }
 ],
 "metadata": {
  "kernelspec": {
   "display_name": "Python 3",
   "language": "python",
   "name": "python3"
  },
  "language_info": {
   "codemirror_mode": {
    "name": "ipython",
    "version": 3
   },
   "file_extension": ".py",
   "mimetype": "text/x-python",
   "name": "python",
   "nbconvert_exporter": "python",
   "pygments_lexer": "ipython3",
   "version": "3.7.10"
  }
 },
 "nbformat": 4,
 "nbformat_minor": 2
}
