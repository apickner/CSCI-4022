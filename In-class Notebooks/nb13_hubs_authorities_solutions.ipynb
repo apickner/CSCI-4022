{
 "cells": [
  {
   "cell_type": "markdown",
   "metadata": {},
   "source": [
    "# Notebook 13: Hubs and Authorities\n",
    "***\n",
    "\n",
    "In this notebook we'll see the HITS algorithm in action, and examine a crude approach to generating graphs stochastically. We will also confirm what we saw in the lecture, which is that the hub and the authority scores are the principle eigenvalues of some forms of the link matrix describing the graph.\n",
    "\n",
    "We'll need numpy for this notebook, so let's load it."
   ]
  },
  {
   "cell_type": "code",
   "execution_count": 3,
   "metadata": {},
   "outputs": [],
   "source": [
    "import numpy as np"
   ]
  },
  {
   "cell_type": "markdown",
   "metadata": {},
   "source": [
    "<br>\n",
    "\n",
    "### Exercise 0: Following along with lecture is cool!\n",
    "\n",
    "From the lecture example, here is out graph:\n",
    "\n",
    "<img width=200px src=\"http://www.cs.colorado.edu/~anwo7157/home/resources/hubsauthorities1.png\">\n",
    "\n",
    "And the associated link matrix:"
   ]
  },
  {
   "cell_type": "code",
   "execution_count": 9,
   "metadata": {},
   "outputs": [
    {
     "name": "stdout",
     "output_type": "stream",
     "text": [
      "[[0 1 1 1 0]\n",
      " [1 0 0 1 0]\n",
      " [0 0 0 0 1]\n",
      " [0 1 1 0 0]\n",
      " [0 0 0 0 0]] <class 'numpy.ndarray'>\n"
     ]
    }
   ],
   "source": [
    "L = np.array([[0,1,1,1,0],\n",
    "              [1,0,0,1,0],\n",
    "              [0,0,0,0,1],\n",
    "              [0,1,1,0,0],\n",
    "              [0,0,0,0,0]])\n",
    "print(L, type(L))"
   ]
  },
  {
   "cell_type": "markdown",
   "metadata": {},
   "source": [
    "Since we are using max-component = 1 normalization, we can initialize our hub and authority scores as all 1s:"
   ]
  },
  {
   "cell_type": "code",
   "execution_count": 7,
   "metadata": {},
   "outputs": [
    {
     "name": "stdout",
     "output_type": "stream",
     "text": [
      "[1. 1. 1. 1. 1.] [1. 1. 1. 1. 1.]\n"
     ]
    }
   ],
   "source": [
    "n = L.shape[0]\n",
    "hub = np.ones(n)\n",
    "aut = np.ones(n)\n",
    "print(aut, hub)"
   ]
  },
  {
   "cell_type": "markdown",
   "metadata": {},
   "source": [
    "In the first step in the first iteration of the HITS algorithm, we update the authority scores as $a^{(1)} = L^T h^{(0)}$, then normalize $a^{(1)}$ so its largest component is equal to 1:"
   ]
  },
  {
   "cell_type": "code",
   "execution_count": 8,
   "metadata": {},
   "outputs": [
    {
     "name": "stdout",
     "output_type": "stream",
     "text": [
      "[1. 2. 2. 2. 1.]\n",
      "[0.5 1.  1.  1.  0.5]\n"
     ]
    }
   ],
   "source": [
    "# step forward:\n",
    "aut = np.matmul(np.transpose(L), hub)\n",
    "print(aut)\n",
    "# normalize:\n",
    "aut = aut/np.max(aut)\n",
    "print(aut)"
   ]
  },
  {
   "cell_type": "markdown",
   "metadata": {},
   "source": [
    "But hold on a second! Do you really want to keep transposing the $L$ matrix each iteration? That's for *suckers*. So let's save that in memory and never transpose it again."
   ]
  },
  {
   "cell_type": "code",
   "execution_count": 28,
   "metadata": {},
   "outputs": [],
   "source": [
    "LT = np.transpose(L)"
   ]
  },
  {
   "cell_type": "markdown",
   "metadata": {},
   "source": [
    "Phew. We can now finish off the rest of the first iteration by updating and normalizing the hub scores as $h^{(1)} = L a^{(1)}$."
   ]
  },
  {
   "cell_type": "code",
   "execution_count": 31,
   "metadata": {},
   "outputs": [],
   "source": [
    "# step forward:\n",
    "hub = np.matmul(L, aut)\n",
    "hub = hub/np.max(hub)"
   ]
  },
  {
   "cell_type": "markdown",
   "metadata": {},
   "source": [
    "Check that what we computed matches the by-hand calculation from lecture:"
   ]
  },
  {
   "cell_type": "code",
   "execution_count": 36,
   "metadata": {},
   "outputs": [
    {
     "name": "stdout",
     "output_type": "stream",
     "text": [
      "Authority scores:  [0.5 1.  1.  1.  0.5]\n",
      "Hub scores:  [1.     0.5    0.1667 0.6667 0.    ]\n"
     ]
    }
   ],
   "source": [
    "print(\"Authority scores: \", np.round(aut,4))\n",
    "print(\"Hub scores: \", np.round(hub,4))"
   ]
  },
  {
   "cell_type": "markdown",
   "metadata": {},
   "source": [
    "Your mission, should you choose to accept it (spoiler alert: you should), is to iterate until the $L_2$ norm of both $h_{new} - h_{old}$ and $a_{new} - a_{old}$ are less than 0.001. (This means you will need to keep track of the old hub and authority scores within the iteration, for comparison against the new ones.)\n",
    "\n",
    "For a sanity check, continue onward to Exercise 1!"
   ]
  },
  {
   "cell_type": "code",
   "execution_count": 48,
   "metadata": {},
   "outputs": [],
   "source": [
    "def dist_L2(x,y):\n",
    "    return np.sqrt(np.sum((x-y)**2))\n",
    "\n",
    "n = L.shape[0]\n",
    "hub = np.ones(n)\n",
    "aut = np.ones(n)\n",
    "tol = 0.001\n",
    "\n",
    "hub_old = np.zeros(n) # initialize to track change in h and a\n",
    "aut_old = np.zeros(n)\n",
    "max_change = np.max([dist_L2(hub,hub_old), dist_L2(aut,aut_old)])\n",
    "\n",
    "# TODO -- the rest of your HITS code (the main iteration)\n",
    "#         goes down here!"
   ]
  },
  {
   "cell_type": "code",
   "execution_count": 49,
   "metadata": {},
   "outputs": [],
   "source": [
    "# SOLUTION:\n",
    "\n",
    "def dist_L2(x,y):\n",
    "    return np.sqrt(np.sum((x-y)**2))\n",
    "\n",
    "n = L.shape[0]\n",
    "hub = np.ones(n)\n",
    "aut = np.ones(n)\n",
    "tol = 0.001\n",
    "\n",
    "hub_old = np.zeros(n)\n",
    "aut_old = np.zeros(n)\n",
    "max_change = np.max([dist_L2(hub,hub_old), dist_L2(aut,aut_old)])\n",
    "\n",
    "while max_change > tol:\n",
    "    aut_old = aut\n",
    "    hub_old = hub\n",
    "    aut = np.matmul(LT, hub)\n",
    "    aut = aut/np.max(aut)\n",
    "    hub = np.matmul(L, aut)\n",
    "    hub = hub/np.max(hub)\n",
    "    max_change = np.max([dist_L2(hub,hub_old), dist_L2(aut,aut_old)])\n",
    "    \n",
    "print(\"Authority scores: \", np.round(aut,4))\n",
    "print(\"Hub scores: \", np.round(hub,4))"
   ]
  },
  {
   "cell_type": "code",
   "execution_count": 46,
   "metadata": {},
   "outputs": [
    {
     "name": "stdout",
     "output_type": "stream",
     "text": [
      "Authority scores:  [0.2089 1.     1.     0.7915 0.    ]\n",
      "Hub scores:  [1.     0.3584 0.     0.7165 0.    ]\n"
     ]
    }
   ],
   "source": []
  },
  {
   "cell_type": "markdown",
   "metadata": {},
   "source": [
    "<br>\n",
    "\n",
    "### Exercise 1:  Hubbiness and Authorityness\n",
    "\n",
    "In the lecture, we saw that the final converged values for the hub score ($h$) and the authority score ($a$) are the principle eigenvectors of the matrices $LL^T$ and $L^T L$, respectively. We can obtain the eigenvalues and eigenvectors of $LL^T$, for example, using the [numpy linalg.eig method](https://docs.scipy.org/doc/numpy/reference/generated/numpy.linalg.eig.html):"
   ]
  },
  {
   "cell_type": "code",
   "execution_count": 119,
   "metadata": {},
   "outputs": [],
   "source": [
    "evals, evecs = np.linalg.eig(np.matmul(L,LT))"
   ]
  },
  {
   "cell_type": "markdown",
   "metadata": {},
   "source": [
    "Just by having a look at the eigenvalues array, we notice that they are not necessarily sorted:"
   ]
  },
  {
   "cell_type": "code",
   "execution_count": 120,
   "metadata": {},
   "outputs": [
    {
     "name": "stdout",
     "output_type": "stream",
     "text": [
      "[4.79128785 0.20871215 2.         1.         0.        ]\n"
     ]
    }
   ],
   "source": [
    "print(evals)"
   ]
  },
  {
   "cell_type": "markdown",
   "metadata": {},
   "source": [
    "The largest one is indeed first, so the principle eigenvector is the first column of `evecs`. But this may not be the case in general, so let's find the index of the maximal eigenvalue:"
   ]
  },
  {
   "cell_type": "code",
   "execution_count": 121,
   "metadata": {},
   "outputs": [
    {
     "name": "stdout",
     "output_type": "stream",
     "text": [
      "0\n"
     ]
    }
   ],
   "source": [
    "idx_princ = list(evals).index(np.max(evals))\n",
    "print(idx_princ)"
   ]
  },
  {
   "cell_type": "markdown",
   "metadata": {},
   "source": [
    "And use that to grab the principle eigenvector:"
   ]
  },
  {
   "cell_type": "code",
   "execution_count": 122,
   "metadata": {},
   "outputs": [
    {
     "name": "stdout",
     "output_type": "stream",
     "text": [
      "[0.78045432 0.27960367 0.         0.55920734 0.        ]\n"
     ]
    }
   ],
   "source": [
    "print(evecs[:,idx_princ])"
   ]
  },
  {
   "cell_type": "markdown",
   "metadata": {},
   "source": [
    "*Hmm!* you say to yourself, *That doesn't match the hub score we found in Exercise 0. What have I done?!*\n",
    "\n",
    "Don't even worry though! There is a good and simple explanation for it. Think about how we compute the hub score, and perhaps check the documentation for `linalg.eig` on how the eigenvector matrix is returned, and see if you can figure out the proper way to compare the two.\n",
    "\n",
    "Then, compute the eigenvectors and eigenvalues associated with the $L^T L$ matrix and use them to check our work for the authority score. If you run into trouble, make sure that the first component of our eigenvectors is always nonnegative. If it's negative, you can flip the direction of a vector by multiplying by -1."
   ]
  },
  {
   "cell_type": "code",
   "execution_count": 123,
   "metadata": {},
   "outputs": [
    {
     "name": "stdout",
     "output_type": "stream",
     "text": [
      "[1.         0.35825757 0.         0.71651514 0.        ]\n",
      "[-inf -inf -inf -inf  nan]\n"
     ]
    },
    {
     "name": "stderr",
     "output_type": "stream",
     "text": [
      "/Users/tony/anaconda/lib/python3.6/site-packages/ipykernel_launcher.py:9: RuntimeWarning: divide by zero encountered in true_divide\n",
      "  if __name__ == '__main__':\n",
      "/Users/tony/anaconda/lib/python3.6/site-packages/ipykernel_launcher.py:9: RuntimeWarning: invalid value encountered in true_divide\n",
      "  if __name__ == '__main__':\n"
     ]
    }
   ],
   "source": [
    "# SOLUTION:\n",
    "\n",
    "# hub score:\n",
    "print(evecs[:,idx_princ]/np.max(evecs[:,idx_princ]))\n",
    "\n",
    "# authority score:\n",
    "evals, evecs = np.linalg.eig(np.matmul(LT,L))\n",
    "idx_princ = list(evals).index(np.max(evals))\n",
    "print(evecs[:,idx_princ]/np.max(evecs[:,idx_princ]))"
   ]
  },
  {
   "cell_type": "code",
   "execution_count": 124,
   "metadata": {},
   "outputs": [
    {
     "name": "stdout",
     "output_type": "stream",
     "text": [
      "[ 0.20871215  1.          1.          0.79128785 -0.        ]\n"
     ]
    }
   ],
   "source": [
    "# Crap! Something has gone terribly wrong. \n",
    "# It's because the first component is negative.\n",
    "# So, we swap directions:\n",
    "print(-evecs[:,idx_princ]/np.max(-evecs[:,idx_princ]))"
   ]
  },
  {
   "cell_type": "markdown",
   "metadata": {},
   "source": [
    "<br>\n",
    "\n",
    "### Exercise 2: Generating a random graph\n",
    "\n",
    "The following code will generate a random graph on 6 nodes such that for each pair of nodes $(i,j)$, there is a connection from $i$ to $j$ with probability $p=0.33$."
   ]
  },
  {
   "cell_type": "code",
   "execution_count": 15,
   "metadata": {},
   "outputs": [
    {
     "name": "stdout",
     "output_type": "stream",
     "text": [
      "[[0. 1. 1. 0. 1. 1.]\n",
      " [1. 0. 1. 0. 0. 0.]\n",
      " [0. 1. 1. 0. 0. 0.]\n",
      " [0. 0. 0. 0. 1. 0.]\n",
      " [0. 0. 0. 0. 0. 1.]\n",
      " [0. 0. 0. 1. 0. 1.]]\n"
     ]
    }
   ],
   "source": [
    "np.random.seed(4022)\n",
    "n = 6\n",
    "p = 0.33\n",
    "L1 = np.zeros((n,n))\n",
    "for irow in range(n):\n",
    "    for icol in range(n):\n",
    "        L1[irow, icol] = np.random.choice([0,1], p=[1-p, p])\n",
    "print(L1)"
   ]
  },
  {
   "cell_type": "markdown",
   "metadata": {},
   "source": [
    "**[1]** On a piece of paper, draw this directed graph. Formulate a hypothesis about which node(s) will have the highest hub score, and which will have the highest authority score. What about the structure of the graph supports your hypotheses?"
   ]
  },
  {
   "cell_type": "code",
   "execution_count": 21,
   "metadata": {},
   "outputs": [
    {
     "data": {
      "image/png": "[encoded data removed]",
      "text/plain": [
       "<matplotlib.figure.Figure at 0x23613c54a90>"
      ]
     },
     "metadata": {},
     "output_type": "display_data"
    }
   ],
   "source": [
    "import networkx as nx\n",
    "G=nx.DiGraph()\n",
    "nodes=[i for i in range(1,7)]\n",
    "G.add_nodes_from(nodes)\n",
    "for irow in range(n):\n",
    "    for icol in range(n):\n",
    "        if L1[irow, icol]==1: G.add_edge(irow+1,icol+1)\n",
    "\n",
    "#plot the graph\n",
    "# np.random.seed(6) #graph plotting algorithm is random; this ensures same image each time\n",
    "pos = nx.circular_layout(G) #algorithm that tries to \"cluster\" node plot locations\n",
    "labels=dict(zip(range(1,7),range(1,7))); \n",
    "nx.draw_networkx_nodes(G, pos, node_size=500, alpha=.75); #node colors easy to see labels over\n",
    "nx.draw_networkx_edges(G, pos, width=1.0, alpha=0.8); #draw edges\n",
    "nx.draw_networkx_labels(G, pos, labels, font_size=16); #label vertices by index/number\n",
    "# plt.axis(\"off\");"
   ]
  },
  {
   "cell_type": "markdown",
   "metadata": {},
   "source": [
    "**Solution:**\n",
    "\n",
    "Node 1 has the highest out-degree, so that's a good candidate for highest hub score (since those are nodes that direct you to sources of information). Nodes 3 and 6 both have in-degree 3, so those are good candidates for the highest authority score (sources of information)."
   ]
  },
  {
   "cell_type": "markdown",
   "metadata": {},
   "source": [
    "**[2]** Suppose we want to construct a graph so it is relatively more likely that a particular node has a high hub score. How could we modify the above code, without hard-coding any specifc connections? Similarly, what if we wanted to make it more likely that a node has a higher authority score? Implement your modification so that Node 2 is more likely to be a hub, and Node 6 is more likely to be an authority. Save the resulting link matrix as `L2`."
   ]
  },
  {
   "cell_type": "code",
   "execution_count": 126,
   "metadata": {},
   "outputs": [
    {
     "name": "stdout",
     "output_type": "stream",
     "text": [
      "[[0. 1. 1. 0. 1. 1.]\n",
      " [1. 1. 1. 0. 1. 1.]\n",
      " [0. 1. 1. 0. 0. 0.]\n",
      " [0. 0. 0. 0. 1. 0.]\n",
      " [0. 0. 0. 0. 0. 1.]\n",
      " [0. 0. 0. 1. 0. 1.]]\n"
     ]
    }
   ],
   "source": [
    "# SOLUTION:\n",
    "\n",
    "np.random.seed(4022)\n",
    "n = 6\n",
    "p = 0.33\n",
    "L2 = np.zeros((n,n))\n",
    "ihub = 1 # row of the hub\n",
    "iaut = 5 # col of the authority\n",
    "p_inc = 0.75 # increase the probability of connections\n",
    "for irow in range(n):\n",
    "    for icol in range(n):\n",
    "        if irow==ihub or icol==iaut:\n",
    "            L2[irow, icol] = np.random.choice([0,1], p=[1-p_inc, p_inc])\n",
    "        else:\n",
    "            L2[irow, icol] = np.random.choice([0,1], p=[1-p, p])\n",
    "print(L2)"
   ]
  },
  {
   "cell_type": "markdown",
   "metadata": {},
   "source": [
    "<br>\n",
    "\n",
    "### Exercise 3: HITS-ing that graph\n",
    "\n",
    "Verify your hypotheses from Exercise 2 regarding the nodes that will be good hubs or authorities for your graphs. Use either the HITS algorithm (from Exercise 0) or the eigenvector approach (from Exercise 1). Did we succeed in our mission to make Node 2 a hub and Node 6 an authority?"
   ]
  },
  {
   "cell_type": "code",
   "execution_count": 131,
   "metadata": {},
   "outputs": [
    {
     "name": "stdout",
     "output_type": "stream",
     "text": [
      "[1.         0.36936773 0.56073936 0.19137163 0.24788901 0.29532794]\n",
      "[0.19137163 0.80862837 1.         0.15301117 0.61725675 0.79954991]\n"
     ]
    }
   ],
   "source": [
    "# SOLUTION:\n",
    "\n",
    "L1T = np.transpose(L1)\n",
    "\n",
    "# hub score:\n",
    "evals, evecs = np.linalg.eig(np.matmul(L1,L1T))\n",
    "idx_princ = list(evals).index(np.max(evals))\n",
    "evec_princ = evecs[:,idx_princ]\n",
    "if evec_princ[0] < 0:\n",
    "    evec_princ = -evec_princ\n",
    "print(evec_princ/np.max(evec_princ))\n",
    "\n",
    "# authority score:\n",
    "evals, evecs = np.linalg.eig(np.matmul(L1T,L1))\n",
    "idx_princ = list(evals).index(np.max(evals))\n",
    "evec_princ = evecs[:,idx_princ]\n",
    "if evec_princ[0] < 0:\n",
    "    evec_princ = -evec_princ\n",
    "print(evec_princ/np.max(evec_princ))"
   ]
  },
  {
   "cell_type": "markdown",
   "metadata": {},
   "source": [
    "**Solution, Part 1:**\n",
    "\n",
    "As we hypothesized, Node 1 has the highest hub score.\n",
    "\n",
    "We hypothesized that Nodes 3 and 6 were likely to have the highest authority scores, but Node 2 actually has quite high authority score too. This can be attributed to its tight relationship with Nodes 1 and 3 (since the reputation of the pages that link to your page *and* that you link to affects your page's score)."
   ]
  },
  {
   "cell_type": "code",
   "execution_count": 133,
   "metadata": {},
   "outputs": [
    {
     "name": "stdout",
     "output_type": "stream",
     "text": [
      "[0.90227684 1.         0.46211086 0.20603044 0.23413555 0.25949413]\n",
      "[0.41737855 0.98684472 0.98684472 0.10830729 0.87996225 1.        ]\n"
     ]
    }
   ],
   "source": [
    "# SOLUTION:\n",
    "\n",
    "L2T = np.transpose(L2)\n",
    "\n",
    "# hub score:\n",
    "evals, evecs = np.linalg.eig(np.matmul(L2,L2T))\n",
    "idx_princ = list(evals).index(np.max(evals))\n",
    "evec_princ = evecs[:,idx_princ]\n",
    "if evec_princ[0] < 0:\n",
    "    evec_princ = -evec_princ\n",
    "print(evec_princ/np.max(evec_princ))\n",
    "\n",
    "# authority score:\n",
    "evals, evecs = np.linalg.eig(np.matmul(L2T,L2))\n",
    "idx_princ = list(evals).index(np.max(evals))\n",
    "evec_princ = evecs[:,idx_princ]\n",
    "if evec_princ[0] < 0:\n",
    "    evec_princ = -evec_princ\n",
    "print(evec_princ/np.max(evec_princ))"
   ]
  },
  {
   "cell_type": "markdown",
   "metadata": {},
   "source": [
    "**Solution, Part 2:**\n",
    "\n",
    "Yes, Node 2 is the hubbiest node, and Node 6 is the most authoritative authority. "
   ]
  },
  {
   "cell_type": "code",
   "execution_count": null,
   "metadata": {},
   "outputs": [],
   "source": []
  }
 ],
 "metadata": {
  "kernelspec": {
   "display_name": "Python 3",
   "language": "python",
   "name": "python3"
  },
  "language_info": {
   "codemirror_mode": {
    "name": "ipython",
    "version": 3
   },
   "file_extension": ".py",
   "mimetype": "text/x-python",
   "name": "python",
   "nbconvert_exporter": "python",
   "pygments_lexer": "ipython3",
   "version": "3.7.10"
  }
 },
 "nbformat": 4,
 "nbformat_minor": 2
}
