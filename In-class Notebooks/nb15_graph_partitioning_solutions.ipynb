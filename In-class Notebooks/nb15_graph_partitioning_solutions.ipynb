{
 "cells": [
  {
   "cell_type": "markdown",
   "metadata": {},
   "source": [
    "# Notebook 15: Graph Partitioning\n",
    "***\n",
    "\n",
    "In this notebook we'll partition some graphs using the spectral graph partitioning method that we looked at in lecture.\n",
    "\n",
    "We'll need numpy and matplotlib.pyplot for this notebook, so let's load them."
   ]
  },
  {
   "cell_type": "code",
   "execution_count": 1,
   "metadata": {},
   "outputs": [],
   "source": [
    "import numpy as np\n",
    "import matplotlib.pyplot as plt\n",
    "%matplotlib inline"
   ]
  },
  {
   "cell_type": "markdown",
   "metadata": {},
   "source": [
    "<br>\n",
    "\n",
    "### Exercise 1: Constructing the Graph Laplacian\n",
    "\n",
    "For the graph depicted below, construct the graph Laplacian matrix $L = D-A$, where $D$ is the diagonal **degree matrix** and $A$ is the **adjacency matrix**. Recall that for an undirected graph, the adjacency matrix must necessarily be symmetric.\n",
    "\n",
    "<img width=130px src=\"http://www.cs.colorado.edu/~anwo7157/home/resources/socialnetwork1.png\">\n"
   ]
  },
  {
   "cell_type": "code",
   "execution_count": 4,
   "metadata": {},
   "outputs": [
    {
     "name": "stdout",
     "output_type": "stream",
     "text": [
      "[[0 1 1 1]\n",
      " [1 0 0 0]\n",
      " [1 0 0 1]\n",
      " [1 0 1 0]]\n",
      "[[3 0 0 0]\n",
      " [0 1 0 0]\n",
      " [0 0 2 0]\n",
      " [0 0 0 2]]\n",
      "[[ 3 -1 -1 -1]\n",
      " [-1  1  0  0]\n",
      " [-1  0  2 -1]\n",
      " [-1  0 -1  2]]\n"
     ]
    }
   ],
   "source": [
    "# J = 0; B = 1; D = 2; A = 3\n",
    "\n",
    "# adjacency matrix\n",
    "A = np.array([[0,1,1,1],\n",
    "              [1,0,0,0],\n",
    "              [1,0,0,1],\n",
    "              [1,0,1,0]])\n",
    "\n",
    "# degree matrix\n",
    "D = np.diag([np.sum(A[k,:]) for k in range(A.shape[0])])\n",
    "print(A)\n",
    "print(D)\n",
    "# graph laplacian matrix\n",
    "L = D - A\n",
    "print(L)"
   ]
  },
  {
   "cell_type": "markdown",
   "metadata": {},
   "source": [
    "<br>\n",
    "\n",
    "### Exercise 2: Getting the weights\n",
    "\n",
    "Obtain the partitioning weights for each node in the graph from **Exercise 1** by computing the eigenvalues and eigenvectors associated with the graph Laplacian. Complete the code below to do this."
   ]
  },
  {
   "cell_type": "code",
   "execution_count": 3,
   "metadata": {},
   "outputs": [
    {
     "name": "stdout",
     "output_type": "stream",
     "text": [
      "Smallest eigenvalue is: 0.0000\n",
      "[0, 0, 0, 0]\n"
     ]
    }
   ],
   "source": [
    "# Find the eigenvalues and eigenvectors\n",
    "evals, evecs = np.linalg.eig(L)\n",
    "\n",
    "# Check that the smallest eigenvalue is 0\n",
    "evals_sorted = np.sort(evals)\n",
    "print(\"Smallest eigenvalue is: {:0.4f}\".format(evals_sorted[0]))\n",
    "\n",
    "# Get the index of the second-smallest eigenvalue\n",
    "idx_x2 = -1 # TODO\n",
    "\n",
    "# Get x2, the eigenvector associated with the second-smallest eigenvalue\n",
    "x2 = [0,0,0,0]  # TODO\n",
    "print(x2)"
   ]
  },
  {
   "cell_type": "code",
   "execution_count": 4,
   "metadata": {},
   "outputs": [
    {
     "name": "stdout",
     "output_type": "stream",
     "text": [
      "[[ 8.66025404e-01 -5.00000000e-01  0.00000000e+00 -9.06493304e-17]\n",
      " [-2.88675135e-01 -5.00000000e-01  8.16496581e-01  9.37381314e-17]\n",
      " [-2.88675135e-01 -5.00000000e-01 -4.08248290e-01 -7.07106781e-01]\n",
      " [-2.88675135e-01 -5.00000000e-01 -4.08248290e-01  7.07106781e-01]]\n",
      "[4.00000000e+00 2.22044605e-16 1.00000000e+00 3.00000000e+00]\n",
      "Smallest eigenvalue is: 0.0000\n",
      "2\n",
      "[ 0.          0.81649658 -0.40824829 -0.40824829]\n"
     ]
    }
   ],
   "source": [
    "# Find the eigenvalues and eigenvectors\n",
    "evals, evecs = np.linalg.eig(L)\n",
    "\n",
    "print(evecs)\n",
    "print(evals)\n",
    "\n",
    "# Check that the smallest eigenvalue is 0\n",
    "evals_sorted = np.sort(evals)\n",
    "print(\"Smallest eigenvalue is: {:0.4f}\".format(evals_sorted[0]))\n",
    "\n",
    "# Get the index of the second-smallest eigenvalue\n",
    "idx_x2 = list(evals).index(evals_sorted[1])\n",
    "print(idx_x2)\n",
    "# Get x2, the eigenvector associated with the second-smallest eigenvalue\n",
    "x2 = evecs[:,idx_x2]\n",
    "print(x2)"
   ]
  },
  {
   "cell_type": "markdown",
   "metadata": {},
   "source": [
    "The code cell below generates a plot of the nodes' indices along the horizontal axis against the nodes' partitioning weights (components in $\\vec{x}_2$) along the vertical axis.\n",
    "\n",
    "1. If you had to partition this graph into three components, what would they be?\n",
    "1. What about if you had to partition the graph into two components?\n",
    "1. Copy-paste the plotting code into a new cell and modify it so the nodes are plotted according to increasing $\\vec{x}_2$ component, as seen in the figures in the lecture slides."
   ]
  },
  {
   "cell_type": "code",
   "execution_count": 5,
   "metadata": {},
   "outputs": [
    {
     "data": {
      "image/png": "[encoded data removed]",
      "text/plain": [
       "<matplotlib.figure.Figure at 0x168f6ce8b38>"
      ]
     },
     "metadata": {},
     "output_type": "display_data"
    }
   ],
   "source": [
    "fig, ax = plt.subplots(1,1,figsize=(4,3))\n",
    "plt.scatter(list(range(4)), x2)\n",
    "plt.xlabel('Rank in $x_2$')\n",
    "plt.ylabel('Value in $x_2$');"
   ]
  },
  {
   "cell_type": "code",
   "execution_count": null,
   "metadata": {},
   "outputs": [],
   "source": []
  },
  {
   "cell_type": "markdown",
   "metadata": {},
   "source": [
    "<br>\n",
    "\n",
    "### Exercise 3: Partitioning a bit bigger\n",
    "\n",
    "Based on the `neighbors` dictionary, which contains adjacency information for the graph depicted below, construct the adjacency matrix $A$, the degree matrix $D$ and the graph Laplacian $L$.\n",
    "\n",
    "<img width=260px src=\"http://www.cs.colorado.edu/~anwo7157/home/resources/graphpartitioning1.png\">\n",
    "\n",
    "Without actually computing the eigenvalues/-vectors, which clusters would you create if you were tasked with partitioning the graph into three components? What about two components?"
   ]
  },
  {
   "cell_type": "code",
   "execution_count": 11,
   "metadata": {},
   "outputs": [],
   "source": [
    "nodes = list(range(10))\n",
    "N = len(nodes)\n",
    "neighbors = {0 : [1,2], 1 : [0,2,3], 2 : [0,1,3], 3 : [1,2,4,6], 4 : [3,5,6], \\\n",
    "             5 : [4,6], 6 : [3,4,5,7,8,9], 7 : [6,8], 8 : [6,7,9], 9 : [6,8]}"
   ]
  },
  {
   "cell_type": "code",
   "execution_count": 13,
   "metadata": {},
   "outputs": [
    {
     "name": "stdout",
     "output_type": "stream",
     "text": [
      "[[0 1 1 0 0 0 0 0 0 0]\n",
      " [1 0 1 1 0 0 0 0 0 0]\n",
      " [1 1 0 1 0 0 0 0 0 0]\n",
      " [0 1 1 0 1 0 1 0 0 0]\n",
      " [0 0 0 1 0 1 1 0 0 0]\n",
      " [0 0 0 0 1 0 1 0 0 0]\n",
      " [0 0 0 1 1 1 0 1 1 1]\n",
      " [0 0 0 0 0 0 1 0 1 0]\n",
      " [0 0 0 0 0 0 1 1 0 1]\n",
      " [0 0 0 0 0 0 1 0 1 0]]\n",
      "[[0. 1. 1. 0. 0. 0. 0. 0. 0. 0.]\n",
      " [1. 0. 1. 1. 0. 0. 0. 0. 0. 0.]\n",
      " [1. 1. 0. 1. 0. 0. 0. 0. 0. 0.]\n",
      " [0. 1. 1. 0. 1. 0. 1. 0. 0. 0.]\n",
      " [0. 0. 0. 1. 0. 1. 1. 0. 0. 0.]\n",
      " [0. 0. 0. 0. 1. 0. 1. 0. 0. 0.]\n",
      " [0. 0. 0. 1. 1. 1. 0. 1. 1. 1.]\n",
      " [0. 0. 0. 0. 0. 0. 1. 0. 1. 0.]\n",
      " [0. 0. 0. 0. 0. 0. 1. 1. 0. 1.]\n",
      " [0. 0. 0. 0. 0. 0. 1. 0. 1. 0.]]\n",
      "[[ 2. -1. -1.  0.  0.  0.  0.  0.  0.  0.]\n",
      " [-1.  3. -1. -1.  0.  0.  0.  0.  0.  0.]\n",
      " [-1. -1.  3. -1.  0.  0.  0.  0.  0.  0.]\n",
      " [ 0. -1. -1.  4. -1.  0. -1.  0.  0.  0.]\n",
      " [ 0.  0.  0. -1.  3. -1. -1.  0.  0.  0.]\n",
      " [ 0.  0.  0.  0. -1.  2. -1.  0.  0.  0.]\n",
      " [ 0.  0.  0. -1. -1. -1.  6. -1. -1. -1.]\n",
      " [ 0.  0.  0.  0.  0.  0. -1.  2. -1.  0.]\n",
      " [ 0.  0.  0.  0.  0.  0. -1. -1.  3. -1.]\n",
      " [ 0.  0.  0.  0.  0.  0. -1.  0. -1.  2.]]\n"
     ]
    }
   ],
   "source": [
    "# SOLUTION:\n",
    "\n",
    "A = [[1 if j in neighbors[i] else 0 for j in range(N)] for i in range(N)]\n",
    "print(np.mat(A))\n",
    "D = np.diag([len(neighbors[node]) for node in nodes])\n",
    "# A = np.zeros((N,N))\n",
    "# for n1 in nodes:\n",
    "#     for n2 in nodes:\n",
    "#         if n2 in neighbors[n1]:\n",
    "#             A[n1,n2] = 1\n",
    "# print(A)\n",
    "L = D - A\n",
    "print(L)"
   ]
  },
  {
   "cell_type": "markdown",
   "metadata": {},
   "source": [
    "Use the spectral graph partitioning method to determine the partitioning weights for each node in this graph.\n",
    "\n",
    "Then, create a plot of the rank of each node in the second eigenvector against the value in the second eigenvector (like in **Exercise 2**).\n",
    "\n",
    "Finally, what clusters would you create if you wanted to partition the graph into...\n",
    "1. two clusters?\n",
    "1. three clusters?\n",
    "1. four clusters?\n",
    "\n",
    "You may find it useful to compute/plot other eigenvectors."
   ]
  },
  {
   "cell_type": "code",
   "execution_count": 17,
   "metadata": {},
   "outputs": [
    {
     "name": "stdout",
     "output_type": "stream",
     "text": [
      "Smallest eigenvalue is: -0.0000\n",
      "[-0.5024 -0.4028 -0.4028 -0.1437  0.0898  0.1795  0.1981  0.3281  0.3281\n",
      "  0.3281]\n"
     ]
    }
   ],
   "source": [
    "# SOLUTION:\n",
    "\n",
    "evals, evecs = np.linalg.eig(L)\n",
    "\n",
    "# check that the smallest eigenvalue is 0\n",
    "evals_sorted = np.sort(evals)\n",
    "print(\"Smallest eigenvalue is: {:0.4f}\".format(evals_sorted[0]))\n",
    "\n",
    "# get the index of the second-smallest eigenvalue\n",
    "idx_x2 = list(evals).index(evals_sorted[1])\n",
    "\n",
    "# get the eigenvector associated with the second-smallest eigenvalue\n",
    "x2 = evecs[:,idx_x2]\n",
    "print(np.round(x2,4))"
   ]
  },
  {
   "cell_type": "code",
   "execution_count": 18,
   "metadata": {},
   "outputs": [
    {
     "data": {
      "image/png": "[encoded data removed]",
      "text/plain": [
       "<Figure size 288x216 with 1 Axes>"
      ]
     },
     "metadata": {
      "needs_background": "light"
     },
     "output_type": "display_data"
    }
   ],
   "source": [
    "fig, ax = plt.subplots(1,1,figsize=(4,3))\n",
    "plt.scatter(list(range(N)), x2)\n",
    "plt.xlabel('Rank in $x_2$')\n",
    "plt.ylabel('Value in $x_2$');"
   ]
  },
  {
   "cell_type": "code",
   "execution_count": null,
   "metadata": {},
   "outputs": [],
   "source": []
  }
 ],
 "metadata": {
  "kernelspec": {
   "display_name": "Python 3",
   "language": "python",
   "name": "python3"
  },
  "language_info": {
   "codemirror_mode": {
    "name": "ipython",
    "version": 3
   },
   "file_extension": ".py",
   "mimetype": "text/x-python",
   "name": "python",
   "nbconvert_exporter": "python",
   "pygments_lexer": "ipython3",
   "version": "3.7.10"
  }
 },
 "nbformat": 4,
 "nbformat_minor": 2
}
