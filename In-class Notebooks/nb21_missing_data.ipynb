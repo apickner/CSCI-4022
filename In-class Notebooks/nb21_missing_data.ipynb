{
 "cells": [
  {
   "cell_type": "markdown",
   "metadata": {},
   "source": [
    "# Notebook 21: Estimating Missing Data\n",
    "***\n",
    "\n",
    "In this notebook, we will dive deeper into the problem of estimating missing ratings/data. Specifically, we will conduct some **preprocessing** on our data matrix, which can account for differences in how different users rate different items. Some users tend to be kind raters, and some will be stingier with those 5-star reviews. Normalizing our utility matrix before performing the UV decomposition on it will account for these differences.\n",
    "\n",
    "We'll need numpy for this notebook, so let's load it."
   ]
  },
  {
   "cell_type": "code",
   "execution_count": 7,
   "metadata": {},
   "outputs": [],
   "source": [
    "import numpy as np"
   ]
  },
  {
   "cell_type": "markdown",
   "metadata": {},
   "source": [
    "<br>\n",
    "\n",
    "### Exercise 1: Preprocessing the data matrix\n",
    "\n",
    "In class we performed a few iterations to find the UV decomposition of the following matrix, where the rows correspond to different users, and the columns correspond to different items. The elements of the matrix are the users' ratings for each item. There two unknown values:\n",
    "* User 3's rating for Item 2, and\n",
    "* User 6's rating for Item 5."
   ]
  },
  {
   "cell_type": "code",
   "execution_count": 8,
   "metadata": {},
   "outputs": [
    {
     "data": {
      "text/plain": [
       "array([[ 5.,  2.,  4.,  4.,  3.],\n",
       "       [ 3.,  1.,  2.,  4.,  1.],\n",
       "       [ 2., nan,  3.,  1.,  4.],\n",
       "       [ 2.,  5.,  4.,  3.,  5.],\n",
       "       [ 2.,  5.,  4.,  3.,  5.],\n",
       "       [ 4.,  4.,  5.,  4., nan]])"
      ]
     },
     "execution_count": 8,
     "metadata": {},
     "output_type": "execute_result"
    }
   ],
   "source": [
    "M = np.array([[5,2,4,4,3],\n",
    "              [3,1,2,4,1],\n",
    "              [2,np.nan,3,1,4],\n",
    "              [2,5,4,3,5],\n",
    "              [2,5,4,3,5],\n",
    "              [4,4,5,4,np.nan]])\n",
    "M"
   ]
  },
  {
   "cell_type": "markdown",
   "metadata": {},
   "source": [
    "We suggested in class that **preprocessing** the data matrix would lead to better results, by accounting for differences in the ways different users tend to rate items, and differences in item ratings. Some of the possible methods for preprocessing are:\n",
    "* Subtract from each non-blank element $m_{ij}$ the average rating of user $i$\n",
    "* Subtract from each non-blank element in column $j$ the average rating of item $j$\n",
    "* Do both of these, in either order\n",
    "* From element $m_{ij}$ subtract $\\frac{1}{2} \\times$ (the average of user $i$ + the average of item $j$)\n",
    "\n",
    "Let's shoot for the stars and subtract from each non-missing element $m_{ij}$ the average rating of user $i$, then subtract from that intermediate matrix the average rating of item $j$."
   ]
  },
  {
   "cell_type": "code",
   "execution_count": 12,
   "metadata": {},
   "outputs": [
    {
     "name": "stdout",
     "output_type": "stream",
     "text": [
      "[3.6  2.2  2.5  3.8  3.8  4.25]\n",
      "[3.         3.4        3.66666667 3.16666667 3.6       ]\n",
      "[[ 5.  2.  4.  4.  3.]\n",
      " [ 3.  1.  2.  4.  1.]\n",
      " [ 2. nan  3.  1.  4.]\n",
      " [ 2.  5.  4.  3.  5.]\n",
      " [ 2.  5.  4.  3.  5.]\n",
      " [ 4.  4.  5.  4. nan]]\n",
      "[[-1.6        -5.         -3.26666667 -2.76666667 -4.2       ]\n",
      " [-2.2        -4.6        -3.86666667 -1.36666667 -4.8       ]\n",
      " [-3.5                nan -3.16666667 -4.66666667 -2.1       ]\n",
      " [-4.8        -2.2        -3.46666667 -3.96666667 -2.4       ]\n",
      " [-4.8        -2.2        -3.46666667 -3.96666667 -2.4       ]\n",
      " [-3.25       -3.65       -2.91666667 -3.41666667         nan]]\n"
     ]
    }
   ],
   "source": [
    "# initialize\n",
    "user_means = np.nanmean(M, axis=1)\n",
    "item_means = np.nanmean(M, axis=0)\n",
    "\n",
    "print(user_means)\n",
    "print(item_means)\n",
    "\n",
    "# normalize M first by subtracting from each non-blank element that user's mean rating\n",
    "M_norm = M.copy()\n",
    "print(M_norm)\n",
    "\n",
    "for u in range(len(user_means)):\n",
    "    M_norm[u,:] -= user_means[u]\n",
    "\n",
    "# normalize M once more by subtracting from each non-blank element that item's mean rating\n",
    "for i in range(len(item_means)):\n",
    "    M_norm[:,i] -= item_means[i]\n",
    "\n",
    "print(M_norm)"
   ]
  },
  {
   "cell_type": "markdown",
   "metadata": {},
   "source": [
    "Note that whatever we subtract off from each element of the matrix during preprocessing, we need to *add that back in* when estimating the missing values after our UV decomposition. So **go back** to the code cell above and **add in** a matrix that is of the same size as $M$, whose elements are the total amount that we subtracted off from each element of $M$ during the preprocessing normalization."
   ]
  },
  {
   "cell_type": "markdown",
   "metadata": {},
   "source": [
    "So we currently have $M=M_{norm}-M_{sub}$, and we'll use $M_{norm}$ for our UV fitting.\n",
    "\n",
    "**Reflect:** Why did we not compute the user and item rating means at the same time? Why did we have to normalize by the user ratings first, *then* compute the mean item ratings?"
   ]
  },
  {
   "cell_type": "markdown",
   "metadata": {},
   "source": [
    "<br>\n",
    "\n",
    "### Exercise 2: U and V!\n",
    "\n",
    "Let's find the UV decomposition of M (`M_norm`) using 2 dimensional vectors.  Per the slides, we need to alternatingly compute:\n",
    "\n",
    "\n",
    "$$x=u_{rs}=\\frac{\\sum_j v_{sj} (m_{rj} - \\sum_{k \\ne s} u_{rk}v_{kj} )}{\\sum_j v_{sj}^2}$$\n",
    "\n",
    "$$y=v_{rs}=\\frac{\\sum_i u_{ir} (m_{is} - \\sum_{k \\ne r} u_{ik}v_{ks} )}{\\sum_i u_{ir}^2}$$\n",
    "\n",
    "for $x$ in the $U$ matrix and $y$ in the $V$ matrix."
   ]
  },
  {
   "cell_type": "markdown",
   "metadata": {},
   "source": [
    "Let's start with a couple of \"easy\" updates, and initialize U and V as all-ones, then update `u[0,0]` and `v[0,0]`.\n"
   ]
  },
  {
   "cell_type": "code",
   "execution_count": null,
   "metadata": {},
   "outputs": [],
   "source": [
    "#Initialize U and V\n",
    "d=2\n",
    "U = np.ones((M.shape[0],d))\n",
    "V= np.ones((d,M.shape[1]))\n",
    "\n",
    "#Update U[0,0]\n",
    "#U[0,0]= #TODO\n",
    "#Update V[0,0]\n",
    "#V[0,0]= #TODO\n"
   ]
  },
  {
   "cell_type": "code",
   "execution_count": null,
   "metadata": {},
   "outputs": [],
   "source": [
    "##Now set it up as a loop, running down U and V in order (by whichever dimension first)\n",
    "#TO DO:\n",
    "for\n",
    "    for\n",
    "        U[a,b]=\n",
    "        V[b,a]=\n",
    "        \n",
    "    "
   ]
  },
  {
   "cell_type": "markdown",
   "metadata": {},
   "source": [
    "We've done a step!  Let's see how we're doing."
   ]
  },
  {
   "cell_type": "markdown",
   "metadata": {},
   "source": [
    "<br>\n",
    "\n",
    "### Exercise 3: Back to M\n",
    "\n",
    "To go back to doing inference in M, we have to do 2 things: compute $P=UV$, then undo our normalization step.  The final result can be compared to M!\n",
    "\n",
    "Recall that our current scoring metric is RMSE:\n",
    "\n",
    "$$\\sqrt{\\frac{1}{n} \\sum_{i,j} (M_{i,j} - P_{i,j})^2} $$\n"
   ]
  },
  {
   "cell_type": "code",
   "execution_count": null,
   "metadata": {},
   "outputs": [],
   "source": [
    "P=np.matmul(U,V)\n",
    "\n",
    "#Put M_sub into P\n",
    "P_unnorm= # TODO\n",
    "\n",
    "def RMSE(M1, M2):\n",
    "    # todo... sum over all non-NAN entries in M1.  consider np.nansum.\n",
    "    return rmse\n",
    "\n",
    "RMSE(M,P_unnorm)"
   ]
  },
  {
   "cell_type": "markdown",
   "metadata": {},
   "source": [
    "It's hard to say that we're doing great after one iteration, but we could at least check that we've done better than the RMSE from the all-ones initializations."
   ]
  },
  {
   "cell_type": "code",
   "execution_count": null,
   "metadata": {},
   "outputs": [],
   "source": [
    "U = np.ones((M.shape[0],d))\n",
    "V= np.ones((d,M.shape[1]))\n",
    "\n",
    "P=np.matmul(U,V)\n",
    "P_unnorm= # TODO\n",
    "\n",
    "RMSE(M,P_unnorm)"
   ]
  },
  {
   "cell_type": "markdown",
   "metadata": {},
   "source": [
    "Note: we could (and probably should!) also save a little time by just computing the RMSE of $P$ compared directly to $M_{norm}$.  \n",
    "\n",
    "\n",
    "**Contemplate**: how does doing the RMSE calculation change depending on which one we use?"
   ]
  },
  {
   "cell_type": "markdown",
   "metadata": {},
   "source": [
    "<br>\n",
    "\n",
    "### Exercise 4: Bring Order to the Galaxy\n",
    "\n",
    "Are we convinced that order really matters?  Repeat exercise 2, but instead of looping in a structured format over the rows and columns, create a random ordering of the $u_{rs}$ indices and another random ordering of the $v_{rs}$ indices, then pass those into the inside of your loop."
   ]
  },
  {
   "cell_type": "code",
   "execution_count": null,
   "metadata": {},
   "outputs": [],
   "source": [
    "#initialize U and V again\n",
    "U = np.ones((M.shape[0],d))\n",
    "V= np.ones((d,M.shape[0]))\n",
    "indices_list=[(x, y) for x in range(M.shape[0]) for y in range(d)]\n",
    "\n",
    "#randomize the u's update order\n",
    "U_index_order = # TODO\n",
    "#randomize the v's update order\n",
    "U_index_order = # TODO\n",
    "\n",
    "for \n",
    "    U[u_index_order]= # TODO\n",
    "    V[v_index_order]= # TODO\n"
   ]
  },
  {
   "cell_type": "markdown",
   "metadata": {},
   "source": [
    "Any better?  Any different?"
   ]
  },
  {
   "cell_type": "code",
   "execution_count": null,
   "metadata": {},
   "outputs": [],
   "source": [
    "P=np.matmul(U,V)\n",
    "#Put M_sub into P\n",
    "P_unnorm= # TODO\n",
    "RMSE(M,P_unnorm)"
   ]
  }
 ],
 "metadata": {
  "kernelspec": {
   "display_name": "Python 3",
   "language": "python",
   "name": "python3"
  },
  "language_info": {
   "codemirror_mode": {
    "name": "ipython",
    "version": 3
   },
   "file_extension": ".py",
   "mimetype": "text/x-python",
   "name": "python",
   "nbconvert_exporter": "python",
   "pygments_lexer": "ipython3",
   "version": "3.7.10"
  }
 },
 "nbformat": 4,
 "nbformat_minor": 2
}
