{
 "cells": [
  {
   "cell_type": "markdown",
   "metadata": {},
   "source": [
    "# Notebook 22: Outliers\n",
    "***\n",
    "\n",
    "In this notebook, we will take a closer look at the common Box-Cox transformation to transform non-normal data into something that is roughly normally distributed. There are many algorithms that rely on the assumption that the data being fed into the algorithm is normally distributed, so the Box-Cox transformation is frequently employed to satisfy these assumptions.\n",
    "\n",
    "We'll need Numpy, Scipy-stats, Pandas and Pyplot for this notebook, so let's load them."
   ]
  },
  {
   "cell_type": "code",
   "execution_count": 1,
   "metadata": {},
   "outputs": [],
   "source": [
    "import numpy as np\n",
    "import pandas as pd\n",
    "import scipy.stats as stats\n",
    "import matplotlib.pyplot as plt\n",
    "%matplotlib inline"
   ]
  },
  {
   "cell_type": "markdown",
   "metadata": {},
   "source": [
    "<br>\n",
    "\n",
    "### Exercise 1: Box-Cox Transformations\n",
    "\n",
    "Read in the data set `boxcox.csv` and plot a histogram of the data. Describe the data set using words like \"normal\", \"skewed\" and \"wacky\"."
   ]
  },
  {
   "cell_type": "code",
   "execution_count": 2,
   "metadata": {},
   "outputs": [
    {
     "data": {
      "image/png": "[encoded data removed]",
      "text/plain": [
       "<matplotlib.figure.Figure at 0x212d2015f28>"
      ]
     },
     "metadata": {},
     "output_type": "display_data"
    }
   ],
   "source": [
    "dfY = pd.read_csv(\"../data/boxcox.csv\", header=None)\n",
    "dfY.head()\n",
    "\n",
    "plt.hist(dfY[0], edgecolor=\"white\")\n",
    "plt.xlabel(\"Y\")\n",
    "plt.ylabel(\"Frequency\")\n",
    "plt.title(\"Original non-normal data\");"
   ]
  },
  {
   "cell_type": "markdown",
   "metadata": {},
   "source": [
    "The data is decidedly non-normal, so before we try to weed out any outliers using Z-scores, we need to perform the Box-Cox transformation on this original data set $Y$. Recall, however, that the Box-Cox transformation depends on the parameter $\\lambda$ to transform $Y$ into an approximately normally distributed set of data, $Y'$:\n",
    "$$Y' = \\begin{cases} \\dfrac{Y^\\lambda -1}{\\lambda} & \\lambda \\neq 0 \\\\ \\ln{Y} & \\lambda = 0 \\end{cases}$$\n",
    "\n",
    "Try out a few values of $\\lambda$. (Hint: it is not $\\lambda = 0$.) Here's a try using $\\lambda = 1$:"
   ]
  },
  {
   "cell_type": "code",
   "execution_count": 3,
   "metadata": {},
   "outputs": [
    {
     "data": {
      "image/png": "[encoded data removed]",
      "text/plain": [
       "<matplotlib.figure.Figure at 0x212d2092a90>"
      ]
     },
     "metadata": {},
     "output_type": "display_data"
    }
   ],
   "source": [
    "lam = 1\n",
    "Yp = ((dfY[0]**lam)-1)/lam\n",
    "\n",
    "plt.hist(Yp, edgecolor=\"white\")\n",
    "plt.xlabel(\"Y'\")\n",
    "plt.ylabel(\"Frequency\")\n",
    "plt.title(\"Data transformed using $\\lambda$ = {}\".format(lam));"
   ]
  },
  {
   "cell_type": "markdown",
   "metadata": {},
   "source": [
    "Do you have a guess as to what $\\lambda$ was used to create this data set? Come up with a guess, and argue loudly with your neighbors about whose guess is best.\n",
    "\n",
    "<br>\n",
    "\n",
    "Done arguing?  Great!\n",
    "\n",
    "We can use the Scipy-stats function [stats.boxcox_llf](https://docs.scipy.org/doc/scipy/reference/generated/scipy.stats.boxcox_llf.html#scipy.stats.boxcox_llf) to compute the value of the log-likelihood function for the data set, given a particular estimate for the $\\lambda$ parameter. Plug in the original data set, and your and your neighbors' guesses for $\\lambda$ to see who was the closest to the value that maximizes the log-likelihood function!"
   ]
  },
  {
   "cell_type": "code",
   "execution_count": 4,
   "metadata": {},
   "outputs": [
    {
     "name": "stdout",
     "output_type": "stream",
     "text": [
      "Log-likelihood(1) = -354.0284\n"
     ]
    }
   ],
   "source": [
    "lambda_guess = 1\n",
    "llf = stats.boxcox_llf(data=dfY[0], lmb=lambda_guess)\n",
    "print(\"Log-likelihood({}) = {:0.4f}\".format(lambda_guess, llf))"
   ]
  },
  {
   "cell_type": "markdown",
   "metadata": {},
   "source": [
    "Now we can use the handy `stats.boxcox` function to actually perform maximum likelihood estimation for the $\\lambda$ parameter:"
   ]
  },
  {
   "cell_type": "code",
   "execution_count": 5,
   "metadata": {},
   "outputs": [
    {
     "name": "stdout",
     "output_type": "stream",
     "text": [
      "0.331269937719789\n"
     ]
    }
   ],
   "source": [
    "Yp, lambda_hat = stats.boxcox(dfY[0])\n",
    "print(lambda_hat)"
   ]
  },
  {
   "cell_type": "markdown",
   "metadata": {},
   "source": [
    "How much better is this than other values of $\\lambda$?  Use the `stats.boxcox_llf` function above but now evaluate it at a grid (or `linspace`) of lambda values spanning all the way from $[-4,4]$.  Is this a global maximum or a local one?"
   ]
  },
  {
   "cell_type": "code",
   "execution_count": null,
   "metadata": {},
   "outputs": [],
   "source": []
  },
  {
   "cell_type": "markdown",
   "metadata": {},
   "source": [
    "Now, make a histogram of the transformed data, using Yp from the `stats.boxcox` line above.\n"
   ]
  },
  {
   "cell_type": "code",
   "execution_count": null,
   "metadata": {},
   "outputs": [],
   "source": [
    "\n"
   ]
  },
  {
   "cell_type": "markdown",
   "metadata": {},
   "source": [
    "Horray! Looks pretty normal to me!"
   ]
  },
  {
   "cell_type": "markdown",
   "metadata": {},
   "source": [
    "<br>\n",
    "\n",
    "### Exercise 2: The Hunt for Outliers\n",
    "\n",
    "Let's now analyze the transformed data set to find any potential outliers. We will use a threshold of 3 standard deviations away from the mean as our cutoff for labeling a data point as a potential outlier. Let's transform the data from our approximately normal transformed data set, $Y'$, into Z-scores:"
   ]
  },
  {
   "cell_type": "code",
   "execution_count": 6,
   "metadata": {},
   "outputs": [],
   "source": [
    "Z = (Yp-Yp.mean())/Yp.std(ddof=1)"
   ]
  },
  {
   "cell_type": "markdown",
   "metadata": {},
   "source": [
    "First, **a theoretical interlude**.\n",
    "\n",
    "The Z-score represents how many standard deviations each data point is from their sample mean. Suppose we had an infinite supply of normal random samples. Just by random chance, what percentage of them do we expect to be more than 3 standard deviations away from their mean?"
   ]
  },
  {
   "cell_type": "code",
   "execution_count": 7,
   "metadata": {},
   "outputs": [],
   "source": [
    "# SOLUTION:"
   ]
  },
  {
   "cell_type": "markdown",
   "metadata": {},
   "source": [
    "**Solution:**\n",
    "\n",
    "We expect to see about 0.27% of the samples outside of 3 standard deviations by random chance."
   ]
  },
  {
   "cell_type": "markdown",
   "metadata": {},
   "source": [
    "Find the indices of the data points where the transformed values are more than 3 standard deviations away from their mean. Which original data points are the potential outliers? How many of these potential outliers are there? Compare this proportion to the proportion you'd expect to see just be random chance."
   ]
  },
  {
   "cell_type": "code",
   "execution_count": 8,
   "metadata": {},
   "outputs": [],
   "source": [
    "# SOLUTION:"
   ]
  },
  {
   "cell_type": "markdown",
   "metadata": {},
   "source": [
    "**Moral of the story:** We kept referring to the data points outside of 3 standard deviations as *potential* outliers because we are rarely 100% certain that they are outliers and not generated by the same process as the rest of the data. Outlier detection results must be treated with a grain of salt because just by random chance, we will see extreme measurements."
   ]
  },
  {
   "cell_type": "markdown",
   "metadata": {},
   "source": [
    "<br>\n",
    "\n",
    "# -- code to generate the data set for the exercises --\n",
    "\n",
    "<br>"
   ]
  },
  {
   "cell_type": "code",
   "execution_count": 9,
   "metadata": {},
   "outputs": [
    {
     "data": {
      "image/png": "[encoded data removed]",
      "text/plain": [
       "<matplotlib.figure.Figure at 0x212d34d6668>"
      ]
     },
     "metadata": {},
     "output_type": "display_data"
    }
   ],
   "source": [
    "np.random.seed(4)\n",
    "mu = 6.2\n",
    "sig2 = 3.1\n",
    "lam = 0.3\n",
    "n = 100 # number of data points total\n",
    "n_out = 4 # number of outliers artificially added\n",
    "n_norm = n - n_out # number of data points from the normal distribution\n",
    "x_norm = stats.norm.rvs(loc=mu, scale=np.sqrt(sig2), size=n_norm)\n",
    "x_out_hi = stats.uniform.rvs(loc=mu+3*np.sqrt(sig2), scale=2*np.sqrt(sig2), size=n_out-1)\n",
    "x_out_lo = stats.uniform.rvs(loc=mu-5*np.sqrt(sig2), scale=2*np.sqrt(sig2), size=1)\n",
    "x = np.concatenate((x_norm, x_out_hi, x_out_lo))\n",
    "idx_shuffle = np.random.choice(range(len(x)), size=len(x), replace=False)\n",
    "x = x[idx_shuffle]\n",
    "y = (lam*x + 1)**(1/lam)\n",
    "\n",
    "plt.hist(y, edgecolor=\"white\");\n",
    "\n",
    "pd.DataFrame(y).to_csv(\"../data/boxcox.csv\", index=False, header=False)"
   ]
  },
  {
   "cell_type": "code",
   "execution_count": 10,
   "metadata": {},
   "outputs": [
    {
     "data": {
      "text/html": [
       "<div>\n",
       "<style scoped>\n",
       "    .dataframe tbody tr th:only-of-type {\n",
       "        vertical-align: middle;\n",
       "    }\n",
       "\n",
       "    .dataframe tbody tr th {\n",
       "        vertical-align: top;\n",
       "    }\n",
       "\n",
       "    .dataframe thead th {\n",
       "        text-align: right;\n",
       "    }\n",
       "</style>\n",
       "<table border=\"1\" class=\"dataframe\">\n",
       "  <thead>\n",
       "    <tr style=\"text-align: right;\">\n",
       "      <th></th>\n",
       "      <th>0</th>\n",
       "    </tr>\n",
       "  </thead>\n",
       "  <tbody>\n",
       "    <tr>\n",
       "      <th>0</th>\n",
       "      <td>15.875682</td>\n",
       "    </tr>\n",
       "    <tr>\n",
       "      <th>1</th>\n",
       "      <td>52.625530</td>\n",
       "    </tr>\n",
       "    <tr>\n",
       "      <th>2</th>\n",
       "      <td>36.557848</td>\n",
       "    </tr>\n",
       "    <tr>\n",
       "      <th>3</th>\n",
       "      <td>34.197832</td>\n",
       "    </tr>\n",
       "    <tr>\n",
       "      <th>4</th>\n",
       "      <td>23.584636</td>\n",
       "    </tr>\n",
       "  </tbody>\n",
       "</table>\n",
       "</div>"
      ],
      "text/plain": [
       "           0\n",
       "0  15.875682\n",
       "1  52.625530\n",
       "2  36.557848\n",
       "3  34.197832\n",
       "4  23.584636"
      ]
     },
     "execution_count": 10,
     "metadata": {},
     "output_type": "execute_result"
    }
   ],
   "source": [
    "# Check it created the CSV nicely:\n",
    "dfY = pd.read_csv(\"../data/boxcox.csv\", header=None)\n",
    "dfY.head()"
   ]
  },
  {
   "cell_type": "markdown",
   "metadata": {},
   "source": [
    "Take a look at the above code.  Did you find all of the outliers?  Why or why not?  Plot the histogram of $Y$ again, but add markers for where the 4 true outliers were.  What does this say about finding outliers in general?"
   ]
  },
  {
   "cell_type": "markdown",
   "metadata": {},
   "source": [
    "### Exercise 3: Using an iForest\n",
    "\n",
    "Rather than implementing an iForest by hand, let's see if we can recover our outliers in the data set above using random forests.  Take a look at the documentation for sci-kit learn's iForest function.\n"
   ]
  },
  {
   "cell_type": "code",
   "execution_count": 11,
   "metadata": {},
   "outputs": [],
   "source": [
    "from sklearn.ensemble import IsolationForest"
   ]
  },
  {
   "cell_type": "code",
   "execution_count": 31,
   "metadata": {},
   "outputs": [
    {
     "data": {
      "text/plain": [
       "array([-0.03062387])"
      ]
     },
     "execution_count": 31,
     "metadata": {},
     "output_type": "execute_result"
    }
   ],
   "source": [
    "y_forest=IsolationForest(contamination=.1).fit(dfY) #try also 'auto' for contamination\n",
    "y_forest.predict(dfY)  #classifier; or we could extract anomoly scores directly.\n",
    "#Usage NB: Can do training/holdout sets by using fit() on training set and predict() on holdout.\n",
    "y_forest.decision_function()"
   ]
  },
  {
   "cell_type": "markdown",
   "metadata": {},
   "source": [
    "Compare the indices flagged by the sk-learn iForest to those you found above.  What value(s) of \"contamination\" proportion give you the closest results to the actual generated data?"
   ]
  },
  {
   "cell_type": "code",
   "execution_count": null,
   "metadata": {},
   "outputs": [],
   "source": []
  }
 ],
 "metadata": {
  "kernelspec": {
   "display_name": "Python 3",
   "language": "python",
   "name": "python3"
  },
  "language_info": {
   "codemirror_mode": {
    "name": "ipython",
    "version": 3
   },
   "file_extension": ".py",
   "mimetype": "text/x-python",
   "name": "python",
   "nbconvert_exporter": "python",
   "pygments_lexer": "ipython3",
   "version": "3.7.10"
  }
 },
 "nbformat": 4,
 "nbformat_minor": 2
}
